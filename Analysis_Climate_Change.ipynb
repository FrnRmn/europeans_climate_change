{
 "cells": [
  {
   "cell_type": "markdown",
   "metadata": {},
   "source": [
    "### Imports and loadings"
   ]
  },
  {
   "cell_type": "code",
   "execution_count": 26,
   "metadata": {},
   "outputs": [],
   "source": [
    "import pandas as pd\n",
    "import numpy as np\n",
    "import matplotlib.pyplot as plt\n",
    "import plotly.express as px\n",
    "import matplotlib.colors as mcolors\n",
    "from pycountry_convert import country_alpha2_to_country_name, country_name_to_country_alpha3\n",
    "from scipy.stats import pearsonr\n",
    "from weighted_counts import weighted_value_counts,weighted_country_value_counts\n",
    "pd.options.mode.chained_assignment = None  # default='warn'\n",
    "%matplotlib inline\n",
    "\n",
    "#color palette\n",
    "colormap_clmchng = ['#0474BA','#00A7E1', '#FFA630', '#F17720']\n",
    "colormap_clmchng_r = colormap_clmchng.copy(); colormap_clmchng_r.reverse()\n",
    "colormap_ccnthum = ['#32c377','#009f95','#0076a3','#004b92','#041c62']\n",
    "colormap_ccrdprs = ['#c37732', '#c35a32','#bc4742','#af3750','#9c2e5c','#832b65','#672c69','#462c68','#202b62','#101041','#08042a']\n",
    "\n",
    "#import csv\n",
    "df_full = pd.read_csv('./ESS8e02.1_F1.csv',low_memory=False)"
   ]
  },
  {
   "cell_type": "markdown",
   "metadata": {},
   "source": [
    "Since Pandas values_count() doensn't seem to support a weighted count I have rewrited two versions of this function."
   ]
  },
  {
   "cell_type": "code",
   "execution_count": 4,
   "metadata": {},
   "outputs": [],
   "source": [
    "{\n",
    "    \"tags\": [\n",
    "        \"hide-input\",\n",
    "    ]\n",
    "}\n",
    "\n",
    "def weighted_value_counts(df_col,w):\n",
    "    labels = [np.NaN]\n",
    "    counts = [0]\n",
    "\n",
    "    l_w = list(w)\n",
    "\n",
    "    for o,obs in enumerate(df_col):\n",
    "\n",
    "        #count\n",
    "        w_count = l_w[o]\n",
    "\n",
    "        if np.isnan(obs):\n",
    "            #update count\n",
    "            counts[0] += w_count\n",
    "        else:\n",
    "            #if new append label and count\n",
    "            if not obs in labels:\n",
    "                labels.append(obs)\n",
    "                counts.append(w_count)\n",
    "            else:\n",
    "                #update count\n",
    "                counts[labels.index(obs)] += w_count\n",
    "\n",
    "    return pd.Series(counts, index=labels, name=df_col.name)\n",
    "\n",
    "def weighted_country_value_counts(df_country_col1, df_col2,w):\n",
    "    labels1 = [np.NaN]\n",
    "    labels2 = [np.NaN]\n",
    "    counts = [0]\n",
    "\n",
    "    l_col2 = list(df_col2)\n",
    "    l_w = list(w)\n",
    "\n",
    "    for o1,obs1 in enumerate(df_country_col1):\n",
    "        \n",
    "        #col2\n",
    "        obs2 = l_col2[o1]\n",
    "\n",
    "        #count\n",
    "        w_count = l_w[o1]\n",
    "\n",
    "        if np.isnan(obs2):\n",
    "            #update count\n",
    "            counts[0] += w_count\n",
    "        else:\n",
    "            #if new append labels and count\n",
    "            if (not obs1 in labels1) or (not obs2 in labels2) or not(obs2 in [labels2[i] for i in [i for i, x in enumerate(labels1) if x == obs1]]):\n",
    "                labels1.append(obs1)\n",
    "                labels2.append(obs2)\n",
    "                counts.append(w_count)\n",
    "            else:\n",
    "                #print(labels1);print(labels2);print(counts);print(obs1);print(obs2)\n",
    "                count_indx = list(set([i for i, x in enumerate(labels1) if x == obs1]).intersection([i for i, x in enumerate(labels2) if x == obs2]))\n",
    "                #update count\n",
    "                counts[count_indx[0]] += w_count\n",
    "\n",
    "    return pd.Series(counts, index=[labels1,labels2])   #name={df_country_col1.name,df_col2.name}"
   ]
  },
  {
   "cell_type": "markdown",
   "metadata": {},
   "source": [
    "### Analysis"
   ]
  },
  {
   "cell_type": "code",
   "execution_count": 5,
   "metadata": {},
   "outputs": [
    {
     "data": {
      "text/html": [
       "<div>\n",
       "<style scoped>\n",
       "    .dataframe tbody tr th:only-of-type {\n",
       "        vertical-align: middle;\n",
       "    }\n",
       "\n",
       "    .dataframe tbody tr th {\n",
       "        vertical-align: top;\n",
       "    }\n",
       "\n",
       "    .dataframe thead th {\n",
       "        text-align: right;\n",
       "    }\n",
       "</style>\n",
       "<table border=\"1\" class=\"dataframe\">\n",
       "  <thead>\n",
       "    <tr style=\"text-align: right;\">\n",
       "      <th></th>\n",
       "      <th>cntry</th>\n",
       "      <th>pspwght</th>\n",
       "      <th>pweight</th>\n",
       "      <th>clmchng</th>\n",
       "      <th>ccnthum</th>\n",
       "      <th>ccrdprs</th>\n",
       "      <th>anwght</th>\n",
       "    </tr>\n",
       "  </thead>\n",
       "  <tbody>\n",
       "    <tr>\n",
       "      <th>0</th>\n",
       "      <td>AT</td>\n",
       "      <td>1.178496</td>\n",
       "      <td>0.370393</td>\n",
       "      <td>1.0</td>\n",
       "      <td>4.0</td>\n",
       "      <td>8.0</td>\n",
       "      <td>0.436506</td>\n",
       "    </tr>\n",
       "    <tr>\n",
       "      <th>1</th>\n",
       "      <td>AT</td>\n",
       "      <td>0.899472</td>\n",
       "      <td>0.370393</td>\n",
       "      <td>1.0</td>\n",
       "      <td>4.0</td>\n",
       "      <td>7.0</td>\n",
       "      <td>0.333158</td>\n",
       "    </tr>\n",
       "    <tr>\n",
       "      <th>2</th>\n",
       "      <td>AT</td>\n",
       "      <td>0.315753</td>\n",
       "      <td>0.370393</td>\n",
       "      <td>1.0</td>\n",
       "      <td>4.0</td>\n",
       "      <td>8.0</td>\n",
       "      <td>0.116953</td>\n",
       "    </tr>\n",
       "    <tr>\n",
       "      <th>3</th>\n",
       "      <td>AT</td>\n",
       "      <td>0.472467</td>\n",
       "      <td>0.370393</td>\n",
       "      <td>2.0</td>\n",
       "      <td>3.0</td>\n",
       "      <td>6.0</td>\n",
       "      <td>0.174999</td>\n",
       "    </tr>\n",
       "    <tr>\n",
       "      <th>4</th>\n",
       "      <td>AT</td>\n",
       "      <td>2.246706</td>\n",
       "      <td>0.370393</td>\n",
       "      <td>1.0</td>\n",
       "      <td>4.0</td>\n",
       "      <td>6.0</td>\n",
       "      <td>0.832164</td>\n",
       "    </tr>\n",
       "  </tbody>\n",
       "</table>\n",
       "</div>"
      ],
      "text/plain": [
       "  cntry   pspwght   pweight  clmchng  ccnthum  ccrdprs    anwght\n",
       "0    AT  1.178496  0.370393      1.0      4.0      8.0  0.436506\n",
       "1    AT  0.899472  0.370393      1.0      4.0      7.0  0.333158\n",
       "2    AT  0.315753  0.370393      1.0      4.0      8.0  0.116953\n",
       "3    AT  0.472467  0.370393      2.0      3.0      6.0  0.174999\n",
       "4    AT  2.246706  0.370393      1.0      4.0      6.0  0.832164"
      ]
     },
     "execution_count": 5,
     "metadata": {},
     "output_type": "execute_result"
    }
   ],
   "source": [
    "#The dataset is big, we only need a portion of it\n",
    "df = df_full[['cntry','pspwght','pweight','clmchng','ccnthum','ccrdprs']]\n",
    "# cntry: country, pspwght: post-stratification weight, pweight: population weight\n",
    "# clmchng: World's climate is changing? 1:Yes 4:No >4:null\n",
    "# ccnthum: Climate change is caused by nature or human activity? 1:Nature 5:Human >5:null\n",
    "# ccrdprs: Personal responsibility to try to reduce climate change? 0:No 10:Yes >10:null\n",
    "\n",
    "#add a new column as the combination between post-stratification weights and population weights\n",
    "df['anwght'] = df['pspwght'] * df['pweight']\n",
    "\n",
    "#consider \"Not applicable\", \"Refusal\", \"Don't know\", \"No answer\" and other answers as missing values \n",
    "df['clmchng'].replace(dict.fromkeys([7,8,9],np.NaN),inplace=True) \n",
    "df['ccnthum'].replace(dict.fromkeys([55,66,77,88,99],np.NaN),inplace=True)\n",
    "df['ccrdprs'].replace(dict.fromkeys([66,77,88,99],np.NaN),inplace=True)\n",
    "\n",
    "df.head()"
   ]
  },
  {
   "cell_type": "markdown",
   "metadata": {},
   "source": [
    "#### Looking behind the consensus"
   ]
  },
  {
   "cell_type": "markdown",
   "metadata": {},
   "source": [
    "What is the proportion of people recognizing climate change? (answers 1 or 2)"
   ]
  },
  {
   "cell_type": "code",
   "execution_count": 6,
   "metadata": {},
   "outputs": [
    {
     "data": {
      "image/png": "[encoded data removed]",
      "text/plain": [
       "<Figure size 432x288 with 1 Axes>"
      ]
     },
     "metadata": {
      "needs_background": "light"
     },
     "output_type": "display_data"
    }
   ],
   "source": [
    "#plot a bar chart\n",
    "clmchng_w_count = weighted_value_counts(df['clmchng'],df['anwght'])[1:]\n",
    "plt.bar(sorted(df['clmchng'].unique().astype(int))[1:],clmchng_w_count, color=colormap_clmchng)\n",
    "plt.title(\"World's climate is changing?\")\n",
    "plt.ylabel(\"Count\")\n",
    "plt.xlabel(\"1:Definitely - 2:Probably - 3:Probably not - 4:Definitely not\")\n",
    "plt.xticks(sorted(df['clmchng'].unique().astype(int))[1:]);"
   ]
  },
  {
   "cell_type": "code",
   "execution_count": 7,
   "metadata": {},
   "outputs": [
    {
     "name": "stdout",
     "output_type": "stream",
     "text": [
      "The proportion of people recognizing climate change is: 91.9%\n"
     ]
    },
    {
     "data": {
      "image/png": "[encoded data removed]",
      "text/plain": [
       "<Figure size 432x288 with 1 Axes>"
      ]
     },
     "metadata": {},
     "output_type": "display_data"
    }
   ],
   "source": [
    "#plot a pie chart\n",
    "clmchng_yes = round(clmchng_w_count[1:2].sum() / clmchng_w_count.sum() *100,1)\n",
    "plt.pie(clmchng_w_count,colors=colormap_clmchng);\n",
    "plt.annotate(text=str(clmchng_yes)+\"%\", xy=(-0.8,-0.1), weight='bold', fontsize=20, color='white');\n",
    "plt.title(\"World's climate is changing?\");\n",
    "plt.legend([\"Definitely\", \"Probably\" ,\"Probably not\",\"Definitely not\"], loc='upper right',bbox_to_anchor=(1.5, 1.5));\n",
    "print(\"The proportion of people recognizing climate change is: \" +str(clmchng_yes)+ \"%\")"
   ]
  },
  {
   "cell_type": "markdown",
   "metadata": {},
   "source": [
    "Among the precedent group, what is the proportion of people recognizing human origins of climate change? (answers 4 or 5)"
   ]
  },
  {
   "cell_type": "code",
   "execution_count": 8,
   "metadata": {},
   "outputs": [
    {
     "data": {
      "image/png": "[encoded data removed]",
      "text/plain": [
       "<Figure size 432x288 with 1 Axes>"
      ]
     },
     "metadata": {
      "needs_background": "light"
     },
     "output_type": "display_data"
    }
   ],
   "source": [
    "#plot a bar chart\n",
    "df_91_9 = df[df['clmchng'].isin([1,2])] #select the precedent sub-group\n",
    "ccnthum91_9_w_count = weighted_value_counts(df_91_9['ccnthum'],df['anwght']).sort_index().drop(np.NaN)\n",
    "plt.bar(sorted(df_91_9['ccnthum'].unique().astype(int))[1:],ccnthum91_9_w_count, color=colormap_ccnthum)\n",
    "plt.title(\"Human or nature cause?\")\n",
    "plt.ylabel(\"Count\")\n",
    "plt.xlabel(\"1:Entirely by natural processes - 3:Both equally - 5:Entirely by human activity\")\n",
    "plt.xticks(sorted(df_91_9['ccnthum'].unique().astype(int))[1:]);"
   ]
  },
  {
   "cell_type": "code",
   "execution_count": 9,
   "metadata": {},
   "outputs": [
    {
     "name": "stdout",
     "output_type": "stream",
     "text": [
      "Among the precedent group, the proportion of people recognizing human origins of climate change is: 44.8%\n"
     ]
    },
    {
     "data": {
      "image/png": "[encoded data removed]",
      "text/plain": [
       "<Figure size 432x288 with 1 Axes>"
      ]
     },
     "metadata": {},
     "output_type": "display_data"
    }
   ],
   "source": [
    "#plot a pie chart\n",
    "ccnthum91_9_yes = round(ccnthum91_9_w_count[4:5].sum() / ccnthum91_9_w_count.sum() *100,1)\n",
    "plt.pie(ccnthum91_9_w_count,colors=colormap_ccnthum);\n",
    "plt.annotate(text=str(ccnthum91_9_yes)+\"%\", xy=(-0.1,-0.5), weight='bold', fontsize=20, color='white');\n",
    "plt.title(\"Human or nature cause?\");\n",
    "plt.legend([\"Entirely by natural processes\", \"Mainly by natural processes\" ,\"About equally\",\"Mainly by human activity\", \"Entirely by human activity\"], loc='upper right',bbox_to_anchor=(1.5, 1.5));\n",
    "print(\"Among the precedent group, the proportion of people recognizing human origins of climate change is: \" +str(ccnthum91_9_yes)+ \"%\")"
   ]
  },
  {
   "cell_type": "markdown",
   "metadata": {},
   "source": [
    "Among the precedent group, what is the proportion of people feeling a personal responsibility to try to reduce climate change? (answers >6)"
   ]
  },
  {
   "cell_type": "code",
   "execution_count": 10,
   "metadata": {},
   "outputs": [
    {
     "data": {
      "image/png": "[encoded data removed]",
      "text/plain": [
       "<Figure size 432x288 with 1 Axes>"
      ]
     },
     "metadata": {
      "needs_background": "light"
     },
     "output_type": "display_data"
    }
   ],
   "source": [
    "#plot a bar chart\n",
    "df_44_8 = df_91_9[df_91_9['ccnthum'].isin([4,5])] #select the precedent sub-group\n",
    "ccrdprs44_8_w_count = weighted_value_counts(df_44_8['ccrdprs'],df['anwght']).sort_index().drop(np.NaN)\n",
    "plt.bar(sorted(df_44_8['ccrdprs'].unique().astype(int))[1:],ccrdprs44_8_w_count, color=colormap_ccrdprs)\n",
    "plt.title(\"Personal responsibility?\")\n",
    "plt.ylabel(\"Count\")\n",
    "plt.xlabel(\"0:Not at all - 10:A great deal\")\n",
    "plt.xticks(sorted(df_44_8['ccrdprs'].unique().astype(int))[1:]);"
   ]
  },
  {
   "cell_type": "code",
   "execution_count": 11,
   "metadata": {},
   "outputs": [
    {
     "name": "stdout",
     "output_type": "stream",
     "text": [
      "Among the precedent group, the proportion of people feeling a personal responsibility to try to reduce climate change is: 53.2%\n"
     ]
    },
    {
     "data": {
      "image/png": "[encoded data removed]",
      "text/plain": [
       "<Figure size 432x288 with 1 Axes>"
      ]
     },
     "metadata": {},
     "output_type": "display_data"
    }
   ],
   "source": [
    "#plot a pie chart\n",
    "ccrdprs44_8_yes = round(ccrdprs44_8_w_count[7:10].sum() / ccrdprs44_8_w_count.sum() *100,1)\n",
    "plt.pie(ccrdprs44_8_w_count,colors=colormap_ccrdprs);\n",
    "plt.annotate(text=str(ccrdprs44_8_yes)+\"%\", xy=(-0.27,-0.5), weight='bold', fontsize=20, color='white');\n",
    "plt.title(\"Personal responsibility?\");\n",
    "plt.legend([\"Not at all\", \"1\",\"2\" ,\"3\",\"4\", \"5\", \"6\", \"7\", \"8\", \"9\", \"A great deal\"], loc='upper right',bbox_to_anchor=(2, 1.5), ncol=2);\n",
    "print(\"Among the precedent group, the proportion of people feeling a personal responsibility to try to reduce climate change is: \" +str(ccrdprs44_8_yes)+ \"%\")"
   ]
  },
  {
   "cell_type": "markdown",
   "metadata": {},
   "source": [
    "#### Is it the same everywhere?"
   ]
  },
  {
   "cell_type": "code",
   "execution_count": 12,
   "metadata": {},
   "outputs": [],
   "source": [
    "#count the values separately for each country\n",
    "clmchng_weighted_count = weighted_country_value_counts(df['cntry'],df['clmchng'],df['pspwght']).drop(np.NaN).sort_index()\n",
    "df_yes_clmchng = df[df['clmchng'].isin([1,2])]  #select the precedent sub-group\n",
    "ccnthum_weighted_count = weighted_country_value_counts(df_yes_clmchng['cntry'],df_yes_clmchng['ccnthum'],df_yes_clmchng['pspwght']).drop(np.NaN).sort_index()\n",
    "df_yes_ccnthum = df_yes_clmchng[df_yes_clmchng['ccnthum'].isin([4,5])]  #select the precedent sub-group\n",
    "ccrdprs_weighted_count = weighted_country_value_counts(df_yes_ccnthum['cntry'],df_yes_ccnthum['ccrdprs'],df_yes_ccnthum['pspwght']).drop(np.NaN).sort_index()"
   ]
  },
  {
   "cell_type": "code",
   "execution_count": 13,
   "metadata": {},
   "outputs": [
    {
     "data": {
      "image/png": "[encoded data removed]",
      "text/plain": [
       "<Figure size 720x720 with 1 Axes>"
      ]
     },
     "metadata": {
      "needs_background": "light"
     },
     "output_type": "display_data"
    }
   ],
   "source": [
    "#count the proportion of people recognizing climate change in each country\n",
    "clmchng_yes_countries = []\n",
    "for c,country in enumerate(df['cntry'].unique()):\n",
    "    c_w_count = clmchng_weighted_count[country]\n",
    "    clmchng_yes_countries.append(round(c_w_count[1:2].sum() / c_w_count.sum() *100,1))\n",
    "\n",
    "#create a continuous colormap from previous discrete colormap\n",
    "colormap_clmchng = ['#0474BA','#00A7E1', '#FFA630', '#F17720']\n",
    "clist = [(0, colormap_clmchng[3]), (0.8, colormap_clmchng[3]), (0.85,colormap_clmchng[2]),(1, colormap_clmchng[0])]\n",
    "rvb = mcolors.LinearSegmentedColormap.from_list(\"\", clist)\n",
    "\n",
    "#order countries in descending order\n",
    "sort_id = np.argsort(-np.array(clmchng_yes_countries))\n",
    "\n",
    "#plot bar chart\n",
    "plt.figure(figsize=(10,10))\n",
    "plt.bar(df['cntry'].unique()[sort_id],sorted(clmchng_yes_countries, reverse=True), color=rvb(np.array(sorted(clmchng_yes_countries, reverse=True))/100));\n",
    "plt.title(\"World's climate is changing?\")\n",
    "plt.ylabel(\"Proportion of people answering 'Definitely' or 'Probably'\");"
   ]
  },
  {
   "cell_type": "code",
   "execution_count": 14,
   "metadata": {},
   "outputs": [
    {
     "data": {
      "image/png": "[encoded data removed]",
      "text/plain": [
       "<Figure size 720x720 with 1 Axes>"
      ]
     },
     "metadata": {
      "needs_background": "light"
     },
     "output_type": "display_data"
    }
   ],
   "source": [
    "#count the proportion of people recognizing human origins of climate change\n",
    "ccnthum_yes_countries = []\n",
    "for c,country in enumerate(df_yes_clmchng['cntry'].unique()):\n",
    "    c_w_count = ccnthum_weighted_count[country]\n",
    "    ccnthum_yes_countries.append(round(c_w_count[4:5].sum() / c_w_count.sum() *100,1))\n",
    "\n",
    "#create a continuous colormap from previous discrete colormap\n",
    "clist = [(0, colormap_ccnthum[0]), (0.25, colormap_ccnthum[0]), (0.50, colormap_ccnthum[3]),(0.75,colormap_ccnthum[4]),(1, colormap_ccnthum[4])]\n",
    "rvb = mcolors.LinearSegmentedColormap.from_list(\"\", clist)\n",
    "\n",
    "#order countries in descending order\n",
    "sort_id = np.argsort(-np.array(ccnthum_yes_countries))\n",
    "\n",
    "#plot bar chart\n",
    "plt.figure(figsize=(10,10))\n",
    "plt.bar(df_yes_clmchng['cntry'].unique()[sort_id],sorted(ccnthum_yes_countries, reverse=True), color=rvb(np.array(sorted(ccnthum_yes_countries, reverse=True))/100));\n",
    "plt.title(\"Human or nature cause?\")\n",
    "plt.ylabel(\"Proportion of people answering 'Entirely by human activity' or 'Mainly by human activity'\");"
   ]
  },
  {
   "cell_type": "code",
   "execution_count": 15,
   "metadata": {},
   "outputs": [
    {
     "data": {
      "image/png": "[encoded data removed]",
      "text/plain": [
       "<Figure size 720x720 with 1 Axes>"
      ]
     },
     "metadata": {
      "needs_background": "light"
     },
     "output_type": "display_data"
    }
   ],
   "source": [
    "#count the proportion of people feeling a personal responsibility to try to reduce climate change\n",
    "ccrdprs_yes_countries = []\n",
    "for c,country in enumerate(df_yes_ccnthum['cntry'].unique()):\n",
    "    c_w_count = ccrdprs_weighted_count[country]\n",
    "    ccrdprs_yes_countries.append(round(c_w_count[7:].sum() / c_w_count.sum() *100,1))\n",
    "\n",
    "#create a continuous colormap from previous discrete colormap\n",
    "clist = [(0, colormap_ccrdprs[0]), (0.25, colormap_ccrdprs[0]), (0.50, colormap_ccrdprs[6]),(0.75,colormap_ccrdprs[10]),(1, colormap_ccrdprs[10])]\n",
    "rvb = mcolors.LinearSegmentedColormap.from_list(\"\", clist)\n",
    "\n",
    "#order countries in descending order\n",
    "sort_id = np.argsort(-np.array(ccrdprs_yes_countries))\n",
    "\n",
    "#plot bar chart\n",
    "plt.figure(figsize=(10,10))\n",
    "plt.bar(df_yes_ccnthum['cntry'].unique()[sort_id],sorted(ccrdprs_yes_countries, reverse=True), color=rvb(np.array(sorted(ccrdprs_yes_countries, reverse=True))/100));\n",
    "plt.title(\"Personal responsibility?\");\n",
    "plt.ylabel(\"Proportion of people answering more or equal 7 out of 10\");"
   ]
  },
  {
   "cell_type": "code",
   "execution_count": 16,
   "metadata": {},
   "outputs": [
    {
     "data": {
      "text/html": [
       "<div>\n",
       "<style scoped>\n",
       "    .dataframe tbody tr th:only-of-type {\n",
       "        vertical-align: middle;\n",
       "    }\n",
       "\n",
       "    .dataframe tbody tr th {\n",
       "        vertical-align: top;\n",
       "    }\n",
       "\n",
       "    .dataframe thead th {\n",
       "        text-align: right;\n",
       "    }\n",
       "</style>\n",
       "<table border=\"1\" class=\"dataframe\">\n",
       "  <thead>\n",
       "    <tr style=\"text-align: right;\">\n",
       "      <th></th>\n",
       "      <th>cntry</th>\n",
       "      <th>clmchng_yes</th>\n",
       "      <th>ccnthum_yes</th>\n",
       "      <th>ccrdprs_yes</th>\n",
       "      <th>country_alpha_3</th>\n",
       "    </tr>\n",
       "  </thead>\n",
       "  <tbody>\n",
       "    <tr>\n",
       "      <th>0</th>\n",
       "      <td>AT</td>\n",
       "      <td>92.5</td>\n",
       "      <td>64.3</td>\n",
       "      <td>55.3</td>\n",
       "      <td>AUT</td>\n",
       "    </tr>\n",
       "    <tr>\n",
       "      <th>1</th>\n",
       "      <td>BE</td>\n",
       "      <td>96.4</td>\n",
       "      <td>54.6</td>\n",
       "      <td>54.0</td>\n",
       "      <td>BEL</td>\n",
       "    </tr>\n",
       "    <tr>\n",
       "      <th>2</th>\n",
       "      <td>CH</td>\n",
       "      <td>96.4</td>\n",
       "      <td>45.5</td>\n",
       "      <td>74.9</td>\n",
       "      <td>CHE</td>\n",
       "    </tr>\n",
       "    <tr>\n",
       "      <th>3</th>\n",
       "      <td>CZ</td>\n",
       "      <td>88.9</td>\n",
       "      <td>38.8</td>\n",
       "      <td>19.2</td>\n",
       "      <td>CZE</td>\n",
       "    </tr>\n",
       "    <tr>\n",
       "      <th>4</th>\n",
       "      <td>DE</td>\n",
       "      <td>95.5</td>\n",
       "      <td>55.6</td>\n",
       "      <td>67.6</td>\n",
       "      <td>DEU</td>\n",
       "    </tr>\n",
       "    <tr>\n",
       "      <th>5</th>\n",
       "      <td>EE</td>\n",
       "      <td>91.3</td>\n",
       "      <td>36.1</td>\n",
       "      <td>34.4</td>\n",
       "      <td>EST</td>\n",
       "    </tr>\n",
       "    <tr>\n",
       "      <th>6</th>\n",
       "      <td>ES</td>\n",
       "      <td>95.8</td>\n",
       "      <td>61.0</td>\n",
       "      <td>55.4</td>\n",
       "      <td>ESP</td>\n",
       "    </tr>\n",
       "    <tr>\n",
       "      <th>7</th>\n",
       "      <td>FI</td>\n",
       "      <td>94.0</td>\n",
       "      <td>54.1</td>\n",
       "      <td>68.9</td>\n",
       "      <td>FIN</td>\n",
       "    </tr>\n",
       "    <tr>\n",
       "      <th>8</th>\n",
       "      <td>FR</td>\n",
       "      <td>96.3</td>\n",
       "      <td>48.4</td>\n",
       "      <td>73.7</td>\n",
       "      <td>FRA</td>\n",
       "    </tr>\n",
       "    <tr>\n",
       "      <th>9</th>\n",
       "      <td>GB</td>\n",
       "      <td>93.6</td>\n",
       "      <td>38.7</td>\n",
       "      <td>60.9</td>\n",
       "      <td>GBR</td>\n",
       "    </tr>\n",
       "    <tr>\n",
       "      <th>10</th>\n",
       "      <td>HU</td>\n",
       "      <td>91.4</td>\n",
       "      <td>48.9</td>\n",
       "      <td>26.2</td>\n",
       "      <td>HUN</td>\n",
       "    </tr>\n",
       "    <tr>\n",
       "      <th>11</th>\n",
       "      <td>IE</td>\n",
       "      <td>96.1</td>\n",
       "      <td>40.9</td>\n",
       "      <td>53.8</td>\n",
       "      <td>IRL</td>\n",
       "    </tr>\n",
       "    <tr>\n",
       "      <th>12</th>\n",
       "      <td>IL</td>\n",
       "      <td>86.3</td>\n",
       "      <td>45.7</td>\n",
       "      <td>50.9</td>\n",
       "      <td>ISR</td>\n",
       "    </tr>\n",
       "    <tr>\n",
       "      <th>13</th>\n",
       "      <td>IS</td>\n",
       "      <td>97.7</td>\n",
       "      <td>56.5</td>\n",
       "      <td>64.1</td>\n",
       "      <td>ISL</td>\n",
       "    </tr>\n",
       "    <tr>\n",
       "      <th>14</th>\n",
       "      <td>IT</td>\n",
       "      <td>94.8</td>\n",
       "      <td>58.3</td>\n",
       "      <td>39.4</td>\n",
       "      <td>ITA</td>\n",
       "    </tr>\n",
       "    <tr>\n",
       "      <th>15</th>\n",
       "      <td>LT</td>\n",
       "      <td>88.7</td>\n",
       "      <td>34.9</td>\n",
       "      <td>35.4</td>\n",
       "      <td>LTU</td>\n",
       "    </tr>\n",
       "    <tr>\n",
       "      <th>16</th>\n",
       "      <td>NL</td>\n",
       "      <td>96.3</td>\n",
       "      <td>46.0</td>\n",
       "      <td>56.2</td>\n",
       "      <td>NLD</td>\n",
       "    </tr>\n",
       "    <tr>\n",
       "      <th>17</th>\n",
       "      <td>NO</td>\n",
       "      <td>92.9</td>\n",
       "      <td>40.4</td>\n",
       "      <td>63.2</td>\n",
       "      <td>NOR</td>\n",
       "    </tr>\n",
       "    <tr>\n",
       "      <th>18</th>\n",
       "      <td>PL</td>\n",
       "      <td>92.6</td>\n",
       "      <td>33.3</td>\n",
       "      <td>46.8</td>\n",
       "      <td>POL</td>\n",
       "    </tr>\n",
       "    <tr>\n",
       "      <th>19</th>\n",
       "      <td>PT</td>\n",
       "      <td>97.0</td>\n",
       "      <td>50.2</td>\n",
       "      <td>51.4</td>\n",
       "      <td>PRT</td>\n",
       "    </tr>\n",
       "    <tr>\n",
       "      <th>20</th>\n",
       "      <td>RU</td>\n",
       "      <td>82.2</td>\n",
       "      <td>37.2</td>\n",
       "      <td>25.3</td>\n",
       "      <td>RUS</td>\n",
       "    </tr>\n",
       "    <tr>\n",
       "      <th>21</th>\n",
       "      <td>SE</td>\n",
       "      <td>96.8</td>\n",
       "      <td>52.9</td>\n",
       "      <td>67.8</td>\n",
       "      <td>SWE</td>\n",
       "    </tr>\n",
       "    <tr>\n",
       "      <th>22</th>\n",
       "      <td>SI</td>\n",
       "      <td>96.5</td>\n",
       "      <td>39.7</td>\n",
       "      <td>40.2</td>\n",
       "      <td>SVN</td>\n",
       "    </tr>\n",
       "  </tbody>\n",
       "</table>\n",
       "</div>"
      ],
      "text/plain": [
       "   cntry  clmchng_yes  ccnthum_yes  ccrdprs_yes country_alpha_3\n",
       "0     AT         92.5         64.3         55.3             AUT\n",
       "1     BE         96.4         54.6         54.0             BEL\n",
       "2     CH         96.4         45.5         74.9             CHE\n",
       "3     CZ         88.9         38.8         19.2             CZE\n",
       "4     DE         95.5         55.6         67.6             DEU\n",
       "5     EE         91.3         36.1         34.4             EST\n",
       "6     ES         95.8         61.0         55.4             ESP\n",
       "7     FI         94.0         54.1         68.9             FIN\n",
       "8     FR         96.3         48.4         73.7             FRA\n",
       "9     GB         93.6         38.7         60.9             GBR\n",
       "10    HU         91.4         48.9         26.2             HUN\n",
       "11    IE         96.1         40.9         53.8             IRL\n",
       "12    IL         86.3         45.7         50.9             ISR\n",
       "13    IS         97.7         56.5         64.1             ISL\n",
       "14    IT         94.8         58.3         39.4             ITA\n",
       "15    LT         88.7         34.9         35.4             LTU\n",
       "16    NL         96.3         46.0         56.2             NLD\n",
       "17    NO         92.9         40.4         63.2             NOR\n",
       "18    PL         92.6         33.3         46.8             POL\n",
       "19    PT         97.0         50.2         51.4             PRT\n",
       "20    RU         82.2         37.2         25.3             RUS\n",
       "21    SE         96.8         52.9         67.8             SWE\n",
       "22    SI         96.5         39.7         40.2             SVN"
      ]
     },
     "execution_count": 16,
     "metadata": {},
     "output_type": "execute_result"
    }
   ],
   "source": [
    "#build a dataframe where for each country it is stored the proportion of \"yes\" to the three initial questions.\n",
    "yes_map = pd.DataFrame({'cntry':df['cntry'].unique(),'clmchng_yes':clmchng_yes_countries, 'ccnthum_yes':ccnthum_yes_countries, 'ccrdprs_yes':ccrdprs_yes_countries})\n",
    "\n",
    "#convert country codes from 2 letters to 3 letters (necessary for plotly)\n",
    "yes_map['country_alpha_3'] = yes_map.cntry.apply(lambda x: country_name_to_country_alpha3(country_alpha2_to_country_name(x)))\n",
    "yes_map"
   ]
  },
  {
   "cell_type": "code",
   "execution_count": 17,
   "metadata": {},
   "outputs": [
    {
     "data": {
      "application/vnd.plotly.v1+json": {
       "config": {
        "plotlyServerURL": "https://plot.ly"
       },
       "data": [
        {
         "coloraxis": "coloraxis",
         "geo": "geo",
         "hovertemplate": "country_alpha_3=%{location}<br>clmchng_yes=%{z}<extra></extra>",
         "locationmode": "ISO-3",
         "locations": [
          "AUT",
          "BEL",
          "CHE",
          "CZE",
          "DEU",
          "EST",
          "ESP",
          "FIN",
          "FRA",
          "GBR",
          "HUN",
          "IRL",
          "ISR",
          "ISL",
          "ITA",
          "LTU",
          "NLD",
          "NOR",
          "POL",
          "PRT",
          "RUS",
          "SWE",
          "SVN"
         ],
         "name": "",
         "type": "choropleth",
         "z": [
          92.5,
          96.4,
          96.4,
          88.9,
          95.5,
          91.3,
          95.8,
          94,
          96.3,
          93.6,
          91.4,
          96.1,
          86.3,
          97.7,
          94.8,
          88.7,
          96.3,
          92.9,
          92.6,
          97,
          82.2,
          96.8,
          96.5
         ]
        }
       ],
       "layout": {
        "coloraxis": {
         "colorbar": {
          "title": {
           "text": "clmchng_yes"
          }
         },
         "colorscale": [
          [
           0,
           "#F17720"
          ],
          [
           0.3333333333333333,
           "#FFA630"
          ],
          [
           0.6666666666666666,
           "#00A7E1"
          ],
          [
           1,
           "#0474BA"
          ]
         ]
        },
        "geo": {
         "center": {
          "lat": 55,
          "lon": 10
         },
         "domain": {
          "x": [
           0,
           1
          ],
          "y": [
           0,
           1
          ]
         },
         "lataxis": {
          "range": [
           0,
           55
          ]
         },
         "lonaxis": {
          "range": [
           0,
           80
          ]
         },
         "projection": {
          "type": "natural earth"
         }
        },
        "height": 400,
        "legend": {
         "tracegroupgap": 0
        },
        "template": {
         "data": {
          "bar": [
           {
            "error_x": {
             "color": "#2a3f5f"
            },
            "error_y": {
             "color": "#2a3f5f"
            },
            "marker": {
             "line": {
              "color": "#E5ECF6",
              "width": 0.5
             },
             "pattern": {
              "fillmode": "overlay",
              "size": 10,
              "solidity": 0.2
             }
            },
            "type": "bar"
           }
          ],
          "barpolar": [
           {
            "marker": {
             "line": {
              "color": "#E5ECF6",
              "width": 0.5
             },
             "pattern": {
              "fillmode": "overlay",
              "size": 10,
              "solidity": 0.2
             }
            },
            "type": "barpolar"
           }
          ],
          "carpet": [
           {
            "aaxis": {
             "endlinecolor": "#2a3f5f",
             "gridcolor": "white",
             "linecolor": "white",
             "minorgridcolor": "white",
             "startlinecolor": "#2a3f5f"
            },
            "baxis": {
             "endlinecolor": "#2a3f5f",
             "gridcolor": "white",
             "linecolor": "white",
             "minorgridcolor": "white",
             "startlinecolor": "#2a3f5f"
            },
            "type": "carpet"
           }
          ],
          "choropleth": [
           {
            "colorbar": {
             "outlinewidth": 0,
             "ticks": ""
            },
            "type": "choropleth"
           }
          ],
          "contour": [
           {
            "colorbar": {
             "outlinewidth": 0,
             "ticks": ""
            },
            "colorscale": [
             [
              0,
              "#0d0887"
             ],
             [
              0.1111111111111111,
              "#46039f"
             ],
             [
              0.2222222222222222,
              "#7201a8"
             ],
             [
              0.3333333333333333,
              "#9c179e"
             ],
             [
              0.4444444444444444,
              "#bd3786"
             ],
             [
              0.5555555555555556,
              "#d8576b"
             ],
             [
              0.6666666666666666,
              "#ed7953"
             ],
             [
              0.7777777777777778,
              "#fb9f3a"
             ],
             [
              0.8888888888888888,
              "#fdca26"
             ],
             [
              1,
              "#f0f921"
             ]
            ],
            "type": "contour"
           }
          ],
          "contourcarpet": [
           {
            "colorbar": {
             "outlinewidth": 0,
             "ticks": ""
            },
            "type": "contourcarpet"
           }
          ],
          "heatmap": [
           {
            "colorbar": {
             "outlinewidth": 0,
             "ticks": ""
            },
            "colorscale": [
             [
              0,
              "#0d0887"
             ],
             [
              0.1111111111111111,
              "#46039f"
             ],
             [
              0.2222222222222222,
              "#7201a8"
             ],
             [
              0.3333333333333333,
              "#9c179e"
             ],
             [
              0.4444444444444444,
              "#bd3786"
             ],
             [
              0.5555555555555556,
              "#d8576b"
             ],
             [
              0.6666666666666666,
              "#ed7953"
             ],
             [
              0.7777777777777778,
              "#fb9f3a"
             ],
             [
              0.8888888888888888,
              "#fdca26"
             ],
             [
              1,
              "#f0f921"
             ]
            ],
            "type": "heatmap"
           }
          ],
          "heatmapgl": [
           {
            "colorbar": {
             "outlinewidth": 0,
             "ticks": ""
            },
            "colorscale": [
             [
              0,
              "#0d0887"
             ],
             [
              0.1111111111111111,
              "#46039f"
             ],
             [
              0.2222222222222222,
              "#7201a8"
             ],
             [
              0.3333333333333333,
              "#9c179e"
             ],
             [
              0.4444444444444444,
              "#bd3786"
             ],
             [
              0.5555555555555556,
              "#d8576b"
             ],
             [
              0.6666666666666666,
              "#ed7953"
             ],
             [
              0.7777777777777778,
              "#fb9f3a"
             ],
             [
              0.8888888888888888,
              "#fdca26"
             ],
             [
              1,
              "#f0f921"
             ]
            ],
            "type": "heatmapgl"
           }
          ],
          "histogram": [
           {
            "marker": {
             "pattern": {
              "fillmode": "overlay",
              "size": 10,
              "solidity": 0.2
             }
            },
            "type": "histogram"
           }
          ],
          "histogram2d": [
           {
            "colorbar": {
             "outlinewidth": 0,
             "ticks": ""
            },
            "colorscale": [
             [
              0,
              "#0d0887"
             ],
             [
              0.1111111111111111,
              "#46039f"
             ],
             [
              0.2222222222222222,
              "#7201a8"
             ],
             [
              0.3333333333333333,
              "#9c179e"
             ],
             [
              0.4444444444444444,
              "#bd3786"
             ],
             [
              0.5555555555555556,
              "#d8576b"
             ],
             [
              0.6666666666666666,
              "#ed7953"
             ],
             [
              0.7777777777777778,
              "#fb9f3a"
             ],
             [
              0.8888888888888888,
              "#fdca26"
             ],
             [
              1,
              "#f0f921"
             ]
            ],
            "type": "histogram2d"
           }
          ],
          "histogram2dcontour": [
           {
            "colorbar": {
             "outlinewidth": 0,
             "ticks": ""
            },
            "colorscale": [
             [
              0,
              "#0d0887"
             ],
             [
              0.1111111111111111,
              "#46039f"
             ],
             [
              0.2222222222222222,
              "#7201a8"
             ],
             [
              0.3333333333333333,
              "#9c179e"
             ],
             [
              0.4444444444444444,
              "#bd3786"
             ],
             [
              0.5555555555555556,
              "#d8576b"
             ],
             [
              0.6666666666666666,
              "#ed7953"
             ],
             [
              0.7777777777777778,
              "#fb9f3a"
             ],
             [
              0.8888888888888888,
              "#fdca26"
             ],
             [
              1,
              "#f0f921"
             ]
            ],
            "type": "histogram2dcontour"
           }
          ],
          "mesh3d": [
           {
            "colorbar": {
             "outlinewidth": 0,
             "ticks": ""
            },
            "type": "mesh3d"
           }
          ],
          "parcoords": [
           {
            "line": {
             "colorbar": {
              "outlinewidth": 0,
              "ticks": ""
             }
            },
            "type": "parcoords"
           }
          ],
          "pie": [
           {
            "automargin": true,
            "type": "pie"
           }
          ],
          "scatter": [
           {
            "marker": {
             "colorbar": {
              "outlinewidth": 0,
              "ticks": ""
             }
            },
            "type": "scatter"
           }
          ],
          "scatter3d": [
           {
            "line": {
             "colorbar": {
              "outlinewidth": 0,
              "ticks": ""
             }
            },
            "marker": {
             "colorbar": {
              "outlinewidth": 0,
              "ticks": ""
             }
            },
            "type": "scatter3d"
           }
          ],
          "scattercarpet": [
           {
            "marker": {
             "colorbar": {
              "outlinewidth": 0,
              "ticks": ""
             }
            },
            "type": "scattercarpet"
           }
          ],
          "scattergeo": [
           {
            "marker": {
             "colorbar": {
              "outlinewidth": 0,
              "ticks": ""
             }
            },
            "type": "scattergeo"
           }
          ],
          "scattergl": [
           {
            "marker": {
             "colorbar": {
              "outlinewidth": 0,
              "ticks": ""
             }
            },
            "type": "scattergl"
           }
          ],
          "scattermapbox": [
           {
            "marker": {
             "colorbar": {
              "outlinewidth": 0,
              "ticks": ""
             }
            },
            "type": "scattermapbox"
           }
          ],
          "scatterpolar": [
           {
            "marker": {
             "colorbar": {
              "outlinewidth": 0,
              "ticks": ""
             }
            },
            "type": "scatterpolar"
           }
          ],
          "scatterpolargl": [
           {
            "marker": {
             "colorbar": {
              "outlinewidth": 0,
              "ticks": ""
             }
            },
            "type": "scatterpolargl"
           }
          ],
          "scatterternary": [
           {
            "marker": {
             "colorbar": {
              "outlinewidth": 0,
              "ticks": ""
             }
            },
            "type": "scatterternary"
           }
          ],
          "surface": [
           {
            "colorbar": {
             "outlinewidth": 0,
             "ticks": ""
            },
            "colorscale": [
             [
              0,
              "#0d0887"
             ],
             [
              0.1111111111111111,
              "#46039f"
             ],
             [
              0.2222222222222222,
              "#7201a8"
             ],
             [
              0.3333333333333333,
              "#9c179e"
             ],
             [
              0.4444444444444444,
              "#bd3786"
             ],
             [
              0.5555555555555556,
              "#d8576b"
             ],
             [
              0.6666666666666666,
              "#ed7953"
             ],
             [
              0.7777777777777778,
              "#fb9f3a"
             ],
             [
              0.8888888888888888,
              "#fdca26"
             ],
             [
              1,
              "#f0f921"
             ]
            ],
            "type": "surface"
           }
          ],
          "table": [
           {
            "cells": {
             "fill": {
              "color": "#EBF0F8"
             },
             "line": {
              "color": "white"
             }
            },
            "header": {
             "fill": {
              "color": "#C8D4E3"
             },
             "line": {
              "color": "white"
             }
            },
            "type": "table"
           }
          ]
         },
         "layout": {
          "annotationdefaults": {
           "arrowcolor": "#2a3f5f",
           "arrowhead": 0,
           "arrowwidth": 1
          },
          "autotypenumbers": "strict",
          "coloraxis": {
           "colorbar": {
            "outlinewidth": 0,
            "ticks": ""
           }
          },
          "colorscale": {
           "diverging": [
            [
             0,
             "#8e0152"
            ],
            [
             0.1,
             "#c51b7d"
            ],
            [
             0.2,
             "#de77ae"
            ],
            [
             0.3,
             "#f1b6da"
            ],
            [
             0.4,
             "#fde0ef"
            ],
            [
             0.5,
             "#f7f7f7"
            ],
            [
             0.6,
             "#e6f5d0"
            ],
            [
             0.7,
             "#b8e186"
            ],
            [
             0.8,
             "#7fbc41"
            ],
            [
             0.9,
             "#4d9221"
            ],
            [
             1,
             "#276419"
            ]
           ],
           "sequential": [
            [
             0,
             "#0d0887"
            ],
            [
             0.1111111111111111,
             "#46039f"
            ],
            [
             0.2222222222222222,
             "#7201a8"
            ],
            [
             0.3333333333333333,
             "#9c179e"
            ],
            [
             0.4444444444444444,
             "#bd3786"
            ],
            [
             0.5555555555555556,
             "#d8576b"
            ],
            [
             0.6666666666666666,
             "#ed7953"
            ],
            [
             0.7777777777777778,
             "#fb9f3a"
            ],
            [
             0.8888888888888888,
             "#fdca26"
            ],
            [
             1,
             "#f0f921"
            ]
           ],
           "sequentialminus": [
            [
             0,
             "#0d0887"
            ],
            [
             0.1111111111111111,
             "#46039f"
            ],
            [
             0.2222222222222222,
             "#7201a8"
            ],
            [
             0.3333333333333333,
             "#9c179e"
            ],
            [
             0.4444444444444444,
             "#bd3786"
            ],
            [
             0.5555555555555556,
             "#d8576b"
            ],
            [
             0.6666666666666666,
             "#ed7953"
            ],
            [
             0.7777777777777778,
             "#fb9f3a"
            ],
            [
             0.8888888888888888,
             "#fdca26"
            ],
            [
             1,
             "#f0f921"
            ]
           ]
          },
          "colorway": [
           "#636efa",
           "#EF553B",
           "#00cc96",
           "#ab63fa",
           "#FFA15A",
           "#19d3f3",
           "#FF6692",
           "#B6E880",
           "#FF97FF",
           "#FECB52"
          ],
          "font": {
           "color": "#2a3f5f"
          },
          "geo": {
           "bgcolor": "white",
           "lakecolor": "white",
           "landcolor": "#E5ECF6",
           "showlakes": true,
           "showland": true,
           "subunitcolor": "white"
          },
          "hoverlabel": {
           "align": "left"
          },
          "hovermode": "closest",
          "mapbox": {
           "style": "light"
          },
          "paper_bgcolor": "white",
          "plot_bgcolor": "#E5ECF6",
          "polar": {
           "angularaxis": {
            "gridcolor": "white",
            "linecolor": "white",
            "ticks": ""
           },
           "bgcolor": "#E5ECF6",
           "radialaxis": {
            "gridcolor": "white",
            "linecolor": "white",
            "ticks": ""
           }
          },
          "scene": {
           "xaxis": {
            "backgroundcolor": "#E5ECF6",
            "gridcolor": "white",
            "gridwidth": 2,
            "linecolor": "white",
            "showbackground": true,
            "ticks": "",
            "zerolinecolor": "white"
           },
           "yaxis": {
            "backgroundcolor": "#E5ECF6",
            "gridcolor": "white",
            "gridwidth": 2,
            "linecolor": "white",
            "showbackground": true,
            "ticks": "",
            "zerolinecolor": "white"
           },
           "zaxis": {
            "backgroundcolor": "#E5ECF6",
            "gridcolor": "white",
            "gridwidth": 2,
            "linecolor": "white",
            "showbackground": true,
            "ticks": "",
            "zerolinecolor": "white"
           }
          },
          "shapedefaults": {
           "line": {
            "color": "#2a3f5f"
           }
          },
          "ternary": {
           "aaxis": {
            "gridcolor": "white",
            "linecolor": "white",
            "ticks": ""
           },
           "baxis": {
            "gridcolor": "white",
            "linecolor": "white",
            "ticks": ""
           },
           "bgcolor": "#E5ECF6",
           "caxis": {
            "gridcolor": "white",
            "linecolor": "white",
            "ticks": ""
           }
          },
          "title": {
           "x": 0.05
          },
          "xaxis": {
           "automargin": true,
           "gridcolor": "white",
           "linecolor": "white",
           "ticks": "",
           "title": {
            "standoff": 15
           },
           "zerolinecolor": "white",
           "zerolinewidth": 2
          },
          "yaxis": {
           "automargin": true,
           "gridcolor": "white",
           "linecolor": "white",
           "ticks": "",
           "title": {
            "standoff": 15
           },
           "zerolinecolor": "white",
           "zerolinewidth": 2
          }
         }
        },
        "title": {
         "text": "World's climate is changing?"
        },
        "width": 500
       }
      }
     },
     "metadata": {},
     "output_type": "display_data"
    }
   ],
   "source": [
    "#plot a map with the proportion of people recognizing climate change in each country as a colorcode\n",
    "fig = px.choropleth(yes_map, locationmode= 'ISO-3',locations='country_alpha_3', color='clmchng_yes', projection='natural earth'\n",
    ", color_continuous_scale=colormap_clmchng_r, title=\"World's climate is changing?\", width=500, height=400)\n",
    "fig.update_geos(center=dict(lon=10, lat=55),\n",
    "    lataxis_range=[0,55], lonaxis_range=[0, 80])\n",
    "fig.show()"
   ]
  },
  {
   "cell_type": "code",
   "execution_count": 18,
   "metadata": {},
   "outputs": [
    {
     "data": {
      "application/vnd.plotly.v1+json": {
       "config": {
        "plotlyServerURL": "https://plot.ly"
       },
       "data": [
        {
         "coloraxis": "coloraxis",
         "geo": "geo",
         "hovertemplate": "country_alpha_3=%{location}<br>ccnthum_yes=%{z}<extra></extra>",
         "locationmode": "ISO-3",
         "locations": [
          "AUT",
          "BEL",
          "CHE",
          "CZE",
          "DEU",
          "EST",
          "ESP",
          "FIN",
          "FRA",
          "GBR",
          "HUN",
          "IRL",
          "ISR",
          "ISL",
          "ITA",
          "LTU",
          "NLD",
          "NOR",
          "POL",
          "PRT",
          "RUS",
          "SWE",
          "SVN"
         ],
         "name": "",
         "type": "choropleth",
         "z": [
          64.3,
          54.6,
          45.5,
          38.8,
          55.6,
          36.1,
          61,
          54.1,
          48.4,
          38.7,
          48.9,
          40.9,
          45.7,
          56.5,
          58.3,
          34.9,
          46,
          40.4,
          33.3,
          50.2,
          37.2,
          52.9,
          39.7
         ]
        }
       ],
       "layout": {
        "coloraxis": {
         "colorbar": {
          "title": {
           "text": "ccnthum_yes"
          }
         },
         "colorscale": [
          [
           0,
           "#32c377"
          ],
          [
           0.25,
           "#009f95"
          ],
          [
           0.5,
           "#0076a3"
          ],
          [
           0.75,
           "#004b92"
          ],
          [
           1,
           "#041c62"
          ]
         ]
        },
        "geo": {
         "center": {
          "lat": 55,
          "lon": 10
         },
         "domain": {
          "x": [
           0,
           1
          ],
          "y": [
           0,
           1
          ]
         },
         "lataxis": {
          "range": [
           0,
           55
          ]
         },
         "lonaxis": {
          "range": [
           0,
           80
          ]
         },
         "projection": {
          "type": "natural earth"
         }
        },
        "height": 400,
        "legend": {
         "tracegroupgap": 0
        },
        "template": {
         "data": {
          "bar": [
           {
            "error_x": {
             "color": "#2a3f5f"
            },
            "error_y": {
             "color": "#2a3f5f"
            },
            "marker": {
             "line": {
              "color": "#E5ECF6",
              "width": 0.5
             },
             "pattern": {
              "fillmode": "overlay",
              "size": 10,
              "solidity": 0.2
             }
            },
            "type": "bar"
           }
          ],
          "barpolar": [
           {
            "marker": {
             "line": {
              "color": "#E5ECF6",
              "width": 0.5
             },
             "pattern": {
              "fillmode": "overlay",
              "size": 10,
              "solidity": 0.2
             }
            },
            "type": "barpolar"
           }
          ],
          "carpet": [
           {
            "aaxis": {
             "endlinecolor": "#2a3f5f",
             "gridcolor": "white",
             "linecolor": "white",
             "minorgridcolor": "white",
             "startlinecolor": "#2a3f5f"
            },
            "baxis": {
             "endlinecolor": "#2a3f5f",
             "gridcolor": "white",
             "linecolor": "white",
             "minorgridcolor": "white",
             "startlinecolor": "#2a3f5f"
            },
            "type": "carpet"
           }
          ],
          "choropleth": [
           {
            "colorbar": {
             "outlinewidth": 0,
             "ticks": ""
            },
            "type": "choropleth"
           }
          ],
          "contour": [
           {
            "colorbar": {
             "outlinewidth": 0,
             "ticks": ""
            },
            "colorscale": [
             [
              0,
              "#0d0887"
             ],
             [
              0.1111111111111111,
              "#46039f"
             ],
             [
              0.2222222222222222,
              "#7201a8"
             ],
             [
              0.3333333333333333,
              "#9c179e"
             ],
             [
              0.4444444444444444,
              "#bd3786"
             ],
             [
              0.5555555555555556,
              "#d8576b"
             ],
             [
              0.6666666666666666,
              "#ed7953"
             ],
             [
              0.7777777777777778,
              "#fb9f3a"
             ],
             [
              0.8888888888888888,
              "#fdca26"
             ],
             [
              1,
              "#f0f921"
             ]
            ],
            "type": "contour"
           }
          ],
          "contourcarpet": [
           {
            "colorbar": {
             "outlinewidth": 0,
             "ticks": ""
            },
            "type": "contourcarpet"
           }
          ],
          "heatmap": [
           {
            "colorbar": {
             "outlinewidth": 0,
             "ticks": ""
            },
            "colorscale": [
             [
              0,
              "#0d0887"
             ],
             [
              0.1111111111111111,
              "#46039f"
             ],
             [
              0.2222222222222222,
              "#7201a8"
             ],
             [
              0.3333333333333333,
              "#9c179e"
             ],
             [
              0.4444444444444444,
              "#bd3786"
             ],
             [
              0.5555555555555556,
              "#d8576b"
             ],
             [
              0.6666666666666666,
              "#ed7953"
             ],
             [
              0.7777777777777778,
              "#fb9f3a"
             ],
             [
              0.8888888888888888,
              "#fdca26"
             ],
             [
              1,
              "#f0f921"
             ]
            ],
            "type": "heatmap"
           }
          ],
          "heatmapgl": [
           {
            "colorbar": {
             "outlinewidth": 0,
             "ticks": ""
            },
            "colorscale": [
             [
              0,
              "#0d0887"
             ],
             [
              0.1111111111111111,
              "#46039f"
             ],
             [
              0.2222222222222222,
              "#7201a8"
             ],
             [
              0.3333333333333333,
              "#9c179e"
             ],
             [
              0.4444444444444444,
              "#bd3786"
             ],
             [
              0.5555555555555556,
              "#d8576b"
             ],
             [
              0.6666666666666666,
              "#ed7953"
             ],
             [
              0.7777777777777778,
              "#fb9f3a"
             ],
             [
              0.8888888888888888,
              "#fdca26"
             ],
             [
              1,
              "#f0f921"
             ]
            ],
            "type": "heatmapgl"
           }
          ],
          "histogram": [
           {
            "marker": {
             "pattern": {
              "fillmode": "overlay",
              "size": 10,
              "solidity": 0.2
             }
            },
            "type": "histogram"
           }
          ],
          "histogram2d": [
           {
            "colorbar": {
             "outlinewidth": 0,
             "ticks": ""
            },
            "colorscale": [
             [
              0,
              "#0d0887"
             ],
             [
              0.1111111111111111,
              "#46039f"
             ],
             [
              0.2222222222222222,
              "#7201a8"
             ],
             [
              0.3333333333333333,
              "#9c179e"
             ],
             [
              0.4444444444444444,
              "#bd3786"
             ],
             [
              0.5555555555555556,
              "#d8576b"
             ],
             [
              0.6666666666666666,
              "#ed7953"
             ],
             [
              0.7777777777777778,
              "#fb9f3a"
             ],
             [
              0.8888888888888888,
              "#fdca26"
             ],
             [
              1,
              "#f0f921"
             ]
            ],
            "type": "histogram2d"
           }
          ],
          "histogram2dcontour": [
           {
            "colorbar": {
             "outlinewidth": 0,
             "ticks": ""
            },
            "colorscale": [
             [
              0,
              "#0d0887"
             ],
             [
              0.1111111111111111,
              "#46039f"
             ],
             [
              0.2222222222222222,
              "#7201a8"
             ],
             [
              0.3333333333333333,
              "#9c179e"
             ],
             [
              0.4444444444444444,
              "#bd3786"
             ],
             [
              0.5555555555555556,
              "#d8576b"
             ],
             [
              0.6666666666666666,
              "#ed7953"
             ],
             [
              0.7777777777777778,
              "#fb9f3a"
             ],
             [
              0.8888888888888888,
              "#fdca26"
             ],
             [
              1,
              "#f0f921"
             ]
            ],
            "type": "histogram2dcontour"
           }
          ],
          "mesh3d": [
           {
            "colorbar": {
             "outlinewidth": 0,
             "ticks": ""
            },
            "type": "mesh3d"
           }
          ],
          "parcoords": [
           {
            "line": {
             "colorbar": {
              "outlinewidth": 0,
              "ticks": ""
             }
            },
            "type": "parcoords"
           }
          ],
          "pie": [
           {
            "automargin": true,
            "type": "pie"
           }
          ],
          "scatter": [
           {
            "marker": {
             "colorbar": {
              "outlinewidth": 0,
              "ticks": ""
             }
            },
            "type": "scatter"
           }
          ],
          "scatter3d": [
           {
            "line": {
             "colorbar": {
              "outlinewidth": 0,
              "ticks": ""
             }
            },
            "marker": {
             "colorbar": {
              "outlinewidth": 0,
              "ticks": ""
             }
            },
            "type": "scatter3d"
           }
          ],
          "scattercarpet": [
           {
            "marker": {
             "colorbar": {
              "outlinewidth": 0,
              "ticks": ""
             }
            },
            "type": "scattercarpet"
           }
          ],
          "scattergeo": [
           {
            "marker": {
             "colorbar": {
              "outlinewidth": 0,
              "ticks": ""
             }
            },
            "type": "scattergeo"
           }
          ],
          "scattergl": [
           {
            "marker": {
             "colorbar": {
              "outlinewidth": 0,
              "ticks": ""
             }
            },
            "type": "scattergl"
           }
          ],
          "scattermapbox": [
           {
            "marker": {
             "colorbar": {
              "outlinewidth": 0,
              "ticks": ""
             }
            },
            "type": "scattermapbox"
           }
          ],
          "scatterpolar": [
           {
            "marker": {
             "colorbar": {
              "outlinewidth": 0,
              "ticks": ""
             }
            },
            "type": "scatterpolar"
           }
          ],
          "scatterpolargl": [
           {
            "marker": {
             "colorbar": {
              "outlinewidth": 0,
              "ticks": ""
             }
            },
            "type": "scatterpolargl"
           }
          ],
          "scatterternary": [
           {
            "marker": {
             "colorbar": {
              "outlinewidth": 0,
              "ticks": ""
             }
            },
            "type": "scatterternary"
           }
          ],
          "surface": [
           {
            "colorbar": {
             "outlinewidth": 0,
             "ticks": ""
            },
            "colorscale": [
             [
              0,
              "#0d0887"
             ],
             [
              0.1111111111111111,
              "#46039f"
             ],
             [
              0.2222222222222222,
              "#7201a8"
             ],
             [
              0.3333333333333333,
              "#9c179e"
             ],
             [
              0.4444444444444444,
              "#bd3786"
             ],
             [
              0.5555555555555556,
              "#d8576b"
             ],
             [
              0.6666666666666666,
              "#ed7953"
             ],
             [
              0.7777777777777778,
              "#fb9f3a"
             ],
             [
              0.8888888888888888,
              "#fdca26"
             ],
             [
              1,
              "#f0f921"
             ]
            ],
            "type": "surface"
           }
          ],
          "table": [
           {
            "cells": {
             "fill": {
              "color": "#EBF0F8"
             },
             "line": {
              "color": "white"
             }
            },
            "header": {
             "fill": {
              "color": "#C8D4E3"
             },
             "line": {
              "color": "white"
             }
            },
            "type": "table"
           }
          ]
         },
         "layout": {
          "annotationdefaults": {
           "arrowcolor": "#2a3f5f",
           "arrowhead": 0,
           "arrowwidth": 1
          },
          "autotypenumbers": "strict",
          "coloraxis": {
           "colorbar": {
            "outlinewidth": 0,
            "ticks": ""
           }
          },
          "colorscale": {
           "diverging": [
            [
             0,
             "#8e0152"
            ],
            [
             0.1,
             "#c51b7d"
            ],
            [
             0.2,
             "#de77ae"
            ],
            [
             0.3,
             "#f1b6da"
            ],
            [
             0.4,
             "#fde0ef"
            ],
            [
             0.5,
             "#f7f7f7"
            ],
            [
             0.6,
             "#e6f5d0"
            ],
            [
             0.7,
             "#b8e186"
            ],
            [
             0.8,
             "#7fbc41"
            ],
            [
             0.9,
             "#4d9221"
            ],
            [
             1,
             "#276419"
            ]
           ],
           "sequential": [
            [
             0,
             "#0d0887"
            ],
            [
             0.1111111111111111,
             "#46039f"
            ],
            [
             0.2222222222222222,
             "#7201a8"
            ],
            [
             0.3333333333333333,
             "#9c179e"
            ],
            [
             0.4444444444444444,
             "#bd3786"
            ],
            [
             0.5555555555555556,
             "#d8576b"
            ],
            [
             0.6666666666666666,
             "#ed7953"
            ],
            [
             0.7777777777777778,
             "#fb9f3a"
            ],
            [
             0.8888888888888888,
             "#fdca26"
            ],
            [
             1,
             "#f0f921"
            ]
           ],
           "sequentialminus": [
            [
             0,
             "#0d0887"
            ],
            [
             0.1111111111111111,
             "#46039f"
            ],
            [
             0.2222222222222222,
             "#7201a8"
            ],
            [
             0.3333333333333333,
             "#9c179e"
            ],
            [
             0.4444444444444444,
             "#bd3786"
            ],
            [
             0.5555555555555556,
             "#d8576b"
            ],
            [
             0.6666666666666666,
             "#ed7953"
            ],
            [
             0.7777777777777778,
             "#fb9f3a"
            ],
            [
             0.8888888888888888,
             "#fdca26"
            ],
            [
             1,
             "#f0f921"
            ]
           ]
          },
          "colorway": [
           "#636efa",
           "#EF553B",
           "#00cc96",
           "#ab63fa",
           "#FFA15A",
           "#19d3f3",
           "#FF6692",
           "#B6E880",
           "#FF97FF",
           "#FECB52"
          ],
          "font": {
           "color": "#2a3f5f"
          },
          "geo": {
           "bgcolor": "white",
           "lakecolor": "white",
           "landcolor": "#E5ECF6",
           "showlakes": true,
           "showland": true,
           "subunitcolor": "white"
          },
          "hoverlabel": {
           "align": "left"
          },
          "hovermode": "closest",
          "mapbox": {
           "style": "light"
          },
          "paper_bgcolor": "white",
          "plot_bgcolor": "#E5ECF6",
          "polar": {
           "angularaxis": {
            "gridcolor": "white",
            "linecolor": "white",
            "ticks": ""
           },
           "bgcolor": "#E5ECF6",
           "radialaxis": {
            "gridcolor": "white",
            "linecolor": "white",
            "ticks": ""
           }
          },
          "scene": {
           "xaxis": {
            "backgroundcolor": "#E5ECF6",
            "gridcolor": "white",
            "gridwidth": 2,
            "linecolor": "white",
            "showbackground": true,
            "ticks": "",
            "zerolinecolor": "white"
           },
           "yaxis": {
            "backgroundcolor": "#E5ECF6",
            "gridcolor": "white",
            "gridwidth": 2,
            "linecolor": "white",
            "showbackground": true,
            "ticks": "",
            "zerolinecolor": "white"
           },
           "zaxis": {
            "backgroundcolor": "#E5ECF6",
            "gridcolor": "white",
            "gridwidth": 2,
            "linecolor": "white",
            "showbackground": true,
            "ticks": "",
            "zerolinecolor": "white"
           }
          },
          "shapedefaults": {
           "line": {
            "color": "#2a3f5f"
           }
          },
          "ternary": {
           "aaxis": {
            "gridcolor": "white",
            "linecolor": "white",
            "ticks": ""
           },
           "baxis": {
            "gridcolor": "white",
            "linecolor": "white",
            "ticks": ""
           },
           "bgcolor": "#E5ECF6",
           "caxis": {
            "gridcolor": "white",
            "linecolor": "white",
            "ticks": ""
           }
          },
          "title": {
           "x": 0.05
          },
          "xaxis": {
           "automargin": true,
           "gridcolor": "white",
           "linecolor": "white",
           "ticks": "",
           "title": {
            "standoff": 15
           },
           "zerolinecolor": "white",
           "zerolinewidth": 2
          },
          "yaxis": {
           "automargin": true,
           "gridcolor": "white",
           "linecolor": "white",
           "ticks": "",
           "title": {
            "standoff": 15
           },
           "zerolinecolor": "white",
           "zerolinewidth": 2
          }
         }
        },
        "title": {
         "text": "Human or nature cause?"
        },
        "width": 500
       }
      }
     },
     "metadata": {},
     "output_type": "display_data"
    }
   ],
   "source": [
    "#plot a map with the proportion of people recognizing human origins of climate change in each country as a colorcode\n",
    "fig = px.choropleth(yes_map, locationmode= 'ISO-3',locations='country_alpha_3', color='ccnthum_yes', projection='natural earth'\n",
    ", color_continuous_scale=colormap_ccnthum, title=\"Human or nature cause?\", width=500, height=400)\n",
    "fig.update_geos(center=dict(lon=10, lat=55),\n",
    "    lataxis_range=[0,55], lonaxis_range=[0, 80])\n",
    "fig.show()"
   ]
  },
  {
   "cell_type": "code",
   "execution_count": 19,
   "metadata": {},
   "outputs": [
    {
     "data": {
      "application/vnd.plotly.v1+json": {
       "config": {
        "plotlyServerURL": "https://plot.ly"
       },
       "data": [
        {
         "coloraxis": "coloraxis",
         "geo": "geo",
         "hovertemplate": "country_alpha_3=%{location}<br>ccrdprs_yes=%{z}<extra></extra>",
         "locationmode": "ISO-3",
         "locations": [
          "AUT",
          "BEL",
          "CHE",
          "CZE",
          "DEU",
          "EST",
          "ESP",
          "FIN",
          "FRA",
          "GBR",
          "HUN",
          "IRL",
          "ISR",
          "ISL",
          "ITA",
          "LTU",
          "NLD",
          "NOR",
          "POL",
          "PRT",
          "RUS",
          "SWE",
          "SVN"
         ],
         "name": "",
         "type": "choropleth",
         "z": [
          55.3,
          54,
          74.9,
          19.2,
          67.6,
          34.4,
          55.4,
          68.9,
          73.7,
          60.9,
          26.2,
          53.8,
          50.9,
          64.1,
          39.4,
          35.4,
          56.2,
          63.2,
          46.8,
          51.4,
          25.3,
          67.8,
          40.2
         ]
        }
       ],
       "layout": {
        "coloraxis": {
         "colorbar": {
          "title": {
           "text": "ccrdprs_yes"
          }
         },
         "colorscale": [
          [
           0,
           "#c37732"
          ],
          [
           0.1,
           "#c35a32"
          ],
          [
           0.2,
           "#bc4742"
          ],
          [
           0.3,
           "#af3750"
          ],
          [
           0.4,
           "#9c2e5c"
          ],
          [
           0.5,
           "#832b65"
          ],
          [
           0.6,
           "#672c69"
          ],
          [
           0.7,
           "#462c68"
          ],
          [
           0.8,
           "#202b62"
          ],
          [
           0.9,
           "#101041"
          ],
          [
           1,
           "#08042a"
          ]
         ]
        },
        "geo": {
         "center": {
          "lat": 55,
          "lon": 10
         },
         "domain": {
          "x": [
           0,
           1
          ],
          "y": [
           0,
           1
          ]
         },
         "lataxis": {
          "range": [
           0,
           55
          ]
         },
         "lonaxis": {
          "range": [
           0,
           80
          ]
         },
         "projection": {
          "type": "natural earth"
         }
        },
        "height": 400,
        "legend": {
         "tracegroupgap": 0
        },
        "template": {
         "data": {
          "bar": [
           {
            "error_x": {
             "color": "#2a3f5f"
            },
            "error_y": {
             "color": "#2a3f5f"
            },
            "marker": {
             "line": {
              "color": "#E5ECF6",
              "width": 0.5
             },
             "pattern": {
              "fillmode": "overlay",
              "size": 10,
              "solidity": 0.2
             }
            },
            "type": "bar"
           }
          ],
          "barpolar": [
           {
            "marker": {
             "line": {
              "color": "#E5ECF6",
              "width": 0.5
             },
             "pattern": {
              "fillmode": "overlay",
              "size": 10,
              "solidity": 0.2
             }
            },
            "type": "barpolar"
           }
          ],
          "carpet": [
           {
            "aaxis": {
             "endlinecolor": "#2a3f5f",
             "gridcolor": "white",
             "linecolor": "white",
             "minorgridcolor": "white",
             "startlinecolor": "#2a3f5f"
            },
            "baxis": {
             "endlinecolor": "#2a3f5f",
             "gridcolor": "white",
             "linecolor": "white",
             "minorgridcolor": "white",
             "startlinecolor": "#2a3f5f"
            },
            "type": "carpet"
           }
          ],
          "choropleth": [
           {
            "colorbar": {
             "outlinewidth": 0,
             "ticks": ""
            },
            "type": "choropleth"
           }
          ],
          "contour": [
           {
            "colorbar": {
             "outlinewidth": 0,
             "ticks": ""
            },
            "colorscale": [
             [
              0,
              "#0d0887"
             ],
             [
              0.1111111111111111,
              "#46039f"
             ],
             [
              0.2222222222222222,
              "#7201a8"
             ],
             [
              0.3333333333333333,
              "#9c179e"
             ],
             [
              0.4444444444444444,
              "#bd3786"
             ],
             [
              0.5555555555555556,
              "#d8576b"
             ],
             [
              0.6666666666666666,
              "#ed7953"
             ],
             [
              0.7777777777777778,
              "#fb9f3a"
             ],
             [
              0.8888888888888888,
              "#fdca26"
             ],
             [
              1,
              "#f0f921"
             ]
            ],
            "type": "contour"
           }
          ],
          "contourcarpet": [
           {
            "colorbar": {
             "outlinewidth": 0,
             "ticks": ""
            },
            "type": "contourcarpet"
           }
          ],
          "heatmap": [
           {
            "colorbar": {
             "outlinewidth": 0,
             "ticks": ""
            },
            "colorscale": [
             [
              0,
              "#0d0887"
             ],
             [
              0.1111111111111111,
              "#46039f"
             ],
             [
              0.2222222222222222,
              "#7201a8"
             ],
             [
              0.3333333333333333,
              "#9c179e"
             ],
             [
              0.4444444444444444,
              "#bd3786"
             ],
             [
              0.5555555555555556,
              "#d8576b"
             ],
             [
              0.6666666666666666,
              "#ed7953"
             ],
             [
              0.7777777777777778,
              "#fb9f3a"
             ],
             [
              0.8888888888888888,
              "#fdca26"
             ],
             [
              1,
              "#f0f921"
             ]
            ],
            "type": "heatmap"
           }
          ],
          "heatmapgl": [
           {
            "colorbar": {
             "outlinewidth": 0,
             "ticks": ""
            },
            "colorscale": [
             [
              0,
              "#0d0887"
             ],
             [
              0.1111111111111111,
              "#46039f"
             ],
             [
              0.2222222222222222,
              "#7201a8"
             ],
             [
              0.3333333333333333,
              "#9c179e"
             ],
             [
              0.4444444444444444,
              "#bd3786"
             ],
             [
              0.5555555555555556,
              "#d8576b"
             ],
             [
              0.6666666666666666,
              "#ed7953"
             ],
             [
              0.7777777777777778,
              "#fb9f3a"
             ],
             [
              0.8888888888888888,
              "#fdca26"
             ],
             [
              1,
              "#f0f921"
             ]
            ],
            "type": "heatmapgl"
           }
          ],
          "histogram": [
           {
            "marker": {
             "pattern": {
              "fillmode": "overlay",
              "size": 10,
              "solidity": 0.2
             }
            },
            "type": "histogram"
           }
          ],
          "histogram2d": [
           {
            "colorbar": {
             "outlinewidth": 0,
             "ticks": ""
            },
            "colorscale": [
             [
              0,
              "#0d0887"
             ],
             [
              0.1111111111111111,
              "#46039f"
             ],
             [
              0.2222222222222222,
              "#7201a8"
             ],
             [
              0.3333333333333333,
              "#9c179e"
             ],
             [
              0.4444444444444444,
              "#bd3786"
             ],
             [
              0.5555555555555556,
              "#d8576b"
             ],
             [
              0.6666666666666666,
              "#ed7953"
             ],
             [
              0.7777777777777778,
              "#fb9f3a"
             ],
             [
              0.8888888888888888,
              "#fdca26"
             ],
             [
              1,
              "#f0f921"
             ]
            ],
            "type": "histogram2d"
           }
          ],
          "histogram2dcontour": [
           {
            "colorbar": {
             "outlinewidth": 0,
             "ticks": ""
            },
            "colorscale": [
             [
              0,
              "#0d0887"
             ],
             [
              0.1111111111111111,
              "#46039f"
             ],
             [
              0.2222222222222222,
              "#7201a8"
             ],
             [
              0.3333333333333333,
              "#9c179e"
             ],
             [
              0.4444444444444444,
              "#bd3786"
             ],
             [
              0.5555555555555556,
              "#d8576b"
             ],
             [
              0.6666666666666666,
              "#ed7953"
             ],
             [
              0.7777777777777778,
              "#fb9f3a"
             ],
             [
              0.8888888888888888,
              "#fdca26"
             ],
             [
              1,
              "#f0f921"
             ]
            ],
            "type": "histogram2dcontour"
           }
          ],
          "mesh3d": [
           {
            "colorbar": {
             "outlinewidth": 0,
             "ticks": ""
            },
            "type": "mesh3d"
           }
          ],
          "parcoords": [
           {
            "line": {
             "colorbar": {
              "outlinewidth": 0,
              "ticks": ""
             }
            },
            "type": "parcoords"
           }
          ],
          "pie": [
           {
            "automargin": true,
            "type": "pie"
           }
          ],
          "scatter": [
           {
            "marker": {
             "colorbar": {
              "outlinewidth": 0,
              "ticks": ""
             }
            },
            "type": "scatter"
           }
          ],
          "scatter3d": [
           {
            "line": {
             "colorbar": {
              "outlinewidth": 0,
              "ticks": ""
             }
            },
            "marker": {
             "colorbar": {
              "outlinewidth": 0,
              "ticks": ""
             }
            },
            "type": "scatter3d"
           }
          ],
          "scattercarpet": [
           {
            "marker": {
             "colorbar": {
              "outlinewidth": 0,
              "ticks": ""
             }
            },
            "type": "scattercarpet"
           }
          ],
          "scattergeo": [
           {
            "marker": {
             "colorbar": {
              "outlinewidth": 0,
              "ticks": ""
             }
            },
            "type": "scattergeo"
           }
          ],
          "scattergl": [
           {
            "marker": {
             "colorbar": {
              "outlinewidth": 0,
              "ticks": ""
             }
            },
            "type": "scattergl"
           }
          ],
          "scattermapbox": [
           {
            "marker": {
             "colorbar": {
              "outlinewidth": 0,
              "ticks": ""
             }
            },
            "type": "scattermapbox"
           }
          ],
          "scatterpolar": [
           {
            "marker": {
             "colorbar": {
              "outlinewidth": 0,
              "ticks": ""
             }
            },
            "type": "scatterpolar"
           }
          ],
          "scatterpolargl": [
           {
            "marker": {
             "colorbar": {
              "outlinewidth": 0,
              "ticks": ""
             }
            },
            "type": "scatterpolargl"
           }
          ],
          "scatterternary": [
           {
            "marker": {
             "colorbar": {
              "outlinewidth": 0,
              "ticks": ""
             }
            },
            "type": "scatterternary"
           }
          ],
          "surface": [
           {
            "colorbar": {
             "outlinewidth": 0,
             "ticks": ""
            },
            "colorscale": [
             [
              0,
              "#0d0887"
             ],
             [
              0.1111111111111111,
              "#46039f"
             ],
             [
              0.2222222222222222,
              "#7201a8"
             ],
             [
              0.3333333333333333,
              "#9c179e"
             ],
             [
              0.4444444444444444,
              "#bd3786"
             ],
             [
              0.5555555555555556,
              "#d8576b"
             ],
             [
              0.6666666666666666,
              "#ed7953"
             ],
             [
              0.7777777777777778,
              "#fb9f3a"
             ],
             [
              0.8888888888888888,
              "#fdca26"
             ],
             [
              1,
              "#f0f921"
             ]
            ],
            "type": "surface"
           }
          ],
          "table": [
           {
            "cells": {
             "fill": {
              "color": "#EBF0F8"
             },
             "line": {
              "color": "white"
             }
            },
            "header": {
             "fill": {
              "color": "#C8D4E3"
             },
             "line": {
              "color": "white"
             }
            },
            "type": "table"
           }
          ]
         },
         "layout": {
          "annotationdefaults": {
           "arrowcolor": "#2a3f5f",
           "arrowhead": 0,
           "arrowwidth": 1
          },
          "autotypenumbers": "strict",
          "coloraxis": {
           "colorbar": {
            "outlinewidth": 0,
            "ticks": ""
           }
          },
          "colorscale": {
           "diverging": [
            [
             0,
             "#8e0152"
            ],
            [
             0.1,
             "#c51b7d"
            ],
            [
             0.2,
             "#de77ae"
            ],
            [
             0.3,
             "#f1b6da"
            ],
            [
             0.4,
             "#fde0ef"
            ],
            [
             0.5,
             "#f7f7f7"
            ],
            [
             0.6,
             "#e6f5d0"
            ],
            [
             0.7,
             "#b8e186"
            ],
            [
             0.8,
             "#7fbc41"
            ],
            [
             0.9,
             "#4d9221"
            ],
            [
             1,
             "#276419"
            ]
           ],
           "sequential": [
            [
             0,
             "#0d0887"
            ],
            [
             0.1111111111111111,
             "#46039f"
            ],
            [
             0.2222222222222222,
             "#7201a8"
            ],
            [
             0.3333333333333333,
             "#9c179e"
            ],
            [
             0.4444444444444444,
             "#bd3786"
            ],
            [
             0.5555555555555556,
             "#d8576b"
            ],
            [
             0.6666666666666666,
             "#ed7953"
            ],
            [
             0.7777777777777778,
             "#fb9f3a"
            ],
            [
             0.8888888888888888,
             "#fdca26"
            ],
            [
             1,
             "#f0f921"
            ]
           ],
           "sequentialminus": [
            [
             0,
             "#0d0887"
            ],
            [
             0.1111111111111111,
             "#46039f"
            ],
            [
             0.2222222222222222,
             "#7201a8"
            ],
            [
             0.3333333333333333,
             "#9c179e"
            ],
            [
             0.4444444444444444,
             "#bd3786"
            ],
            [
             0.5555555555555556,
             "#d8576b"
            ],
            [
             0.6666666666666666,
             "#ed7953"
            ],
            [
             0.7777777777777778,
             "#fb9f3a"
            ],
            [
             0.8888888888888888,
             "#fdca26"
            ],
            [
             1,
             "#f0f921"
            ]
           ]
          },
          "colorway": [
           "#636efa",
           "#EF553B",
           "#00cc96",
           "#ab63fa",
           "#FFA15A",
           "#19d3f3",
           "#FF6692",
           "#B6E880",
           "#FF97FF",
           "#FECB52"
          ],
          "font": {
           "color": "#2a3f5f"
          },
          "geo": {
           "bgcolor": "white",
           "lakecolor": "white",
           "landcolor": "#E5ECF6",
           "showlakes": true,
           "showland": true,
           "subunitcolor": "white"
          },
          "hoverlabel": {
           "align": "left"
          },
          "hovermode": "closest",
          "mapbox": {
           "style": "light"
          },
          "paper_bgcolor": "white",
          "plot_bgcolor": "#E5ECF6",
          "polar": {
           "angularaxis": {
            "gridcolor": "white",
            "linecolor": "white",
            "ticks": ""
           },
           "bgcolor": "#E5ECF6",
           "radialaxis": {
            "gridcolor": "white",
            "linecolor": "white",
            "ticks": ""
           }
          },
          "scene": {
           "xaxis": {
            "backgroundcolor": "#E5ECF6",
            "gridcolor": "white",
            "gridwidth": 2,
            "linecolor": "white",
            "showbackground": true,
            "ticks": "",
            "zerolinecolor": "white"
           },
           "yaxis": {
            "backgroundcolor": "#E5ECF6",
            "gridcolor": "white",
            "gridwidth": 2,
            "linecolor": "white",
            "showbackground": true,
            "ticks": "",
            "zerolinecolor": "white"
           },
           "zaxis": {
            "backgroundcolor": "#E5ECF6",
            "gridcolor": "white",
            "gridwidth": 2,
            "linecolor": "white",
            "showbackground": true,
            "ticks": "",
            "zerolinecolor": "white"
           }
          },
          "shapedefaults": {
           "line": {
            "color": "#2a3f5f"
           }
          },
          "ternary": {
           "aaxis": {
            "gridcolor": "white",
            "linecolor": "white",
            "ticks": ""
           },
           "baxis": {
            "gridcolor": "white",
            "linecolor": "white",
            "ticks": ""
           },
           "bgcolor": "#E5ECF6",
           "caxis": {
            "gridcolor": "white",
            "linecolor": "white",
            "ticks": ""
           }
          },
          "title": {
           "x": 0.05
          },
          "xaxis": {
           "automargin": true,
           "gridcolor": "white",
           "linecolor": "white",
           "ticks": "",
           "title": {
            "standoff": 15
           },
           "zerolinecolor": "white",
           "zerolinewidth": 2
          },
          "yaxis": {
           "automargin": true,
           "gridcolor": "white",
           "linecolor": "white",
           "ticks": "",
           "title": {
            "standoff": 15
           },
           "zerolinecolor": "white",
           "zerolinewidth": 2
          }
         }
        },
        "title": {
         "text": "Personal responsibility?"
        },
        "width": 500
       }
      }
     },
     "metadata": {},
     "output_type": "display_data"
    }
   ],
   "source": [
    "#plot a map with the proportion of people feeling a personal responsibility to try to reduce climate change in each country as a colorcode\n",
    "fig = px.choropleth(yes_map, locationmode= 'ISO-3',locations='country_alpha_3', color='ccrdprs_yes', projection='natural earth'\n",
    ", color_continuous_scale=colormap_ccrdprs, title=\"Personal responsibility?\", width=500, height=400)\n",
    "fig.update_geos(center=dict(lon=10, lat=55),\n",
    "    lataxis_range=[0,55], lonaxis_range=[0, 80])\n",
    "fig.show()"
   ]
  },
  {
   "cell_type": "markdown",
   "metadata": {},
   "source": [
    "#### Correlations?"
   ]
  },
  {
   "cell_type": "code",
   "execution_count": 20,
   "metadata": {},
   "outputs": [
    {
     "name": "stdout",
     "output_type": "stream",
     "text": [
      "Change-Human correlation: R=0.46, p_value=0.03\n",
      "Change-Human correlation: R=0.42, p_value=0.05\n",
      "Change-Human correlation: R=0.64, p_value=0.0\n"
     ]
    }
   ],
   "source": [
    "#compute pearson correlations\n",
    "corr_ch = pearsonr(yes_map['clmchng_yes'],yes_map['ccnthum_yes'])\n",
    "corr_hr = pearsonr(yes_map['ccnthum_yes'],yes_map['ccrdprs_yes'])\n",
    "corr_cr = pearsonr(yes_map['clmchng_yes'],yes_map['ccrdprs_yes'])\n",
    "\n",
    "#store correlation r\n",
    "ch_r = round(corr_ch[0],2)\n",
    "hr_r = round(corr_hr[0],2)\n",
    "cr_r = round(corr_cr[0],2)\n",
    "\n",
    "print(f\"Change-Human correlation: R={ch_r}, p_value={round(corr_ch[1],2)}\")\n",
    "print(f\"Change-Human correlation: R={hr_r}, p_value={round(corr_hr[1],2)}\")\n",
    "print(f\"Change-Human correlation: R={cr_r}, p_value={round(corr_cr[1],2)}\")"
   ]
  },
  {
   "cell_type": "code",
   "execution_count": 21,
   "metadata": {},
   "outputs": [
    {
     "data": {
      "image/png": "[encoded data removed]",
      "text/plain": [
       "<Figure size 1440x720 with 2 Axes>"
      ]
     },
     "metadata": {
      "needs_background": "light"
     },
     "output_type": "display_data"
    }
   ],
   "source": [
    "#extract array with a measure of the population size of each country\n",
    "cntry_size = df[['cntry','pweight']].groupby('cntry').mean()\n",
    "\n",
    "#build a scatter plot with regressions lines\n",
    "fig, axs = plt.subplots(1,2,figsize=(20,10))\n",
    "axs[0].scatter(yes_map['clmchng_yes'],yes_map['ccnthum_yes'], s=cntry_size['pweight']*350, alpha=0.5); axs[0].set_xlabel(\"Climate Change?\", fontsize=20); axs[0].set_ylabel(\"Human Cause?\", fontsize=20); m, b = np.polyfit(yes_map['clmchng_yes'],yes_map['ccnthum_yes'], 1); axs[0].plot(yes_map['clmchng_yes'], m*yes_map['clmchng_yes'] + b, color='#FF6962'); axs[0].annotate(\"Pearson r: \" + str(ch_r) + \" *\", (84,42), color='#FF6962', fontsize=15);\n",
    "axs[1].scatter(yes_map['ccnthum_yes'],yes_map['ccrdprs_yes'], s=cntry_size['pweight']*350, alpha=0.5); axs[1].set_xlabel(\"Human Cause?\", fontsize=20); axs[1].set_ylabel(\"Personal Responsibility?\", fontsize=20); m, b = np.polyfit(yes_map['ccnthum_yes'],yes_map['ccrdprs_yes'], 1); axs[1].plot(yes_map['ccnthum_yes'], m*yes_map['ccnthum_yes'] + b, color='#FF6962'); axs[1].annotate(\"Pearson r: \" + str(hr_r) + \" *\", (48,59), color='#FF6962', fontsize=15);\n",
    "for i,txt in enumerate(yes_map['country_alpha_3']):\n",
    "    axs[0].annotate(\"  \" +str(txt), (yes_map['clmchng_yes'][i],yes_map['ccnthum_yes'][i]), size=9, weight='bold')\n",
    "    axs[1].annotate(\"  \" +str(txt), (yes_map['ccnthum_yes'][i],yes_map['ccrdprs_yes'][i]), size=9, weight='bold')"
   ]
  },
  {
   "cell_type": "markdown",
   "metadata": {},
   "source": [
    "#### Are there predictors of these beliefs?"
   ]
  },
  {
   "cell_type": "code",
   "execution_count": 22,
   "metadata": {},
   "outputs": [],
   "source": [
    "from sklearn.model_selection import train_test_split\n",
    "from statsmodels.miscmodels.ordinal_model import OrderedModel"
   ]
  },
  {
   "cell_type": "code",
   "execution_count": 23,
   "metadata": {},
   "outputs": [
    {
     "data": {
      "text/html": [
       "<div>\n",
       "<style scoped>\n",
       "    .dataframe tbody tr th:only-of-type {\n",
       "        vertical-align: middle;\n",
       "    }\n",
       "\n",
       "    .dataframe tbody tr th {\n",
       "        vertical-align: top;\n",
       "    }\n",
       "\n",
       "    .dataframe thead th {\n",
       "        text-align: right;\n",
       "    }\n",
       "</style>\n",
       "<table border=\"1\" class=\"dataframe\">\n",
       "  <thead>\n",
       "    <tr style=\"text-align: right;\">\n",
       "      <th></th>\n",
       "      <th>clmchng</th>\n",
       "      <th>ccnthum</th>\n",
       "      <th>ccrdprs</th>\n",
       "      <th>agea</th>\n",
       "      <th>eduyrs</th>\n",
       "      <th>netustm</th>\n",
       "      <th>nwspol</th>\n",
       "      <th>wkhct</th>\n",
       "    </tr>\n",
       "  </thead>\n",
       "  <tbody>\n",
       "    <tr>\n",
       "      <th>0</th>\n",
       "      <td>1.0</td>\n",
       "      <td>4.0</td>\n",
       "      <td>8.0</td>\n",
       "      <td>34.0</td>\n",
       "      <td>21.0</td>\n",
       "      <td>180.0</td>\n",
       "      <td>120.0</td>\n",
       "      <td>25.0</td>\n",
       "    </tr>\n",
       "    <tr>\n",
       "      <th>1</th>\n",
       "      <td>1.0</td>\n",
       "      <td>4.0</td>\n",
       "      <td>7.0</td>\n",
       "      <td>52.0</td>\n",
       "      <td>16.0</td>\n",
       "      <td>120.0</td>\n",
       "      <td>120.0</td>\n",
       "      <td>NaN</td>\n",
       "    </tr>\n",
       "    <tr>\n",
       "      <th>2</th>\n",
       "      <td>1.0</td>\n",
       "      <td>4.0</td>\n",
       "      <td>8.0</td>\n",
       "      <td>68.0</td>\n",
       "      <td>13.0</td>\n",
       "      <td>NaN</td>\n",
       "      <td>30.0</td>\n",
       "      <td>38.0</td>\n",
       "    </tr>\n",
       "    <tr>\n",
       "      <th>3</th>\n",
       "      <td>2.0</td>\n",
       "      <td>3.0</td>\n",
       "      <td>6.0</td>\n",
       "      <td>54.0</td>\n",
       "      <td>12.0</td>\n",
       "      <td>120.0</td>\n",
       "      <td>30.0</td>\n",
       "      <td>40.0</td>\n",
       "    </tr>\n",
       "    <tr>\n",
       "      <th>4</th>\n",
       "      <td>1.0</td>\n",
       "      <td>4.0</td>\n",
       "      <td>6.0</td>\n",
       "      <td>20.0</td>\n",
       "      <td>13.0</td>\n",
       "      <td>180.0</td>\n",
       "      <td>30.0</td>\n",
       "      <td>40.0</td>\n",
       "    </tr>\n",
       "  </tbody>\n",
       "</table>\n",
       "</div>"
      ],
      "text/plain": [
       "   clmchng  ccnthum  ccrdprs  agea  eduyrs  netustm  nwspol  wkhct\n",
       "0      1.0      4.0      8.0  34.0    21.0    180.0   120.0   25.0\n",
       "1      1.0      4.0      7.0  52.0    16.0    120.0   120.0    NaN\n",
       "2      1.0      4.0      8.0  68.0    13.0      NaN    30.0   38.0\n",
       "3      2.0      3.0      6.0  54.0    12.0    120.0    30.0   40.0\n",
       "4      1.0      4.0      6.0  20.0    13.0    180.0    30.0   40.0"
      ]
     },
     "execution_count": 23,
     "metadata": {},
     "output_type": "execute_result"
    }
   ],
   "source": [
    "#Extract a new sub-set of the full dataset\n",
    "df_reg = df_full[['clmchng','ccnthum','ccrdprs','agea','eduyrs','netustm','nwspol','wkhct']]\n",
    "\n",
    "#consider \"Not applicable\", \"Refusal\", \"Don't know\", \"No answer\" and other answers as missing values \n",
    "df_reg['clmchng'].replace(dict.fromkeys([7,8,9],np.NaN),inplace=True) \n",
    "df_reg['ccnthum'].replace(dict.fromkeys([55,66,77,88,99],np.NaN),inplace=True)\n",
    "df_reg['ccrdprs'].replace(dict.fromkeys([66,77,88,99],np.NaN),inplace=True)\n",
    "df_reg['agea'].replace(999,np.NaN,inplace=True)\n",
    "df_reg['eduyrs'].replace(dict.fromkeys([77,88,99],np.NaN),inplace=True)\n",
    "df_reg['netustm'].replace(dict.fromkeys([6666,7777,8888,9999],np.NaN),inplace=True)\n",
    "df_reg['nwspol'].replace(dict.fromkeys([7777,8888,9999],np.NaN),inplace=True)\n",
    "df_reg['wkhct'].replace(dict.fromkeys([666,777,888,999],np.NaN),inplace=True)\n",
    "\n",
    "df_reg.head()"
   ]
  },
  {
   "cell_type": "code",
   "execution_count": 24,
   "metadata": {},
   "outputs": [],
   "source": [
    "#define dataframe where rows containing nans in the 'clmchng' columns are dropped\n",
    "df_reg_cc = df_reg.dropna(subset=['clmchng'],axis=0)\n",
    "#reverse the scores to be coherent with the other two questions: higher score means more recognition to climate change\n",
    "df_reg_cc['clmchng'] = -df_reg_cc['clmchng']\n",
    "\n",
    "#define dataframe where rows containing nans in the 'ccnthum' columns are dropped\n",
    "df_reg_ch = df_reg.dropna(subset=['ccnthum'],axis=0)\n",
    "\n",
    "#define dataframe where rows containing nans in the 'ccrdprs' columns are dropped\n",
    "df_reg_pr = df_reg.dropna(subset=['ccrdprs'],axis=0)"
   ]
  },
  {
   "cell_type": "code",
   "execution_count": 25,
   "metadata": {},
   "outputs": [
    {
     "name": "stdout",
     "output_type": "stream",
     "text": [
      "Optimization terminated successfully.\n",
      "         Current function value: 0.911958\n",
      "         Iterations: 26\n",
      "         Function evaluations: 29\n",
      "         Gradient evaluations: 29\n",
      "Optimization terminated successfully.\n",
      "         Current function value: 1.164544\n",
      "         Iterations: 26\n",
      "         Function evaluations: 29\n",
      "         Gradient evaluations: 29\n",
      "Optimization terminated successfully.\n",
      "         Current function value: 2.256977\n",
      "         Iterations: 40\n",
      "         Function evaluations: 46\n",
      "         Gradient evaluations: 46\n"
     ]
    },
    {
     "data": {
      "image/png": "[encoded data removed]",
      "text/plain": [
       "<Figure size 1296x360 with 3 Axes>"
      ]
     },
     "metadata": {
      "needs_background": "light"
     },
     "output_type": "display_data"
    }
   ],
   "source": [
    "#build a subplot structure\n",
    "fig, axs = plt.subplots(1,3,figsize=(18,5))\n",
    "#define lists used in the loop\n",
    "df_list = [df_reg_cc,df_reg_ch,df_reg_pr]\n",
    "y_list = ['clmchng','ccnthum','ccrdprs']\n",
    "title_list = [\"World's climate is changing?\",\"Human or nature cause?\",\"Personal responsibility?\"]\n",
    "\n",
    "for d,df_plotted in enumerate(df_list):\n",
    "\n",
    "    #define the predictor matrix X containing 5 variables: 'age', 'education years', 'internet use', 'politics news', 'working hours'\n",
    "    X = df_plotted.drop(columns=['clmchng','ccnthum','ccrdprs'])\n",
    "    X = X.apply(lambda col: col.fillna(col.mean()))\n",
    "\n",
    "    #define the dependent variable as one of the variable of interest\n",
    "    y = df_plotted[y_list[d]]\n",
    "\n",
    "    #split in train and test data\n",
    "    X_train, X_test, y_train, y_test = train_test_split(X, y, test_size = .30, random_state=42)\n",
    "\n",
    "    #initialize and fit the ordered logistic model\n",
    "    mod_prob = OrderedModel(y_train,X_train, distr='logit')\n",
    "    res_prob_pr = mod_prob.fit(method='bfgs')\n",
    "\n",
    "    #define how many predictors \n",
    "    n_ind_vars = 5\n",
    "\n",
    "    #extract coefficients from summary table\n",
    "    sum = res_prob_pr.summary()\n",
    "    tcoeff = sum.tables[1]\n",
    "    coeffs = []\n",
    "    for row in tcoeff.data:\n",
    "        coeffs.append(row[1])\n",
    "\n",
    "    #convert coefficients into a numpy array\n",
    "    coeff_array = np.array(coeffs)[1:n_ind_vars+1].astype(float)\n",
    "\n",
    "    #define colors relative to the positive coff (green) or negative coeff (red)\n",
    "    col_bars = []\n",
    "    for col in coeff_array:\n",
    "        if col >0:\n",
    "            col_bars.append(\"#77DD76\")\n",
    "        else:\n",
    "            col_bars.append(\"#FF6962\")\n",
    "\n",
    "    #plot three horizontal bar charts\n",
    "    axs[d].barh(y=list(range(len(coeff_array))), width=coeff_array, color=col_bars)\n",
    "    axs[d].set_yticks(range(n_ind_vars))\n",
    "    if d == 0:\n",
    "        axs[d].set_yticklabels(['age', 'education years', 'internet use', 'politics news', 'working hours'], fontsize=15)\n",
    "    else:\n",
    "        axs[d].set_yticklabels([])\n",
    "    axs[d].set_xlim([-0.2,0.2])\n",
    "    axs[d].set_xlabel(\"Coefficients\", fontsize=13)\n",
    "    axs[d].axvline(0, color=\"black\");\n",
    "    axs[d].set_title(title_list[d], fontsize=15)\n"
   ]
  }
 ],
 "metadata": {
  "interpreter": {
   "hash": "c89dac2000cd39b6c6afdbb40384525553e908a214fa5e3caa43ad6708c415f4"
  },
  "kernelspec": {
   "display_name": "Python 3.9.6 64-bit",
   "language": "python",
   "name": "python3"
  },
  "language_info": {
   "codemirror_mode": {
    "name": "ipython",
    "version": 3
   },
   "file_extension": ".py",
   "mimetype": "text/x-python",
   "name": "python",
   "nbconvert_exporter": "python",
   "pygments_lexer": "ipython3",
   "version": "3.9.6"
  },
  "orig_nbformat": 4
 },
 "nbformat": 4,
 "nbformat_minor": 2
}
