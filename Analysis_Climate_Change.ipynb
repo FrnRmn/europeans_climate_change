{
 "cells": [
  {
   "cell_type": "markdown",
   "metadata": {},
   "source": [
    "## Section 1 : Buisness Understanding"
   ]
  },
  {
   "cell_type": "markdown",
   "metadata": {},
   "source": [
    "Climate change is a serious and urgent problem for humankind. Stakes are high and we need to stop it. A crucial step is to gain awareness of the problem, the next step is to actively work for improving the situation.\n",
    "\n",
    "The dataset from the European Social Survey includes responses related to climate change coming from many European countries. Here we will explore these data guided by some questions you have probably already asked yourself.\n",
    "\n",
    "- Do Europeans actually acknowledge the relevance of climate change?\n",
    "- Are there some hidden beliefs that might undermine a fast and efficient problem resolution?\n",
    "- Do European countries have different problems and therefore different directions of improvement?\n",
    "- Are there apparently unrelated factors that are instead related to climate change beliefs?"
   ]
  },
  {
   "cell_type": "markdown",
   "metadata": {},
   "source": [
    "## Section 2 : Data Understanding"
   ]
  },
  {
   "cell_type": "markdown",
   "metadata": {},
   "source": [
    "Let's begin with importing libraries, functions and data needed for the project. \n",
    "\n",
    "Note that **the .csv file can be donwloaded for free**, see README.md for more info. \n",
    "\n",
    "Additionally, the European Social Survey provided **a very useful .pdf** file where they describe the dataset and the variables in great detailed. I suggest you to take a look and use it as a reference when you want to know more about some variables."
   ]
  },
  {
   "cell_type": "code",
   "execution_count": 25,
   "metadata": {},
   "outputs": [
    {
     "data": {
      "text/html": [
       "<div>\n",
       "<style scoped>\n",
       "    .dataframe tbody tr th:only-of-type {\n",
       "        vertical-align: middle;\n",
       "    }\n",
       "\n",
       "    .dataframe tbody tr th {\n",
       "        vertical-align: top;\n",
       "    }\n",
       "\n",
       "    .dataframe thead th {\n",
       "        text-align: right;\n",
       "    }\n",
       "</style>\n",
       "<table border=\"1\" class=\"dataframe\">\n",
       "  <thead>\n",
       "    <tr style=\"text-align: right;\">\n",
       "      <th></th>\n",
       "      <th>name</th>\n",
       "      <th>essround</th>\n",
       "      <th>edition</th>\n",
       "      <th>proddate</th>\n",
       "      <th>idno</th>\n",
       "      <th>cntry</th>\n",
       "      <th>nwspol</th>\n",
       "      <th>netusoft</th>\n",
       "      <th>netustm</th>\n",
       "      <th>ppltrst</th>\n",
       "      <th>...</th>\n",
       "      <th>inwsmm</th>\n",
       "      <th>inwdde</th>\n",
       "      <th>inwmme</th>\n",
       "      <th>inwyye</th>\n",
       "      <th>inwehh</th>\n",
       "      <th>inwemm</th>\n",
       "      <th>inwtm</th>\n",
       "      <th>dweight</th>\n",
       "      <th>pspwght</th>\n",
       "      <th>pweight</th>\n",
       "    </tr>\n",
       "  </thead>\n",
       "  <tbody>\n",
       "    <tr>\n",
       "      <th>0</th>\n",
       "      <td>ESS8e02_1</td>\n",
       "      <td>8</td>\n",
       "      <td>2.1</td>\n",
       "      <td>01.12.2018</td>\n",
       "      <td>1</td>\n",
       "      <td>AT</td>\n",
       "      <td>120</td>\n",
       "      <td>4</td>\n",
       "      <td>180</td>\n",
       "      <td>8</td>\n",
       "      <td>...</td>\n",
       "      <td>37</td>\n",
       "      <td>5</td>\n",
       "      <td>12</td>\n",
       "      <td>2016</td>\n",
       "      <td>8</td>\n",
       "      <td>33</td>\n",
       "      <td>50.0</td>\n",
       "      <td>0.611677</td>\n",
       "      <td>1.178496</td>\n",
       "      <td>0.370393</td>\n",
       "    </tr>\n",
       "    <tr>\n",
       "      <th>1</th>\n",
       "      <td>ESS8e02_1</td>\n",
       "      <td>8</td>\n",
       "      <td>2.1</td>\n",
       "      <td>01.12.2018</td>\n",
       "      <td>2</td>\n",
       "      <td>AT</td>\n",
       "      <td>120</td>\n",
       "      <td>5</td>\n",
       "      <td>120</td>\n",
       "      <td>6</td>\n",
       "      <td>...</td>\n",
       "      <td>39</td>\n",
       "      <td>25</td>\n",
       "      <td>11</td>\n",
       "      <td>2016</td>\n",
       "      <td>11</td>\n",
       "      <td>10</td>\n",
       "      <td>86.0</td>\n",
       "      <td>1.223354</td>\n",
       "      <td>0.899472</td>\n",
       "      <td>0.370393</td>\n",
       "    </tr>\n",
       "    <tr>\n",
       "      <th>2</th>\n",
       "      <td>ESS8e02_1</td>\n",
       "      <td>8</td>\n",
       "      <td>2.1</td>\n",
       "      <td>01.12.2018</td>\n",
       "      <td>4</td>\n",
       "      <td>AT</td>\n",
       "      <td>30</td>\n",
       "      <td>2</td>\n",
       "      <td>6666</td>\n",
       "      <td>5</td>\n",
       "      <td>...</td>\n",
       "      <td>17</td>\n",
       "      <td>22</td>\n",
       "      <td>11</td>\n",
       "      <td>2016</td>\n",
       "      <td>18</td>\n",
       "      <td>0</td>\n",
       "      <td>38.0</td>\n",
       "      <td>0.389058</td>\n",
       "      <td>0.315753</td>\n",
       "      <td>0.370393</td>\n",
       "    </tr>\n",
       "    <tr>\n",
       "      <th>3</th>\n",
       "      <td>ESS8e02_1</td>\n",
       "      <td>8</td>\n",
       "      <td>2.1</td>\n",
       "      <td>01.12.2018</td>\n",
       "      <td>6</td>\n",
       "      <td>AT</td>\n",
       "      <td>30</td>\n",
       "      <td>5</td>\n",
       "      <td>120</td>\n",
       "      <td>6</td>\n",
       "      <td>...</td>\n",
       "      <td>9</td>\n",
       "      <td>11</td>\n",
       "      <td>10</td>\n",
       "      <td>2016</td>\n",
       "      <td>19</td>\n",
       "      <td>59</td>\n",
       "      <td>46.0</td>\n",
       "      <td>0.642594</td>\n",
       "      <td>0.472467</td>\n",
       "      <td>0.370393</td>\n",
       "    </tr>\n",
       "    <tr>\n",
       "      <th>4</th>\n",
       "      <td>ESS8e02_1</td>\n",
       "      <td>8</td>\n",
       "      <td>2.1</td>\n",
       "      <td>01.12.2018</td>\n",
       "      <td>10</td>\n",
       "      <td>AT</td>\n",
       "      <td>30</td>\n",
       "      <td>5</td>\n",
       "      <td>180</td>\n",
       "      <td>5</td>\n",
       "      <td>...</td>\n",
       "      <td>31</td>\n",
       "      <td>1</td>\n",
       "      <td>12</td>\n",
       "      <td>2016</td>\n",
       "      <td>11</td>\n",
       "      <td>49</td>\n",
       "      <td>70.0</td>\n",
       "      <td>3.432402</td>\n",
       "      <td>2.246706</td>\n",
       "      <td>0.370393</td>\n",
       "    </tr>\n",
       "  </tbody>\n",
       "</table>\n",
       "<p>5 rows × 534 columns</p>\n",
       "</div>"
      ],
      "text/plain": [
       "        name  essround  edition    proddate  idno cntry  nwspol  netusoft  \\\n",
       "0  ESS8e02_1         8      2.1  01.12.2018     1    AT     120         4   \n",
       "1  ESS8e02_1         8      2.1  01.12.2018     2    AT     120         5   \n",
       "2  ESS8e02_1         8      2.1  01.12.2018     4    AT      30         2   \n",
       "3  ESS8e02_1         8      2.1  01.12.2018     6    AT      30         5   \n",
       "4  ESS8e02_1         8      2.1  01.12.2018    10    AT      30         5   \n",
       "\n",
       "   netustm  ppltrst  ...  inwsmm  inwdde  inwmme  inwyye  inwehh  inwemm  \\\n",
       "0      180        8  ...      37       5      12    2016       8      33   \n",
       "1      120        6  ...      39      25      11    2016      11      10   \n",
       "2     6666        5  ...      17      22      11    2016      18       0   \n",
       "3      120        6  ...       9      11      10    2016      19      59   \n",
       "4      180        5  ...      31       1      12    2016      11      49   \n",
       "\n",
       "   inwtm   dweight   pspwght   pweight  \n",
       "0   50.0  0.611677  1.178496  0.370393  \n",
       "1   86.0  1.223354  0.899472  0.370393  \n",
       "2   38.0  0.389058  0.315753  0.370393  \n",
       "3   46.0  0.642594  0.472467  0.370393  \n",
       "4   70.0  3.432402  2.246706  0.370393  \n",
       "\n",
       "[5 rows x 534 columns]"
      ]
     },
     "execution_count": 25,
     "metadata": {},
     "output_type": "execute_result"
    }
   ],
   "source": [
    "import pandas as pd\n",
    "import numpy as np\n",
    "import matplotlib.pyplot as plt\n",
    "import plotly.express as px\n",
    "import matplotlib.colors as mcolors\n",
    "from pycountry_convert import country_alpha2_to_country_name, country_name_to_country_alpha3\n",
    "from scipy.stats import pearsonr\n",
    "from weighted_counts import weighted_value_counts,weighted_country_value_counts\n",
    "pd.options.mode.chained_assignment = None  # default='warn'\n",
    "%matplotlib inline\n",
    "\n",
    "#color palette\n",
    "colormap_clmchng = ['#0474BA','#00A7E1', '#FFA630', '#F17720']\n",
    "colormap_clmchng_r = colormap_clmchng.copy(); colormap_clmchng_r.reverse()\n",
    "colormap_ccnthum = ['#32c377','#009f95','#0076a3','#004b92','#041c62']\n",
    "colormap_ccrdprs = ['#c37732', '#c35a32','#bc4742','#af3750','#9c2e5c','#832b65','#672c69','#462c68','#202b62','#101041','#08042a']\n",
    "\n",
    "#import csv data\n",
    "df_full = pd.read_csv('./ESS8e02.1_F1.csv',low_memory=False)\n",
    "df_full.head()"
   ]
  },
  {
   "cell_type": "markdown",
   "metadata": {},
   "source": [
    "The dataset is huge. We will need only a portion of it."
   ]
  },
  {
   "cell_type": "code",
   "execution_count": 26,
   "metadata": {},
   "outputs": [
    {
     "data": {
      "text/html": [
       "<div>\n",
       "<style scoped>\n",
       "    .dataframe tbody tr th:only-of-type {\n",
       "        vertical-align: middle;\n",
       "    }\n",
       "\n",
       "    .dataframe tbody tr th {\n",
       "        vertical-align: top;\n",
       "    }\n",
       "\n",
       "    .dataframe thead th {\n",
       "        text-align: right;\n",
       "    }\n",
       "</style>\n",
       "<table border=\"1\" class=\"dataframe\">\n",
       "  <thead>\n",
       "    <tr style=\"text-align: right;\">\n",
       "      <th></th>\n",
       "      <th>cntry</th>\n",
       "      <th>pspwght</th>\n",
       "      <th>pweight</th>\n",
       "      <th>clmchng</th>\n",
       "      <th>ccnthum</th>\n",
       "      <th>ccrdprs</th>\n",
       "    </tr>\n",
       "  </thead>\n",
       "  <tbody>\n",
       "    <tr>\n",
       "      <th>0</th>\n",
       "      <td>AT</td>\n",
       "      <td>1.178496</td>\n",
       "      <td>0.370393</td>\n",
       "      <td>1</td>\n",
       "      <td>4</td>\n",
       "      <td>8</td>\n",
       "    </tr>\n",
       "    <tr>\n",
       "      <th>1</th>\n",
       "      <td>AT</td>\n",
       "      <td>0.899472</td>\n",
       "      <td>0.370393</td>\n",
       "      <td>1</td>\n",
       "      <td>4</td>\n",
       "      <td>7</td>\n",
       "    </tr>\n",
       "    <tr>\n",
       "      <th>2</th>\n",
       "      <td>AT</td>\n",
       "      <td>0.315753</td>\n",
       "      <td>0.370393</td>\n",
       "      <td>1</td>\n",
       "      <td>4</td>\n",
       "      <td>8</td>\n",
       "    </tr>\n",
       "    <tr>\n",
       "      <th>3</th>\n",
       "      <td>AT</td>\n",
       "      <td>0.472467</td>\n",
       "      <td>0.370393</td>\n",
       "      <td>2</td>\n",
       "      <td>3</td>\n",
       "      <td>6</td>\n",
       "    </tr>\n",
       "    <tr>\n",
       "      <th>4</th>\n",
       "      <td>AT</td>\n",
       "      <td>2.246706</td>\n",
       "      <td>0.370393</td>\n",
       "      <td>1</td>\n",
       "      <td>4</td>\n",
       "      <td>6</td>\n",
       "    </tr>\n",
       "  </tbody>\n",
       "</table>\n",
       "</div>"
      ],
      "text/plain": [
       "  cntry   pspwght   pweight  clmchng  ccnthum  ccrdprs\n",
       "0    AT  1.178496  0.370393        1        4        8\n",
       "1    AT  0.899472  0.370393        1        4        7\n",
       "2    AT  0.315753  0.370393        1        4        8\n",
       "3    AT  0.472467  0.370393        2        3        6\n",
       "4    AT  2.246706  0.370393        1        4        6"
      ]
     },
     "execution_count": 26,
     "metadata": {},
     "output_type": "execute_result"
    }
   ],
   "source": [
    "#select a subset of the dataset\n",
    "df = df_full[['cntry','pspwght','pweight','clmchng','ccnthum','ccrdprs']]\n",
    "df.head()"
   ]
  },
  {
   "cell_type": "markdown",
   "metadata": {},
   "source": [
    "Now it we have extracted the variables we are interested in:\n",
    "- cntry: country\n",
    "- pspwght: post-stratification weight\n",
    "- pweight: population weight\n",
    "- clmchng: World's climate is changing?\n",
    "- ccnthum: Climate change is caused by nature or human activity?\n",
    "- ccrdprs: Personal responsibility to try to reduce climate change?\n",
    "\n",
    "Let's take a general sense of the data."
   ]
  },
  {
   "cell_type": "code",
   "execution_count": 27,
   "metadata": {},
   "outputs": [
    {
     "data": {
      "text/html": [
       "<div>\n",
       "<style scoped>\n",
       "    .dataframe tbody tr th:only-of-type {\n",
       "        vertical-align: middle;\n",
       "    }\n",
       "\n",
       "    .dataframe tbody tr th {\n",
       "        vertical-align: top;\n",
       "    }\n",
       "\n",
       "    .dataframe thead th {\n",
       "        text-align: right;\n",
       "    }\n",
       "</style>\n",
       "<table border=\"1\" class=\"dataframe\">\n",
       "  <thead>\n",
       "    <tr style=\"text-align: right;\">\n",
       "      <th></th>\n",
       "      <th>pspwght</th>\n",
       "      <th>pweight</th>\n",
       "      <th>clmchng</th>\n",
       "      <th>ccnthum</th>\n",
       "      <th>ccrdprs</th>\n",
       "    </tr>\n",
       "  </thead>\n",
       "  <tbody>\n",
       "    <tr>\n",
       "      <th>count</th>\n",
       "      <td>44387.000000</td>\n",
       "      <td>44387.000000</td>\n",
       "      <td>44387.000000</td>\n",
       "      <td>44387.000000</td>\n",
       "      <td>44387.000000</td>\n",
       "    </tr>\n",
       "    <tr>\n",
       "      <th>mean</th>\n",
       "      <td>1.000000</td>\n",
       "      <td>1.174817</td>\n",
       "      <td>1.682024</td>\n",
       "      <td>7.439408</td>\n",
       "      <td>9.490301</td>\n",
       "    </tr>\n",
       "    <tr>\n",
       "      <th>std</th>\n",
       "      <td>0.548561</td>\n",
       "      <td>1.301596</td>\n",
       "      <td>1.211252</td>\n",
       "      <td>16.753236</td>\n",
       "      <td>16.570948</td>\n",
       "    </tr>\n",
       "    <tr>\n",
       "      <th>min</th>\n",
       "      <td>0.018145</td>\n",
       "      <td>0.030226</td>\n",
       "      <td>1.000000</td>\n",
       "      <td>1.000000</td>\n",
       "      <td>0.000000</td>\n",
       "    </tr>\n",
       "    <tr>\n",
       "      <th>25%</th>\n",
       "      <td>0.694870</td>\n",
       "      <td>0.239750</td>\n",
       "      <td>1.000000</td>\n",
       "      <td>3.000000</td>\n",
       "      <td>4.000000</td>\n",
       "    </tr>\n",
       "    <tr>\n",
       "      <th>50%</th>\n",
       "      <td>0.920021</td>\n",
       "      <td>0.520820</td>\n",
       "      <td>1.000000</td>\n",
       "      <td>3.000000</td>\n",
       "      <td>6.000000</td>\n",
       "    </tr>\n",
       "    <tr>\n",
       "      <th>75%</th>\n",
       "      <td>1.169933</td>\n",
       "      <td>2.013008</td>\n",
       "      <td>2.000000</td>\n",
       "      <td>4.000000</td>\n",
       "      <td>8.000000</td>\n",
       "    </tr>\n",
       "    <tr>\n",
       "      <th>max</th>\n",
       "      <td>4.002002</td>\n",
       "      <td>4.985758</td>\n",
       "      <td>9.000000</td>\n",
       "      <td>99.000000</td>\n",
       "      <td>99.000000</td>\n",
       "    </tr>\n",
       "  </tbody>\n",
       "</table>\n",
       "</div>"
      ],
      "text/plain": [
       "            pspwght       pweight       clmchng       ccnthum       ccrdprs\n",
       "count  44387.000000  44387.000000  44387.000000  44387.000000  44387.000000\n",
       "mean       1.000000      1.174817      1.682024      7.439408      9.490301\n",
       "std        0.548561      1.301596      1.211252     16.753236     16.570948\n",
       "min        0.018145      0.030226      1.000000      1.000000      0.000000\n",
       "25%        0.694870      0.239750      1.000000      3.000000      4.000000\n",
       "50%        0.920021      0.520820      1.000000      3.000000      6.000000\n",
       "75%        1.169933      2.013008      2.000000      4.000000      8.000000\n",
       "max        4.002002      4.985758      9.000000     99.000000     99.000000"
      ]
     },
     "execution_count": 27,
     "metadata": {},
     "output_type": "execute_result"
    }
   ],
   "source": [
    "df.describe()"
   ]
  },
  {
   "cell_type": "code",
   "execution_count": 28,
   "metadata": {},
   "outputs": [
    {
     "data": {
      "image/png": "[encoded data removed]",
      "text/plain": [
       "<Figure size 720x576 with 6 Axes>"
      ]
     },
     "metadata": {
      "needs_background": "light"
     },
     "output_type": "display_data"
    }
   ],
   "source": [
    "df.hist(figsize=(10,8));"
   ]
  },
  {
   "cell_type": "markdown",
   "metadata": {},
   "source": [
    "Looking at the counts it seems that the dataset has no missing values.\n",
    "\n",
    "However, we can notice something strange in the descriptive statistics table and in the histograms: some values are completely out of the distribution of observations.\n",
    "\n",
    "Now it comes handy the .pdf file. There we can notice that some values are representative of special cases (\"Not applicable\", \"Refusal\", \"Don't know\", \"No answer\"...). In particular, we are talking about all values >4 for the variable *'clmchng'*, all values >5 for *'ccnthum'*, and all values >10 for *'ccrdprs'*"
   ]
  },
  {
   "cell_type": "markdown",
   "metadata": {},
   "source": [
    "## Section 3 : Data Preparation"
   ]
  },
  {
   "cell_type": "markdown",
   "metadata": {},
   "source": [
    "In the previous section we have discovered that there are different special values representing special answers to the survey. Here, for sake of simplicity, we will consider those special values as nulls."
   ]
  },
  {
   "cell_type": "code",
   "execution_count": 29,
   "metadata": {},
   "outputs": [],
   "source": [
    "#consider \"Not applicable\", \"Refusal\", \"Don't know\", \"No answer\" and other answers as missing values \n",
    "df['clmchng'].replace(dict.fromkeys([7,8,9],np.NaN),inplace=True) \n",
    "df['ccnthum'].replace(dict.fromkeys([55,66,77,88,99],np.NaN),inplace=True)\n",
    "df['ccrdprs'].replace(dict.fromkeys([66,77,88,99],np.NaN),inplace=True)"
   ]
  },
  {
   "cell_type": "markdown",
   "metadata": {},
   "source": [
    "Moreover, we need to create a new columns in our dataset combining post-stratification weights and population weights.\n",
    "Weights are important for survey analysis, because they correct the data avoiding sampling biases and other biases given by the experimental design or by other factors."
   ]
  },
  {
   "cell_type": "code",
   "execution_count": 30,
   "metadata": {},
   "outputs": [],
   "source": [
    "#add a new column as the combination between post-stratification weights and population weights\n",
    "df['anwght'] = df['pspwght'] * df['pweight']"
   ]
  },
  {
   "cell_type": "markdown",
   "metadata": {},
   "source": [
    "Now the dataset is ready to be used."
   ]
  },
  {
   "cell_type": "code",
   "execution_count": 31,
   "metadata": {},
   "outputs": [
    {
     "data": {
      "text/html": [
       "<div>\n",
       "<style scoped>\n",
       "    .dataframe tbody tr th:only-of-type {\n",
       "        vertical-align: middle;\n",
       "    }\n",
       "\n",
       "    .dataframe tbody tr th {\n",
       "        vertical-align: top;\n",
       "    }\n",
       "\n",
       "    .dataframe thead th {\n",
       "        text-align: right;\n",
       "    }\n",
       "</style>\n",
       "<table border=\"1\" class=\"dataframe\">\n",
       "  <thead>\n",
       "    <tr style=\"text-align: right;\">\n",
       "      <th></th>\n",
       "      <th>cntry</th>\n",
       "      <th>pspwght</th>\n",
       "      <th>pweight</th>\n",
       "      <th>clmchng</th>\n",
       "      <th>ccnthum</th>\n",
       "      <th>ccrdprs</th>\n",
       "      <th>anwght</th>\n",
       "    </tr>\n",
       "  </thead>\n",
       "  <tbody>\n",
       "    <tr>\n",
       "      <th>0</th>\n",
       "      <td>AT</td>\n",
       "      <td>1.178496</td>\n",
       "      <td>0.370393</td>\n",
       "      <td>1.0</td>\n",
       "      <td>4.0</td>\n",
       "      <td>8.0</td>\n",
       "      <td>0.436506</td>\n",
       "    </tr>\n",
       "    <tr>\n",
       "      <th>1</th>\n",
       "      <td>AT</td>\n",
       "      <td>0.899472</td>\n",
       "      <td>0.370393</td>\n",
       "      <td>1.0</td>\n",
       "      <td>4.0</td>\n",
       "      <td>7.0</td>\n",
       "      <td>0.333158</td>\n",
       "    </tr>\n",
       "    <tr>\n",
       "      <th>2</th>\n",
       "      <td>AT</td>\n",
       "      <td>0.315753</td>\n",
       "      <td>0.370393</td>\n",
       "      <td>1.0</td>\n",
       "      <td>4.0</td>\n",
       "      <td>8.0</td>\n",
       "      <td>0.116953</td>\n",
       "    </tr>\n",
       "    <tr>\n",
       "      <th>3</th>\n",
       "      <td>AT</td>\n",
       "      <td>0.472467</td>\n",
       "      <td>0.370393</td>\n",
       "      <td>2.0</td>\n",
       "      <td>3.0</td>\n",
       "      <td>6.0</td>\n",
       "      <td>0.174999</td>\n",
       "    </tr>\n",
       "    <tr>\n",
       "      <th>4</th>\n",
       "      <td>AT</td>\n",
       "      <td>2.246706</td>\n",
       "      <td>0.370393</td>\n",
       "      <td>1.0</td>\n",
       "      <td>4.0</td>\n",
       "      <td>6.0</td>\n",
       "      <td>0.832164</td>\n",
       "    </tr>\n",
       "  </tbody>\n",
       "</table>\n",
       "</div>"
      ],
      "text/plain": [
       "  cntry   pspwght   pweight  clmchng  ccnthum  ccrdprs    anwght\n",
       "0    AT  1.178496  0.370393      1.0      4.0      8.0  0.436506\n",
       "1    AT  0.899472  0.370393      1.0      4.0      7.0  0.333158\n",
       "2    AT  0.315753  0.370393      1.0      4.0      8.0  0.116953\n",
       "3    AT  0.472467  0.370393      2.0      3.0      6.0  0.174999\n",
       "4    AT  2.246706  0.370393      1.0      4.0      6.0  0.832164"
      ]
     },
     "execution_count": 31,
     "metadata": {},
     "output_type": "execute_result"
    }
   ],
   "source": [
    "df.head()"
   ]
  },
  {
   "cell_type": "code",
   "execution_count": 32,
   "metadata": {},
   "outputs": [
    {
     "data": {
      "image/png": "[encoded data removed]",
      "text/plain": [
       "<Figure size 720x576 with 6 Axes>"
      ]
     },
     "metadata": {
      "needs_background": "light"
     },
     "output_type": "display_data"
    }
   ],
   "source": [
    "df.hist(figsize=(10,8));"
   ]
  },
  {
   "cell_type": "markdown",
   "metadata": {},
   "source": [
    "## Section 4 : Evaluation"
   ]
  },
  {
   "cell_type": "markdown",
   "metadata": {},
   "source": [
    "#### Do Europeans actually acknowledge the relevance of climate change?"
   ]
  },
  {
   "cell_type": "markdown",
   "metadata": {},
   "source": [
    "To answer let's take a look at the survey question: *Do you think the world's climate is changing?*.\n",
    "These responses are contained in the column named *'clmchng'*."
   ]
  },
  {
   "cell_type": "code",
   "execution_count": 34,
   "metadata": {},
   "outputs": [
    {
     "data": {
      "image/png": "[encoded data removed]",
      "text/plain": [
       "<Figure size 432x288 with 1 Axes>"
      ]
     },
     "metadata": {
      "needs_background": "light"
     },
     "output_type": "display_data"
    }
   ],
   "source": [
    "#count the occurrencies of each unique response, weighting each observation\n",
    "clmchng_w_count = weighted_value_counts(df['clmchng'],df['anwght'])[1:]\n",
    "\n",
    "#plot a bar chart as an histogram  \n",
    "plt.bar(sorted(df['clmchng'].unique().astype(int))[1:],clmchng_w_count, color=colormap_clmchng)\n",
    "plt.title(\"World's climate is changing?\")\n",
    "plt.ylabel(\"Count\")\n",
    "plt.xlabel(\"1:Definitely - 2:Probably - 3:Probably not - 4:Definitely not\")\n",
    "plt.xticks(sorted(df['clmchng'].unique().astype(int))[1:]);"
   ]
  },
  {
   "cell_type": "markdown",
   "metadata": {},
   "source": [
    "It's clear that the majority of people recognize climate change (blue answers are interpreted as 'Yes' to the survey question). Let's take a look at what this majority means in terms of numbers."
   ]
  },
  {
   "cell_type": "code",
   "execution_count": 40,
   "metadata": {},
   "outputs": [
    {
     "name": "stdout",
     "output_type": "stream",
     "text": [
      "The proportion of people recognizing climate change is: 91.9%\n"
     ]
    },
    {
     "data": {
      "image/png": "[encoded data removed]",
      "text/plain": [
       "<Figure size 432x288 with 1 Axes>"
      ]
     },
     "metadata": {},
     "output_type": "display_data"
    }
   ],
   "source": [
    "#compute the proportion of 'Definitely or Probably' answers over the total count\n",
    "clmchng_yes = round(clmchng_w_count[1:2].sum() / clmchng_w_count.sum() *100,1)\n",
    "\n",
    "#plot a pie chart\n",
    "plt.pie(clmchng_w_count,colors=colormap_clmchng);\n",
    "plt.annotate(text=str(clmchng_yes)+\"%\", xy=(-0.8,-0.1), weight='bold', fontsize=20, color='white');\n",
    "plt.title(\"World's climate is changing?\");\n",
    "plt.legend([\"Definitely\", \"Probably\" ,\"Probably not\",\"Definitely not\"], loc='upper right',bbox_to_anchor=(1.5, 1.5));\n",
    "print(\"The proportion of people recognizing climate change is: \" +str(clmchng_yes)+ \"%\")"
   ]
  },
  {
   "cell_type": "markdown",
   "metadata": {},
   "source": [
    "#### Are there some hidden beliefs that might undermine a fast and efficient problem resolution?"
   ]
  },
  {
   "cell_type": "markdown",
   "metadata": {},
   "source": [
    "It's great that the majority of people recognize climate change. Now, among the precedent group, let's take a look at the survey question: *Do you think that climate change is caused by natural processes, human activity, or both?*.\n",
    "These responses are contained in the column named *'ccnthum'*."
   ]
  },
  {
   "cell_type": "code",
   "execution_count": 41,
   "metadata": {},
   "outputs": [
    {
     "data": {
      "image/png": "[encoded data removed]",
      "text/plain": [
       "<Figure size 432x288 with 1 Axes>"
      ]
     },
     "metadata": {
      "needs_background": "light"
     },
     "output_type": "display_data"
    }
   ],
   "source": [
    "#select the precedent sub-group\n",
    "df_91_9 = df[df['clmchng'].isin([1,2])]\n",
    "\n",
    "#count the occurrencies of each unique response, weighting each observation\n",
    "ccnthum91_9_w_count = weighted_value_counts(df_91_9['ccnthum'],df['anwght']).sort_index().drop(np.NaN)\n",
    "\n",
    "#plot a bar chart as an histogram  \n",
    "plt.bar(sorted(df_91_9['ccnthum'].unique().astype(int))[1:],ccnthum91_9_w_count, color=colormap_ccnthum)\n",
    "plt.title(\"Human or nature cause?\")\n",
    "plt.ylabel(\"Count\")\n",
    "plt.xlabel(\"1:Entirely by natural processes - 3:Both equally - 5:Entirely by human activity\")\n",
    "plt.xticks(sorted(df_91_9['ccnthum'].unique().astype(int))[1:]);"
   ]
  },
  {
   "cell_type": "markdown",
   "metadata": {},
   "source": [
    "Here the majority of people attribute climate change equally to natural processes and to human activity. The group of people attributing more weight to human activities are more than people attributing more weight to natural activities. Let's take a look at what it means in terms of numbers."
   ]
  },
  {
   "cell_type": "code",
   "execution_count": 42,
   "metadata": {},
   "outputs": [
    {
     "name": "stdout",
     "output_type": "stream",
     "text": [
      "Among the precedent group, the proportion of people recognizing human origins of climate change is: 44.8%\n"
     ]
    },
    {
     "data": {
      "image/png": "[encoded data removed]",
      "text/plain": [
       "<Figure size 432x288 with 1 Axes>"
      ]
     },
     "metadata": {},
     "output_type": "display_data"
    }
   ],
   "source": [
    "#compute the proportion of 'Entirely or Mainly due to human activities' answers over the total count\n",
    "ccnthum91_9_yes = round(ccnthum91_9_w_count[4:5].sum() / ccnthum91_9_w_count.sum() *100,1)\n",
    "\n",
    "#plot a pie chart\n",
    "plt.pie(ccnthum91_9_w_count,colors=colormap_ccnthum);\n",
    "plt.annotate(text=str(ccnthum91_9_yes)+\"%\", xy=(-0.1,-0.5), weight='bold', fontsize=20, color='white');\n",
    "plt.title(\"Human or nature cause?\");\n",
    "plt.legend([\"Entirely by natural processes\", \"Mainly by natural processes\" ,\"About equally\",\"Mainly by human activity\", \"Entirely by human activity\"], loc='upper right',bbox_to_anchor=(1.5, 1.5));\n",
    "print(\"Among the precedent group, the proportion of people recognizing human origins of climate change is: \" +str(ccnthum91_9_yes)+ \"%\")"
   ]
  },
  {
   "cell_type": "markdown",
   "metadata": {},
   "source": [
    "This is not as good as the previous result. Determining causality is a well-known challenge, yet the link between human activities and climate change has been established by the scientific community for a while. Not even half of people are in line with the scientific community.\n",
    "\n",
    "Now, among the latter group, let's take a look at the survey question: *To what extent do you feel a personal responsibility to try to reduce climate change?*. These responses are contained in the column named *'ccrdprs'*."
   ]
  },
  {
   "cell_type": "code",
   "execution_count": 43,
   "metadata": {},
   "outputs": [
    {
     "data": {
      "image/png": "[encoded data removed]",
      "text/plain": [
       "<Figure size 432x288 with 1 Axes>"
      ]
     },
     "metadata": {
      "needs_background": "light"
     },
     "output_type": "display_data"
    }
   ],
   "source": [
    "#select the precedent sub-group\n",
    "df_44_8 = df_91_9[df_91_9['ccnthum'].isin([4,5])]\n",
    "\n",
    "#count the occurrencies of each unique response, weighting each observation\n",
    "ccrdprs44_8_w_count = weighted_value_counts(df_44_8['ccrdprs'],df['anwght']).sort_index().drop(np.NaN)\n",
    "\n",
    "#plot a bar chart as an histogram\n",
    "plt.bar(sorted(df_44_8['ccrdprs'].unique().astype(int))[1:],ccrdprs44_8_w_count, color=colormap_ccrdprs)\n",
    "plt.title(\"Personal responsibility?\")\n",
    "plt.ylabel(\"Count\")\n",
    "plt.xlabel(\"0:Not at all - 10:A great deal\")\n",
    "plt.xticks(sorted(df_44_8['ccrdprs'].unique().astype(int))[1:]);"
   ]
  },
  {
   "cell_type": "markdown",
   "metadata": {},
   "source": [
    "Here the responses are much more distributed across all the values. This distribution seems to be shifted toward the right (feeling personal responsibility), yet we are looking at a totally different story from the first question in terms of consensus. Let's look the proportion of people that depart more from the center of the distribution."
   ]
  },
  {
   "cell_type": "code",
   "execution_count": 44,
   "metadata": {},
   "outputs": [
    {
     "name": "stdout",
     "output_type": "stream",
     "text": [
      "Among the precedent group, the proportion of people feeling a personal responsibility to try to reduce climate change is: 53.2%\n"
     ]
    },
    {
     "data": {
      "image/png": "[encoded data removed]",
      "text/plain": [
       "<Figure size 432x288 with 1 Axes>"
      ]
     },
     "metadata": {},
     "output_type": "display_data"
    }
   ],
   "source": [
    "#compute the proportion of '>6' answers over the total count\n",
    "ccrdprs44_8_yes = round(ccrdprs44_8_w_count[7:10].sum() / ccrdprs44_8_w_count.sum() *100,1)\n",
    "\n",
    "#plot a pie chart\n",
    "plt.pie(ccrdprs44_8_w_count,colors=colormap_ccrdprs);\n",
    "plt.annotate(text=str(ccrdprs44_8_yes)+\"%\", xy=(-0.27,-0.5), weight='bold', fontsize=20, color='white');\n",
    "plt.title(\"Personal responsibility?\");\n",
    "plt.legend([\"Not at all\", \"1\",\"2\" ,\"3\",\"4\", \"5\", \"6\", \"7\", \"8\", \"9\", \"A great deal\"], loc='upper right',bbox_to_anchor=(2, 1.5), ncol=2);\n",
    "print(\"Among the precedent group, the proportion of people feeling a personal responsibility to try to reduce climate change is: \" +str(ccrdprs44_8_yes)+ \"%\")"
   ]
  },
  {
   "cell_type": "markdown",
   "metadata": {},
   "source": [
    "This is the most unhappy result. Half of the individuals who recognize the dramatic situation of climate change as a phenomenon mainly caused by human activities do not feel that their own actions matter."
   ]
  },
  {
   "cell_type": "markdown",
   "metadata": {},
   "source": [
    "**Coming back to the question**, it seems that there are other factors than the mere \"I believe climate change exists\" that could potentially undermine a fast and efficient problem resolution. Failing to attribute climate change to human activities and failing to feeling a personal responsibility about it could lead to a passive observation of the situation, without any will to act upon in, trying to work on solutions and improvements."
   ]
  },
  {
   "cell_type": "markdown",
   "metadata": {},
   "source": [
    "#### Do European countries have different problems and therefore different directions of improvement?"
   ]
  },
  {
   "cell_type": "markdown",
   "metadata": {},
   "source": [
    "Is the same everywhere? The available data provide information regarding the country of residence of respondents. For each of the three survey questions analyzed before, we can now look how the same proportions are distributed geographically across Europeans countries."
   ]
  },
  {
   "cell_type": "code",
   "execution_count": 45,
   "metadata": {},
   "outputs": [],
   "source": [
    "#count the values separately for each country (now the population weight is not useful anymore)\n",
    "clmchng_weighted_count = weighted_country_value_counts(df['cntry'],df['clmchng'],df['pspwght']).drop(np.NaN).sort_index()\n",
    "\n",
    "#select the sub-group of 'Definitely or Probably' in the first question\n",
    "df_yes_clmchng = df[df['clmchng'].isin([1,2])]\n",
    "\n",
    "#count the values separately for each country\n",
    "ccnthum_weighted_count = weighted_country_value_counts(df_yes_clmchng['cntry'],df_yes_clmchng['ccnthum'],df_yes_clmchng['pspwght']).drop(np.NaN).sort_index()\n",
    "\n",
    "#select the sub-group of 'Entirely or Mainly due to human activities' in the second question\n",
    "df_yes_ccnthum = df_yes_clmchng[df_yes_clmchng['ccnthum'].isin([4,5])]\n",
    "\n",
    "#count the values separately for each country\n",
    "ccrdprs_weighted_count = weighted_country_value_counts(df_yes_ccnthum['cntry'],df_yes_ccnthum['ccrdprs'],df_yes_ccnthum['pspwght']).drop(np.NaN).sort_index()"
   ]
  },
  {
   "cell_type": "markdown",
   "metadata": {},
   "source": [
    "Let's take a look at the first question."
   ]
  },
  {
   "cell_type": "code",
   "execution_count": 49,
   "metadata": {},
   "outputs": [
    {
     "data": {
      "image/png": "[encoded data removed]",
      "text/plain": [
       "<Figure size 720x432 with 1 Axes>"
      ]
     },
     "metadata": {
      "needs_background": "light"
     },
     "output_type": "display_data"
    }
   ],
   "source": [
    "#compute the proportion of people recognizing climate change in each country\n",
    "clmchng_yes_countries = []\n",
    "for c,country in enumerate(df['cntry'].unique()):\n",
    "    c_w_count = clmchng_weighted_count[country]\n",
    "    clmchng_yes_countries.append(round(c_w_count[1:2].sum() / c_w_count.sum() *100,1))\n",
    "\n",
    "#create a continuous colormap from previous discrete colormap\n",
    "colormap_clmchng = ['#0474BA','#00A7E1', '#FFA630', '#F17720']\n",
    "clist = [(0, colormap_clmchng[3]), (0.8, colormap_clmchng[3]), (0.85,colormap_clmchng[2]),(1, colormap_clmchng[0])]\n",
    "rvb = mcolors.LinearSegmentedColormap.from_list(\"\", clist)\n",
    "\n",
    "#order countries in descending order\n",
    "sort_id = np.argsort(-np.array(clmchng_yes_countries))\n",
    "\n",
    "#plot bar chart\n",
    "plt.figure(figsize=(10,6))\n",
    "plt.bar(df['cntry'].unique()[sort_id],sorted(clmchng_yes_countries, reverse=True), color=rvb(np.array(sorted(clmchng_yes_countries, reverse=True))/100));\n",
    "plt.title(\"World's climate is changing?\")\n",
    "plt.ylabel(\"Proportion of people answering 'Definitely' or 'Probably'\");"
   ]
  },
  {
   "cell_type": "markdown",
   "metadata": {},
   "source": [
    "All countries seems to have quite high proportions of positive answers at this questions, consistently with previous results.\n",
    "\n",
    "What about the second question?"
   ]
  },
  {
   "cell_type": "code",
   "execution_count": 50,
   "metadata": {},
   "outputs": [
    {
     "data": {
      "image/png": "[encoded data removed]",
      "text/plain": [
       "<Figure size 720x432 with 1 Axes>"
      ]
     },
     "metadata": {
      "needs_background": "light"
     },
     "output_type": "display_data"
    }
   ],
   "source": [
    "#compute the proportion of people recognizing human origins of climate change\n",
    "ccnthum_yes_countries = []\n",
    "for c,country in enumerate(df_yes_clmchng['cntry'].unique()):\n",
    "    c_w_count = ccnthum_weighted_count[country]\n",
    "    ccnthum_yes_countries.append(round(c_w_count[4:5].sum() / c_w_count.sum() *100,1))\n",
    "\n",
    "#create a continuous colormap from previous discrete colormap\n",
    "clist = [(0, colormap_ccnthum[0]), (0.25, colormap_ccnthum[0]), (0.50, colormap_ccnthum[3]),(0.75,colormap_ccnthum[4]),(1, colormap_ccnthum[4])]\n",
    "rvb = mcolors.LinearSegmentedColormap.from_list(\"\", clist)\n",
    "\n",
    "#order countries in descending order\n",
    "sort_id = np.argsort(-np.array(ccnthum_yes_countries))\n",
    "\n",
    "#plot bar chart\n",
    "plt.figure(figsize=(10,6))\n",
    "plt.bar(df_yes_clmchng['cntry'].unique()[sort_id],sorted(ccnthum_yes_countries, reverse=True), color=rvb(np.array(sorted(ccnthum_yes_countries, reverse=True))/100));\n",
    "plt.title(\"Human or nature cause?\")\n",
    "plt.ylabel(\"Proportion of people answering 'Entirely by human activity' or 'Mainly by human activity'\");"
   ]
  },
  {
   "cell_type": "markdown",
   "metadata": {},
   "source": [
    "Here the proportions of human cause recognition are much more diverse and lower than before.\n",
    "\n",
    "What about the third question?"
   ]
  },
  {
   "cell_type": "code",
   "execution_count": 51,
   "metadata": {},
   "outputs": [
    {
     "data": {
      "image/png": "[encoded data removed]",
      "text/plain": [
       "<Figure size 720x432 with 1 Axes>"
      ]
     },
     "metadata": {
      "needs_background": "light"
     },
     "output_type": "display_data"
    }
   ],
   "source": [
    "#compute the proportion of people feeling a personal responsibility to try to reduce climate change\n",
    "ccrdprs_yes_countries = []\n",
    "for c,country in enumerate(df_yes_ccnthum['cntry'].unique()):\n",
    "    c_w_count = ccrdprs_weighted_count[country]\n",
    "    ccrdprs_yes_countries.append(round(c_w_count[7:].sum() / c_w_count.sum() *100,1))\n",
    "\n",
    "#create a continuous colormap from previous discrete colormap\n",
    "clist = [(0, colormap_ccrdprs[0]), (0.25, colormap_ccrdprs[0]), (0.50, colormap_ccrdprs[6]),(0.75,colormap_ccrdprs[10]),(1, colormap_ccrdprs[10])]\n",
    "rvb = mcolors.LinearSegmentedColormap.from_list(\"\", clist)\n",
    "\n",
    "#order countries in descending order\n",
    "sort_id = np.argsort(-np.array(ccrdprs_yes_countries))\n",
    "\n",
    "#plot bar chart\n",
    "plt.figure(figsize=(10,6))\n",
    "plt.bar(df_yes_ccnthum['cntry'].unique()[sort_id],sorted(ccrdprs_yes_countries, reverse=True), color=rvb(np.array(sorted(ccrdprs_yes_countries, reverse=True))/100));\n",
    "plt.title(\"Personal responsibility?\");\n",
    "plt.ylabel(\"Proportion of people answering more or equal 7 out of 10\");"
   ]
  },
  {
   "cell_type": "markdown",
   "metadata": {},
   "source": [
    "The proportions of people feeling a personal responsibility are the most diverse. In same countries this proportion reaches more than 70% of people, while in other it drops below 20%.\n",
    "\n",
    "These visualizations are useful to understand the serial order of the countries. However, we are spatially oriented animals, and a geographic visualization can help us better understand these countries differences.\n",
    "\n",
    "Let's prepare a dataframe for this purpose."
   ]
  },
  {
   "cell_type": "code",
   "execution_count": 52,
   "metadata": {},
   "outputs": [
    {
     "data": {
      "text/html": [
       "<div>\n",
       "<style scoped>\n",
       "    .dataframe tbody tr th:only-of-type {\n",
       "        vertical-align: middle;\n",
       "    }\n",
       "\n",
       "    .dataframe tbody tr th {\n",
       "        vertical-align: top;\n",
       "    }\n",
       "\n",
       "    .dataframe thead th {\n",
       "        text-align: right;\n",
       "    }\n",
       "</style>\n",
       "<table border=\"1\" class=\"dataframe\">\n",
       "  <thead>\n",
       "    <tr style=\"text-align: right;\">\n",
       "      <th></th>\n",
       "      <th>cntry</th>\n",
       "      <th>clmchng_yes</th>\n",
       "      <th>ccnthum_yes</th>\n",
       "      <th>ccrdprs_yes</th>\n",
       "      <th>country_alpha_3</th>\n",
       "    </tr>\n",
       "  </thead>\n",
       "  <tbody>\n",
       "    <tr>\n",
       "      <th>0</th>\n",
       "      <td>AT</td>\n",
       "      <td>92.5</td>\n",
       "      <td>64.3</td>\n",
       "      <td>55.3</td>\n",
       "      <td>AUT</td>\n",
       "    </tr>\n",
       "    <tr>\n",
       "      <th>1</th>\n",
       "      <td>BE</td>\n",
       "      <td>96.4</td>\n",
       "      <td>54.6</td>\n",
       "      <td>54.0</td>\n",
       "      <td>BEL</td>\n",
       "    </tr>\n",
       "    <tr>\n",
       "      <th>2</th>\n",
       "      <td>CH</td>\n",
       "      <td>96.4</td>\n",
       "      <td>45.5</td>\n",
       "      <td>74.9</td>\n",
       "      <td>CHE</td>\n",
       "    </tr>\n",
       "    <tr>\n",
       "      <th>3</th>\n",
       "      <td>CZ</td>\n",
       "      <td>88.9</td>\n",
       "      <td>38.8</td>\n",
       "      <td>19.2</td>\n",
       "      <td>CZE</td>\n",
       "    </tr>\n",
       "    <tr>\n",
       "      <th>4</th>\n",
       "      <td>DE</td>\n",
       "      <td>95.5</td>\n",
       "      <td>55.6</td>\n",
       "      <td>67.6</td>\n",
       "      <td>DEU</td>\n",
       "    </tr>\n",
       "    <tr>\n",
       "      <th>5</th>\n",
       "      <td>EE</td>\n",
       "      <td>91.3</td>\n",
       "      <td>36.1</td>\n",
       "      <td>34.4</td>\n",
       "      <td>EST</td>\n",
       "    </tr>\n",
       "    <tr>\n",
       "      <th>6</th>\n",
       "      <td>ES</td>\n",
       "      <td>95.8</td>\n",
       "      <td>61.0</td>\n",
       "      <td>55.4</td>\n",
       "      <td>ESP</td>\n",
       "    </tr>\n",
       "    <tr>\n",
       "      <th>7</th>\n",
       "      <td>FI</td>\n",
       "      <td>94.0</td>\n",
       "      <td>54.1</td>\n",
       "      <td>68.9</td>\n",
       "      <td>FIN</td>\n",
       "    </tr>\n",
       "    <tr>\n",
       "      <th>8</th>\n",
       "      <td>FR</td>\n",
       "      <td>96.3</td>\n",
       "      <td>48.4</td>\n",
       "      <td>73.7</td>\n",
       "      <td>FRA</td>\n",
       "    </tr>\n",
       "    <tr>\n",
       "      <th>9</th>\n",
       "      <td>GB</td>\n",
       "      <td>93.6</td>\n",
       "      <td>38.7</td>\n",
       "      <td>60.9</td>\n",
       "      <td>GBR</td>\n",
       "    </tr>\n",
       "    <tr>\n",
       "      <th>10</th>\n",
       "      <td>HU</td>\n",
       "      <td>91.4</td>\n",
       "      <td>48.9</td>\n",
       "      <td>26.2</td>\n",
       "      <td>HUN</td>\n",
       "    </tr>\n",
       "    <tr>\n",
       "      <th>11</th>\n",
       "      <td>IE</td>\n",
       "      <td>96.1</td>\n",
       "      <td>40.9</td>\n",
       "      <td>53.8</td>\n",
       "      <td>IRL</td>\n",
       "    </tr>\n",
       "    <tr>\n",
       "      <th>12</th>\n",
       "      <td>IL</td>\n",
       "      <td>86.3</td>\n",
       "      <td>45.7</td>\n",
       "      <td>50.9</td>\n",
       "      <td>ISR</td>\n",
       "    </tr>\n",
       "    <tr>\n",
       "      <th>13</th>\n",
       "      <td>IS</td>\n",
       "      <td>97.7</td>\n",
       "      <td>56.5</td>\n",
       "      <td>64.1</td>\n",
       "      <td>ISL</td>\n",
       "    </tr>\n",
       "    <tr>\n",
       "      <th>14</th>\n",
       "      <td>IT</td>\n",
       "      <td>94.8</td>\n",
       "      <td>58.3</td>\n",
       "      <td>39.4</td>\n",
       "      <td>ITA</td>\n",
       "    </tr>\n",
       "    <tr>\n",
       "      <th>15</th>\n",
       "      <td>LT</td>\n",
       "      <td>88.7</td>\n",
       "      <td>34.9</td>\n",
       "      <td>35.4</td>\n",
       "      <td>LTU</td>\n",
       "    </tr>\n",
       "    <tr>\n",
       "      <th>16</th>\n",
       "      <td>NL</td>\n",
       "      <td>96.3</td>\n",
       "      <td>46.0</td>\n",
       "      <td>56.2</td>\n",
       "      <td>NLD</td>\n",
       "    </tr>\n",
       "    <tr>\n",
       "      <th>17</th>\n",
       "      <td>NO</td>\n",
       "      <td>92.9</td>\n",
       "      <td>40.4</td>\n",
       "      <td>63.2</td>\n",
       "      <td>NOR</td>\n",
       "    </tr>\n",
       "    <tr>\n",
       "      <th>18</th>\n",
       "      <td>PL</td>\n",
       "      <td>92.6</td>\n",
       "      <td>33.3</td>\n",
       "      <td>46.8</td>\n",
       "      <td>POL</td>\n",
       "    </tr>\n",
       "    <tr>\n",
       "      <th>19</th>\n",
       "      <td>PT</td>\n",
       "      <td>97.0</td>\n",
       "      <td>50.2</td>\n",
       "      <td>51.4</td>\n",
       "      <td>PRT</td>\n",
       "    </tr>\n",
       "    <tr>\n",
       "      <th>20</th>\n",
       "      <td>RU</td>\n",
       "      <td>82.2</td>\n",
       "      <td>37.2</td>\n",
       "      <td>25.3</td>\n",
       "      <td>RUS</td>\n",
       "    </tr>\n",
       "    <tr>\n",
       "      <th>21</th>\n",
       "      <td>SE</td>\n",
       "      <td>96.8</td>\n",
       "      <td>52.9</td>\n",
       "      <td>67.8</td>\n",
       "      <td>SWE</td>\n",
       "    </tr>\n",
       "    <tr>\n",
       "      <th>22</th>\n",
       "      <td>SI</td>\n",
       "      <td>96.5</td>\n",
       "      <td>39.7</td>\n",
       "      <td>40.2</td>\n",
       "      <td>SVN</td>\n",
       "    </tr>\n",
       "  </tbody>\n",
       "</table>\n",
       "</div>"
      ],
      "text/plain": [
       "   cntry  clmchng_yes  ccnthum_yes  ccrdprs_yes country_alpha_3\n",
       "0     AT         92.5         64.3         55.3             AUT\n",
       "1     BE         96.4         54.6         54.0             BEL\n",
       "2     CH         96.4         45.5         74.9             CHE\n",
       "3     CZ         88.9         38.8         19.2             CZE\n",
       "4     DE         95.5         55.6         67.6             DEU\n",
       "5     EE         91.3         36.1         34.4             EST\n",
       "6     ES         95.8         61.0         55.4             ESP\n",
       "7     FI         94.0         54.1         68.9             FIN\n",
       "8     FR         96.3         48.4         73.7             FRA\n",
       "9     GB         93.6         38.7         60.9             GBR\n",
       "10    HU         91.4         48.9         26.2             HUN\n",
       "11    IE         96.1         40.9         53.8             IRL\n",
       "12    IL         86.3         45.7         50.9             ISR\n",
       "13    IS         97.7         56.5         64.1             ISL\n",
       "14    IT         94.8         58.3         39.4             ITA\n",
       "15    LT         88.7         34.9         35.4             LTU\n",
       "16    NL         96.3         46.0         56.2             NLD\n",
       "17    NO         92.9         40.4         63.2             NOR\n",
       "18    PL         92.6         33.3         46.8             POL\n",
       "19    PT         97.0         50.2         51.4             PRT\n",
       "20    RU         82.2         37.2         25.3             RUS\n",
       "21    SE         96.8         52.9         67.8             SWE\n",
       "22    SI         96.5         39.7         40.2             SVN"
      ]
     },
     "execution_count": 52,
     "metadata": {},
     "output_type": "execute_result"
    }
   ],
   "source": [
    "#build a dataframe where for each country it is stored the proportion of \"yes\" to the three initial questions.\n",
    "yes_map = pd.DataFrame({'cntry':df['cntry'].unique(),'clmchng_yes':clmchng_yes_countries, 'ccnthum_yes':ccnthum_yes_countries, 'ccrdprs_yes':ccrdprs_yes_countries})\n",
    "\n",
    "#convert country codes from 2 letters to 3 letters (necessary for plotly)\n",
    "yes_map['country_alpha_3'] = yes_map.cntry.apply(lambda x: country_name_to_country_alpha3(country_alpha2_to_country_name(x)))\n",
    "yes_map"
   ]
  },
  {
   "cell_type": "markdown",
   "metadata": {},
   "source": [
    "We have now a dataframe ready to be plotted!"
   ]
  },
  {
   "cell_type": "code",
   "execution_count": 62,
   "metadata": {},
   "outputs": [
    {
     "data": {
      "application/vnd.plotly.v1+json": {
       "config": {
        "plotlyServerURL": "https://plot.ly"
       },
       "data": [
        {
         "coloraxis": "coloraxis",
         "geo": "geo",
         "hovertemplate": "country_alpha_3=%{location}<br>clmchng_yes=%{z}<extra></extra>",
         "locationmode": "ISO-3",
         "locations": [
          "AUT",
          "BEL",
          "CHE",
          "CZE",
          "DEU",
          "EST",
          "ESP",
          "FIN",
          "FRA",
          "GBR",
          "HUN",
          "IRL",
          "ISR",
          "ISL",
          "ITA",
          "LTU",
          "NLD",
          "NOR",
          "POL",
          "PRT",
          "RUS",
          "SWE",
          "SVN"
         ],
         "name": "",
         "type": "choropleth",
         "z": [
          92.5,
          96.4,
          96.4,
          88.9,
          95.5,
          91.3,
          95.8,
          94,
          96.3,
          93.6,
          91.4,
          96.1,
          86.3,
          97.7,
          94.8,
          88.7,
          96.3,
          92.9,
          92.6,
          97,
          82.2,
          96.8,
          96.5
         ]
        }
       ],
       "layout": {
        "coloraxis": {
         "colorbar": {
          "title": {
           "text": "clmchng_yes"
          }
         },
         "colorscale": [
          [
           0,
           "#F17720"
          ],
          [
           0.3333333333333333,
           "#FFA630"
          ],
          [
           0.6666666666666666,
           "#00A7E1"
          ],
          [
           1,
           "#0474BA"
          ]
         ]
        },
        "geo": {
         "center": {
          "lat": 55,
          "lon": 10
         },
         "domain": {
          "x": [
           0,
           1
          ],
          "y": [
           0,
           1
          ]
         },
         "lataxis": {
          "range": [
           0,
           55
          ]
         },
         "lonaxis": {
          "range": [
           0,
           80
          ]
         },
         "projection": {
          "type": "natural earth"
         }
        },
        "height": 600,
        "legend": {
         "tracegroupgap": 0
        },
        "template": {
         "data": {
          "bar": [
           {
            "error_x": {
             "color": "#2a3f5f"
            },
            "error_y": {
             "color": "#2a3f5f"
            },
            "marker": {
             "line": {
              "color": "#E5ECF6",
              "width": 0.5
             },
             "pattern": {
              "fillmode": "overlay",
              "size": 10,
              "solidity": 0.2
             }
            },
            "type": "bar"
           }
          ],
          "barpolar": [
           {
            "marker": {
             "line": {
              "color": "#E5ECF6",
              "width": 0.5
             },
             "pattern": {
              "fillmode": "overlay",
              "size": 10,
              "solidity": 0.2
             }
            },
            "type": "barpolar"
           }
          ],
          "carpet": [
           {
            "aaxis": {
             "endlinecolor": "#2a3f5f",
             "gridcolor": "white",
             "linecolor": "white",
             "minorgridcolor": "white",
             "startlinecolor": "#2a3f5f"
            },
            "baxis": {
             "endlinecolor": "#2a3f5f",
             "gridcolor": "white",
             "linecolor": "white",
             "minorgridcolor": "white",
             "startlinecolor": "#2a3f5f"
            },
            "type": "carpet"
           }
          ],
          "choropleth": [
           {
            "colorbar": {
             "outlinewidth": 0,
             "ticks": ""
            },
            "type": "choropleth"
           }
          ],
          "contour": [
           {
            "colorbar": {
             "outlinewidth": 0,
             "ticks": ""
            },
            "colorscale": [
             [
              0,
              "#0d0887"
             ],
             [
              0.1111111111111111,
              "#46039f"
             ],
             [
              0.2222222222222222,
              "#7201a8"
             ],
             [
              0.3333333333333333,
              "#9c179e"
             ],
             [
              0.4444444444444444,
              "#bd3786"
             ],
             [
              0.5555555555555556,
              "#d8576b"
             ],
             [
              0.6666666666666666,
              "#ed7953"
             ],
             [
              0.7777777777777778,
              "#fb9f3a"
             ],
             [
              0.8888888888888888,
              "#fdca26"
             ],
             [
              1,
              "#f0f921"
             ]
            ],
            "type": "contour"
           }
          ],
          "contourcarpet": [
           {
            "colorbar": {
             "outlinewidth": 0,
             "ticks": ""
            },
            "type": "contourcarpet"
           }
          ],
          "heatmap": [
           {
            "colorbar": {
             "outlinewidth": 0,
             "ticks": ""
            },
            "colorscale": [
             [
              0,
              "#0d0887"
             ],
             [
              0.1111111111111111,
              "#46039f"
             ],
             [
              0.2222222222222222,
              "#7201a8"
             ],
             [
              0.3333333333333333,
              "#9c179e"
             ],
             [
              0.4444444444444444,
              "#bd3786"
             ],
             [
              0.5555555555555556,
              "#d8576b"
             ],
             [
              0.6666666666666666,
              "#ed7953"
             ],
             [
              0.7777777777777778,
              "#fb9f3a"
             ],
             [
              0.8888888888888888,
              "#fdca26"
             ],
             [
              1,
              "#f0f921"
             ]
            ],
            "type": "heatmap"
           }
          ],
          "heatmapgl": [
           {
            "colorbar": {
             "outlinewidth": 0,
             "ticks": ""
            },
            "colorscale": [
             [
              0,
              "#0d0887"
             ],
             [
              0.1111111111111111,
              "#46039f"
             ],
             [
              0.2222222222222222,
              "#7201a8"
             ],
             [
              0.3333333333333333,
              "#9c179e"
             ],
             [
              0.4444444444444444,
              "#bd3786"
             ],
             [
              0.5555555555555556,
              "#d8576b"
             ],
             [
              0.6666666666666666,
              "#ed7953"
             ],
             [
              0.7777777777777778,
              "#fb9f3a"
             ],
             [
              0.8888888888888888,
              "#fdca26"
             ],
             [
              1,
              "#f0f921"
             ]
            ],
            "type": "heatmapgl"
           }
          ],
          "histogram": [
           {
            "marker": {
             "pattern": {
              "fillmode": "overlay",
              "size": 10,
              "solidity": 0.2
             }
            },
            "type": "histogram"
           }
          ],
          "histogram2d": [
           {
            "colorbar": {
             "outlinewidth": 0,
             "ticks": ""
            },
            "colorscale": [
             [
              0,
              "#0d0887"
             ],
             [
              0.1111111111111111,
              "#46039f"
             ],
             [
              0.2222222222222222,
              "#7201a8"
             ],
             [
              0.3333333333333333,
              "#9c179e"
             ],
             [
              0.4444444444444444,
              "#bd3786"
             ],
             [
              0.5555555555555556,
              "#d8576b"
             ],
             [
              0.6666666666666666,
              "#ed7953"
             ],
             [
              0.7777777777777778,
              "#fb9f3a"
             ],
             [
              0.8888888888888888,
              "#fdca26"
             ],
             [
              1,
              "#f0f921"
             ]
            ],
            "type": "histogram2d"
           }
          ],
          "histogram2dcontour": [
           {
            "colorbar": {
             "outlinewidth": 0,
             "ticks": ""
            },
            "colorscale": [
             [
              0,
              "#0d0887"
             ],
             [
              0.1111111111111111,
              "#46039f"
             ],
             [
              0.2222222222222222,
              "#7201a8"
             ],
             [
              0.3333333333333333,
              "#9c179e"
             ],
             [
              0.4444444444444444,
              "#bd3786"
             ],
             [
              0.5555555555555556,
              "#d8576b"
             ],
             [
              0.6666666666666666,
              "#ed7953"
             ],
             [
              0.7777777777777778,
              "#fb9f3a"
             ],
             [
              0.8888888888888888,
              "#fdca26"
             ],
             [
              1,
              "#f0f921"
             ]
            ],
            "type": "histogram2dcontour"
           }
          ],
          "mesh3d": [
           {
            "colorbar": {
             "outlinewidth": 0,
             "ticks": ""
            },
            "type": "mesh3d"
           }
          ],
          "parcoords": [
           {
            "line": {
             "colorbar": {
              "outlinewidth": 0,
              "ticks": ""
             }
            },
            "type": "parcoords"
           }
          ],
          "pie": [
           {
            "automargin": true,
            "type": "pie"
           }
          ],
          "scatter": [
           {
            "marker": {
             "colorbar": {
              "outlinewidth": 0,
              "ticks": ""
             }
            },
            "type": "scatter"
           }
          ],
          "scatter3d": [
           {
            "line": {
             "colorbar": {
              "outlinewidth": 0,
              "ticks": ""
             }
            },
            "marker": {
             "colorbar": {
              "outlinewidth": 0,
              "ticks": ""
             }
            },
            "type": "scatter3d"
           }
          ],
          "scattercarpet": [
           {
            "marker": {
             "colorbar": {
              "outlinewidth": 0,
              "ticks": ""
             }
            },
            "type": "scattercarpet"
           }
          ],
          "scattergeo": [
           {
            "marker": {
             "colorbar": {
              "outlinewidth": 0,
              "ticks": ""
             }
            },
            "type": "scattergeo"
           }
          ],
          "scattergl": [
           {
            "marker": {
             "colorbar": {
              "outlinewidth": 0,
              "ticks": ""
             }
            },
            "type": "scattergl"
           }
          ],
          "scattermapbox": [
           {
            "marker": {
             "colorbar": {
              "outlinewidth": 0,
              "ticks": ""
             }
            },
            "type": "scattermapbox"
           }
          ],
          "scatterpolar": [
           {
            "marker": {
             "colorbar": {
              "outlinewidth": 0,
              "ticks": ""
             }
            },
            "type": "scatterpolar"
           }
          ],
          "scatterpolargl": [
           {
            "marker": {
             "colorbar": {
              "outlinewidth": 0,
              "ticks": ""
             }
            },
            "type": "scatterpolargl"
           }
          ],
          "scatterternary": [
           {
            "marker": {
             "colorbar": {
              "outlinewidth": 0,
              "ticks": ""
             }
            },
            "type": "scatterternary"
           }
          ],
          "surface": [
           {
            "colorbar": {
             "outlinewidth": 0,
             "ticks": ""
            },
            "colorscale": [
             [
              0,
              "#0d0887"
             ],
             [
              0.1111111111111111,
              "#46039f"
             ],
             [
              0.2222222222222222,
              "#7201a8"
             ],
             [
              0.3333333333333333,
              "#9c179e"
             ],
             [
              0.4444444444444444,
              "#bd3786"
             ],
             [
              0.5555555555555556,
              "#d8576b"
             ],
             [
              0.6666666666666666,
              "#ed7953"
             ],
             [
              0.7777777777777778,
              "#fb9f3a"
             ],
             [
              0.8888888888888888,
              "#fdca26"
             ],
             [
              1,
              "#f0f921"
             ]
            ],
            "type": "surface"
           }
          ],
          "table": [
           {
            "cells": {
             "fill": {
              "color": "#EBF0F8"
             },
             "line": {
              "color": "white"
             }
            },
            "header": {
             "fill": {
              "color": "#C8D4E3"
             },
             "line": {
              "color": "white"
             }
            },
            "type": "table"
           }
          ]
         },
         "layout": {
          "annotationdefaults": {
           "arrowcolor": "#2a3f5f",
           "arrowhead": 0,
           "arrowwidth": 1
          },
          "autotypenumbers": "strict",
          "coloraxis": {
           "colorbar": {
            "outlinewidth": 0,
            "ticks": ""
           }
          },
          "colorscale": {
           "diverging": [
            [
             0,
             "#8e0152"
            ],
            [
             0.1,
             "#c51b7d"
            ],
            [
             0.2,
             "#de77ae"
            ],
            [
             0.3,
             "#f1b6da"
            ],
            [
             0.4,
             "#fde0ef"
            ],
            [
             0.5,
             "#f7f7f7"
            ],
            [
             0.6,
             "#e6f5d0"
            ],
            [
             0.7,
             "#b8e186"
            ],
            [
             0.8,
             "#7fbc41"
            ],
            [
             0.9,
             "#4d9221"
            ],
            [
             1,
             "#276419"
            ]
           ],
           "sequential": [
            [
             0,
             "#0d0887"
            ],
            [
             0.1111111111111111,
             "#46039f"
            ],
            [
             0.2222222222222222,
             "#7201a8"
            ],
            [
             0.3333333333333333,
             "#9c179e"
            ],
            [
             0.4444444444444444,
             "#bd3786"
            ],
            [
             0.5555555555555556,
             "#d8576b"
            ],
            [
             0.6666666666666666,
             "#ed7953"
            ],
            [
             0.7777777777777778,
             "#fb9f3a"
            ],
            [
             0.8888888888888888,
             "#fdca26"
            ],
            [
             1,
             "#f0f921"
            ]
           ],
           "sequentialminus": [
            [
             0,
             "#0d0887"
            ],
            [
             0.1111111111111111,
             "#46039f"
            ],
            [
             0.2222222222222222,
             "#7201a8"
            ],
            [
             0.3333333333333333,
             "#9c179e"
            ],
            [
             0.4444444444444444,
             "#bd3786"
            ],
            [
             0.5555555555555556,
             "#d8576b"
            ],
            [
             0.6666666666666666,
             "#ed7953"
            ],
            [
             0.7777777777777778,
             "#fb9f3a"
            ],
            [
             0.8888888888888888,
             "#fdca26"
            ],
            [
             1,
             "#f0f921"
            ]
           ]
          },
          "colorway": [
           "#636efa",
           "#EF553B",
           "#00cc96",
           "#ab63fa",
           "#FFA15A",
           "#19d3f3",
           "#FF6692",
           "#B6E880",
           "#FF97FF",
           "#FECB52"
          ],
          "font": {
           "color": "#2a3f5f"
          },
          "geo": {
           "bgcolor": "white",
           "lakecolor": "white",
           "landcolor": "#E5ECF6",
           "showlakes": true,
           "showland": true,
           "subunitcolor": "white"
          },
          "hoverlabel": {
           "align": "left"
          },
          "hovermode": "closest",
          "mapbox": {
           "style": "light"
          },
          "paper_bgcolor": "white",
          "plot_bgcolor": "#E5ECF6",
          "polar": {
           "angularaxis": {
            "gridcolor": "white",
            "linecolor": "white",
            "ticks": ""
           },
           "bgcolor": "#E5ECF6",
           "radialaxis": {
            "gridcolor": "white",
            "linecolor": "white",
            "ticks": ""
           }
          },
          "scene": {
           "xaxis": {
            "backgroundcolor": "#E5ECF6",
            "gridcolor": "white",
            "gridwidth": 2,
            "linecolor": "white",
            "showbackground": true,
            "ticks": "",
            "zerolinecolor": "white"
           },
           "yaxis": {
            "backgroundcolor": "#E5ECF6",
            "gridcolor": "white",
            "gridwidth": 2,
            "linecolor": "white",
            "showbackground": true,
            "ticks": "",
            "zerolinecolor": "white"
           },
           "zaxis": {
            "backgroundcolor": "#E5ECF6",
            "gridcolor": "white",
            "gridwidth": 2,
            "linecolor": "white",
            "showbackground": true,
            "ticks": "",
            "zerolinecolor": "white"
           }
          },
          "shapedefaults": {
           "line": {
            "color": "#2a3f5f"
           }
          },
          "ternary": {
           "aaxis": {
            "gridcolor": "white",
            "linecolor": "white",
            "ticks": ""
           },
           "baxis": {
            "gridcolor": "white",
            "linecolor": "white",
            "ticks": ""
           },
           "bgcolor": "#E5ECF6",
           "caxis": {
            "gridcolor": "white",
            "linecolor": "white",
            "ticks": ""
           }
          },
          "title": {
           "x": 0.05
          },
          "xaxis": {
           "automargin": true,
           "gridcolor": "white",
           "linecolor": "white",
           "ticks": "",
           "title": {
            "standoff": 15
           },
           "zerolinecolor": "white",
           "zerolinewidth": 2
          },
          "yaxis": {
           "automargin": true,
           "gridcolor": "white",
           "linecolor": "white",
           "ticks": "",
           "title": {
            "standoff": 15
           },
           "zerolinecolor": "white",
           "zerolinewidth": 2
          }
         }
        },
        "title": {
         "text": "World's climate is changing?"
        },
        "width": 900
       }
      }
     },
     "metadata": {},
     "output_type": "display_data"
    }
   ],
   "source": [
    "#plot a map with the proportion of people recognizing climate change in each country as a colorcode\n",
    "fig = px.choropleth(yes_map, locationmode= 'ISO-3',locations='country_alpha_3', color='clmchng_yes', projection='natural earth'\n",
    ", color_continuous_scale=colormap_clmchng_r, title=\"World's climate is changing?\", width=900, height=600)\n",
    "fig.update_geos(center=dict(lon=10, lat=55),\n",
    "    lataxis_range=[0,55], lonaxis_range=[0, 80])\n",
    "fig.show()"
   ]
  },
  {
   "cell_type": "markdown",
   "metadata": {},
   "source": [
    "People recognition of climate change is quite high in the hole Western Europe."
   ]
  },
  {
   "cell_type": "code",
   "execution_count": 67,
   "metadata": {},
   "outputs": [
    {
     "data": {
      "application/vnd.plotly.v1+json": {
       "config": {
        "plotlyServerURL": "https://plot.ly"
       },
       "data": [
        {
         "coloraxis": "coloraxis",
         "geo": "geo",
         "hovertemplate": "country_alpha_3=%{location}<br>ccnthum_yes=%{z}<extra></extra>",
         "locationmode": "ISO-3",
         "locations": [
          "AUT",
          "BEL",
          "CHE",
          "CZE",
          "DEU",
          "EST",
          "ESP",
          "FIN",
          "FRA",
          "GBR",
          "HUN",
          "IRL",
          "ISR",
          "ISL",
          "ITA",
          "LTU",
          "NLD",
          "NOR",
          "POL",
          "PRT",
          "RUS",
          "SWE",
          "SVN"
         ],
         "name": "",
         "type": "choropleth",
         "z": [
          64.3,
          54.6,
          45.5,
          38.8,
          55.6,
          36.1,
          61,
          54.1,
          48.4,
          38.7,
          48.9,
          40.9,
          45.7,
          56.5,
          58.3,
          34.9,
          46,
          40.4,
          33.3,
          50.2,
          37.2,
          52.9,
          39.7
         ]
        }
       ],
       "layout": {
        "coloraxis": {
         "colorbar": {
          "title": {
           "text": "ccnthum_yes"
          }
         },
         "colorscale": [
          [
           0,
           "#32c377"
          ],
          [
           0.25,
           "#009f95"
          ],
          [
           0.5,
           "#0076a3"
          ],
          [
           0.75,
           "#004b92"
          ],
          [
           1,
           "#041c62"
          ]
         ]
        },
        "geo": {
         "center": {
          "lat": 55,
          "lon": 10
         },
         "domain": {
          "x": [
           0,
           1
          ],
          "y": [
           0,
           1
          ]
         },
         "lataxis": {
          "range": [
           0,
           55
          ]
         },
         "lonaxis": {
          "range": [
           0,
           80
          ]
         },
         "projection": {
          "type": "natural earth"
         }
        },
        "height": 600,
        "legend": {
         "tracegroupgap": 0
        },
        "template": {
         "data": {
          "bar": [
           {
            "error_x": {
             "color": "#2a3f5f"
            },
            "error_y": {
             "color": "#2a3f5f"
            },
            "marker": {
             "line": {
              "color": "#E5ECF6",
              "width": 0.5
             },
             "pattern": {
              "fillmode": "overlay",
              "size": 10,
              "solidity": 0.2
             }
            },
            "type": "bar"
           }
          ],
          "barpolar": [
           {
            "marker": {
             "line": {
              "color": "#E5ECF6",
              "width": 0.5
             },
             "pattern": {
              "fillmode": "overlay",
              "size": 10,
              "solidity": 0.2
             }
            },
            "type": "barpolar"
           }
          ],
          "carpet": [
           {
            "aaxis": {
             "endlinecolor": "#2a3f5f",
             "gridcolor": "white",
             "linecolor": "white",
             "minorgridcolor": "white",
             "startlinecolor": "#2a3f5f"
            },
            "baxis": {
             "endlinecolor": "#2a3f5f",
             "gridcolor": "white",
             "linecolor": "white",
             "minorgridcolor": "white",
             "startlinecolor": "#2a3f5f"
            },
            "type": "carpet"
           }
          ],
          "choropleth": [
           {
            "colorbar": {
             "outlinewidth": 0,
             "ticks": ""
            },
            "type": "choropleth"
           }
          ],
          "contour": [
           {
            "colorbar": {
             "outlinewidth": 0,
             "ticks": ""
            },
            "colorscale": [
             [
              0,
              "#0d0887"
             ],
             [
              0.1111111111111111,
              "#46039f"
             ],
             [
              0.2222222222222222,
              "#7201a8"
             ],
             [
              0.3333333333333333,
              "#9c179e"
             ],
             [
              0.4444444444444444,
              "#bd3786"
             ],
             [
              0.5555555555555556,
              "#d8576b"
             ],
             [
              0.6666666666666666,
              "#ed7953"
             ],
             [
              0.7777777777777778,
              "#fb9f3a"
             ],
             [
              0.8888888888888888,
              "#fdca26"
             ],
             [
              1,
              "#f0f921"
             ]
            ],
            "type": "contour"
           }
          ],
          "contourcarpet": [
           {
            "colorbar": {
             "outlinewidth": 0,
             "ticks": ""
            },
            "type": "contourcarpet"
           }
          ],
          "heatmap": [
           {
            "colorbar": {
             "outlinewidth": 0,
             "ticks": ""
            },
            "colorscale": [
             [
              0,
              "#0d0887"
             ],
             [
              0.1111111111111111,
              "#46039f"
             ],
             [
              0.2222222222222222,
              "#7201a8"
             ],
             [
              0.3333333333333333,
              "#9c179e"
             ],
             [
              0.4444444444444444,
              "#bd3786"
             ],
             [
              0.5555555555555556,
              "#d8576b"
             ],
             [
              0.6666666666666666,
              "#ed7953"
             ],
             [
              0.7777777777777778,
              "#fb9f3a"
             ],
             [
              0.8888888888888888,
              "#fdca26"
             ],
             [
              1,
              "#f0f921"
             ]
            ],
            "type": "heatmap"
           }
          ],
          "heatmapgl": [
           {
            "colorbar": {
             "outlinewidth": 0,
             "ticks": ""
            },
            "colorscale": [
             [
              0,
              "#0d0887"
             ],
             [
              0.1111111111111111,
              "#46039f"
             ],
             [
              0.2222222222222222,
              "#7201a8"
             ],
             [
              0.3333333333333333,
              "#9c179e"
             ],
             [
              0.4444444444444444,
              "#bd3786"
             ],
             [
              0.5555555555555556,
              "#d8576b"
             ],
             [
              0.6666666666666666,
              "#ed7953"
             ],
             [
              0.7777777777777778,
              "#fb9f3a"
             ],
             [
              0.8888888888888888,
              "#fdca26"
             ],
             [
              1,
              "#f0f921"
             ]
            ],
            "type": "heatmapgl"
           }
          ],
          "histogram": [
           {
            "marker": {
             "pattern": {
              "fillmode": "overlay",
              "size": 10,
              "solidity": 0.2
             }
            },
            "type": "histogram"
           }
          ],
          "histogram2d": [
           {
            "colorbar": {
             "outlinewidth": 0,
             "ticks": ""
            },
            "colorscale": [
             [
              0,
              "#0d0887"
             ],
             [
              0.1111111111111111,
              "#46039f"
             ],
             [
              0.2222222222222222,
              "#7201a8"
             ],
             [
              0.3333333333333333,
              "#9c179e"
             ],
             [
              0.4444444444444444,
              "#bd3786"
             ],
             [
              0.5555555555555556,
              "#d8576b"
             ],
             [
              0.6666666666666666,
              "#ed7953"
             ],
             [
              0.7777777777777778,
              "#fb9f3a"
             ],
             [
              0.8888888888888888,
              "#fdca26"
             ],
             [
              1,
              "#f0f921"
             ]
            ],
            "type": "histogram2d"
           }
          ],
          "histogram2dcontour": [
           {
            "colorbar": {
             "outlinewidth": 0,
             "ticks": ""
            },
            "colorscale": [
             [
              0,
              "#0d0887"
             ],
             [
              0.1111111111111111,
              "#46039f"
             ],
             [
              0.2222222222222222,
              "#7201a8"
             ],
             [
              0.3333333333333333,
              "#9c179e"
             ],
             [
              0.4444444444444444,
              "#bd3786"
             ],
             [
              0.5555555555555556,
              "#d8576b"
             ],
             [
              0.6666666666666666,
              "#ed7953"
             ],
             [
              0.7777777777777778,
              "#fb9f3a"
             ],
             [
              0.8888888888888888,
              "#fdca26"
             ],
             [
              1,
              "#f0f921"
             ]
            ],
            "type": "histogram2dcontour"
           }
          ],
          "mesh3d": [
           {
            "colorbar": {
             "outlinewidth": 0,
             "ticks": ""
            },
            "type": "mesh3d"
           }
          ],
          "parcoords": [
           {
            "line": {
             "colorbar": {
              "outlinewidth": 0,
              "ticks": ""
             }
            },
            "type": "parcoords"
           }
          ],
          "pie": [
           {
            "automargin": true,
            "type": "pie"
           }
          ],
          "scatter": [
           {
            "marker": {
             "colorbar": {
              "outlinewidth": 0,
              "ticks": ""
             }
            },
            "type": "scatter"
           }
          ],
          "scatter3d": [
           {
            "line": {
             "colorbar": {
              "outlinewidth": 0,
              "ticks": ""
             }
            },
            "marker": {
             "colorbar": {
              "outlinewidth": 0,
              "ticks": ""
             }
            },
            "type": "scatter3d"
           }
          ],
          "scattercarpet": [
           {
            "marker": {
             "colorbar": {
              "outlinewidth": 0,
              "ticks": ""
             }
            },
            "type": "scattercarpet"
           }
          ],
          "scattergeo": [
           {
            "marker": {
             "colorbar": {
              "outlinewidth": 0,
              "ticks": ""
             }
            },
            "type": "scattergeo"
           }
          ],
          "scattergl": [
           {
            "marker": {
             "colorbar": {
              "outlinewidth": 0,
              "ticks": ""
             }
            },
            "type": "scattergl"
           }
          ],
          "scattermapbox": [
           {
            "marker": {
             "colorbar": {
              "outlinewidth": 0,
              "ticks": ""
             }
            },
            "type": "scattermapbox"
           }
          ],
          "scatterpolar": [
           {
            "marker": {
             "colorbar": {
              "outlinewidth": 0,
              "ticks": ""
             }
            },
            "type": "scatterpolar"
           }
          ],
          "scatterpolargl": [
           {
            "marker": {
             "colorbar": {
              "outlinewidth": 0,
              "ticks": ""
             }
            },
            "type": "scatterpolargl"
           }
          ],
          "scatterternary": [
           {
            "marker": {
             "colorbar": {
              "outlinewidth": 0,
              "ticks": ""
             }
            },
            "type": "scatterternary"
           }
          ],
          "surface": [
           {
            "colorbar": {
             "outlinewidth": 0,
             "ticks": ""
            },
            "colorscale": [
             [
              0,
              "#0d0887"
             ],
             [
              0.1111111111111111,
              "#46039f"
             ],
             [
              0.2222222222222222,
              "#7201a8"
             ],
             [
              0.3333333333333333,
              "#9c179e"
             ],
             [
              0.4444444444444444,
              "#bd3786"
             ],
             [
              0.5555555555555556,
              "#d8576b"
             ],
             [
              0.6666666666666666,
              "#ed7953"
             ],
             [
              0.7777777777777778,
              "#fb9f3a"
             ],
             [
              0.8888888888888888,
              "#fdca26"
             ],
             [
              1,
              "#f0f921"
             ]
            ],
            "type": "surface"
           }
          ],
          "table": [
           {
            "cells": {
             "fill": {
              "color": "#EBF0F8"
             },
             "line": {
              "color": "white"
             }
            },
            "header": {
             "fill": {
              "color": "#C8D4E3"
             },
             "line": {
              "color": "white"
             }
            },
            "type": "table"
           }
          ]
         },
         "layout": {
          "annotationdefaults": {
           "arrowcolor": "#2a3f5f",
           "arrowhead": 0,
           "arrowwidth": 1
          },
          "autotypenumbers": "strict",
          "coloraxis": {
           "colorbar": {
            "outlinewidth": 0,
            "ticks": ""
           }
          },
          "colorscale": {
           "diverging": [
            [
             0,
             "#8e0152"
            ],
            [
             0.1,
             "#c51b7d"
            ],
            [
             0.2,
             "#de77ae"
            ],
            [
             0.3,
             "#f1b6da"
            ],
            [
             0.4,
             "#fde0ef"
            ],
            [
             0.5,
             "#f7f7f7"
            ],
            [
             0.6,
             "#e6f5d0"
            ],
            [
             0.7,
             "#b8e186"
            ],
            [
             0.8,
             "#7fbc41"
            ],
            [
             0.9,
             "#4d9221"
            ],
            [
             1,
             "#276419"
            ]
           ],
           "sequential": [
            [
             0,
             "#0d0887"
            ],
            [
             0.1111111111111111,
             "#46039f"
            ],
            [
             0.2222222222222222,
             "#7201a8"
            ],
            [
             0.3333333333333333,
             "#9c179e"
            ],
            [
             0.4444444444444444,
             "#bd3786"
            ],
            [
             0.5555555555555556,
             "#d8576b"
            ],
            [
             0.6666666666666666,
             "#ed7953"
            ],
            [
             0.7777777777777778,
             "#fb9f3a"
            ],
            [
             0.8888888888888888,
             "#fdca26"
            ],
            [
             1,
             "#f0f921"
            ]
           ],
           "sequentialminus": [
            [
             0,
             "#0d0887"
            ],
            [
             0.1111111111111111,
             "#46039f"
            ],
            [
             0.2222222222222222,
             "#7201a8"
            ],
            [
             0.3333333333333333,
             "#9c179e"
            ],
            [
             0.4444444444444444,
             "#bd3786"
            ],
            [
             0.5555555555555556,
             "#d8576b"
            ],
            [
             0.6666666666666666,
             "#ed7953"
            ],
            [
             0.7777777777777778,
             "#fb9f3a"
            ],
            [
             0.8888888888888888,
             "#fdca26"
            ],
            [
             1,
             "#f0f921"
            ]
           ]
          },
          "colorway": [
           "#636efa",
           "#EF553B",
           "#00cc96",
           "#ab63fa",
           "#FFA15A",
           "#19d3f3",
           "#FF6692",
           "#B6E880",
           "#FF97FF",
           "#FECB52"
          ],
          "font": {
           "color": "#2a3f5f"
          },
          "geo": {
           "bgcolor": "white",
           "lakecolor": "white",
           "landcolor": "#E5ECF6",
           "showlakes": true,
           "showland": true,
           "subunitcolor": "white"
          },
          "hoverlabel": {
           "align": "left"
          },
          "hovermode": "closest",
          "mapbox": {
           "style": "light"
          },
          "paper_bgcolor": "white",
          "plot_bgcolor": "#E5ECF6",
          "polar": {
           "angularaxis": {
            "gridcolor": "white",
            "linecolor": "white",
            "ticks": ""
           },
           "bgcolor": "#E5ECF6",
           "radialaxis": {
            "gridcolor": "white",
            "linecolor": "white",
            "ticks": ""
           }
          },
          "scene": {
           "xaxis": {
            "backgroundcolor": "#E5ECF6",
            "gridcolor": "white",
            "gridwidth": 2,
            "linecolor": "white",
            "showbackground": true,
            "ticks": "",
            "zerolinecolor": "white"
           },
           "yaxis": {
            "backgroundcolor": "#E5ECF6",
            "gridcolor": "white",
            "gridwidth": 2,
            "linecolor": "white",
            "showbackground": true,
            "ticks": "",
            "zerolinecolor": "white"
           },
           "zaxis": {
            "backgroundcolor": "#E5ECF6",
            "gridcolor": "white",
            "gridwidth": 2,
            "linecolor": "white",
            "showbackground": true,
            "ticks": "",
            "zerolinecolor": "white"
           }
          },
          "shapedefaults": {
           "line": {
            "color": "#2a3f5f"
           }
          },
          "ternary": {
           "aaxis": {
            "gridcolor": "white",
            "linecolor": "white",
            "ticks": ""
           },
           "baxis": {
            "gridcolor": "white",
            "linecolor": "white",
            "ticks": ""
           },
           "bgcolor": "#E5ECF6",
           "caxis": {
            "gridcolor": "white",
            "linecolor": "white",
            "ticks": ""
           }
          },
          "title": {
           "x": 0.05
          },
          "xaxis": {
           "automargin": true,
           "gridcolor": "white",
           "linecolor": "white",
           "ticks": "",
           "title": {
            "standoff": 15
           },
           "zerolinecolor": "white",
           "zerolinewidth": 2
          },
          "yaxis": {
           "automargin": true,
           "gridcolor": "white",
           "linecolor": "white",
           "ticks": "",
           "title": {
            "standoff": 15
           },
           "zerolinecolor": "white",
           "zerolinewidth": 2
          }
         }
        },
        "title": {
         "text": "Human or nature cause?"
        },
        "width": 900
       }
      }
     },
     "metadata": {},
     "output_type": "display_data"
    }
   ],
   "source": [
    "#plot a map with the proportion of people recognizing human origins of climate change in each country as a colorcode\n",
    "fig = px.choropleth(yes_map, locationmode= 'ISO-3',locations='country_alpha_3', color='ccnthum_yes', projection='natural earth'\n",
    ", color_continuous_scale=colormap_ccnthum, title=\"Human or nature cause?\", width=900, height=600)\n",
    "fig.update_geos(center=dict(lon=10, lat=55),\n",
    "    lataxis_range=[0,55], lonaxis_range=[0, 80])\n",
    "fig.show()"
   ]
  },
  {
   "cell_type": "markdown",
   "metadata": {},
   "source": [
    "Regarding the beliefs on the origin of climate change, countries in the Meridional and Central Europe tend to attribute more weight to human activities relative to Northen and Eastern Europe."
   ]
  },
  {
   "cell_type": "code",
   "execution_count": 68,
   "metadata": {},
   "outputs": [
    {
     "data": {
      "application/vnd.plotly.v1+json": {
       "config": {
        "plotlyServerURL": "https://plot.ly"
       },
       "data": [
        {
         "coloraxis": "coloraxis",
         "geo": "geo",
         "hovertemplate": "country_alpha_3=%{location}<br>ccrdprs_yes=%{z}<extra></extra>",
         "locationmode": "ISO-3",
         "locations": [
          "AUT",
          "BEL",
          "CHE",
          "CZE",
          "DEU",
          "EST",
          "ESP",
          "FIN",
          "FRA",
          "GBR",
          "HUN",
          "IRL",
          "ISR",
          "ISL",
          "ITA",
          "LTU",
          "NLD",
          "NOR",
          "POL",
          "PRT",
          "RUS",
          "SWE",
          "SVN"
         ],
         "name": "",
         "type": "choropleth",
         "z": [
          55.3,
          54,
          74.9,
          19.2,
          67.6,
          34.4,
          55.4,
          68.9,
          73.7,
          60.9,
          26.2,
          53.8,
          50.9,
          64.1,
          39.4,
          35.4,
          56.2,
          63.2,
          46.8,
          51.4,
          25.3,
          67.8,
          40.2
         ]
        }
       ],
       "layout": {
        "coloraxis": {
         "colorbar": {
          "title": {
           "text": "ccrdprs_yes"
          }
         },
         "colorscale": [
          [
           0,
           "#c37732"
          ],
          [
           0.1,
           "#c35a32"
          ],
          [
           0.2,
           "#bc4742"
          ],
          [
           0.3,
           "#af3750"
          ],
          [
           0.4,
           "#9c2e5c"
          ],
          [
           0.5,
           "#832b65"
          ],
          [
           0.6,
           "#672c69"
          ],
          [
           0.7,
           "#462c68"
          ],
          [
           0.8,
           "#202b62"
          ],
          [
           0.9,
           "#101041"
          ],
          [
           1,
           "#08042a"
          ]
         ]
        },
        "geo": {
         "center": {
          "lat": 55,
          "lon": 10
         },
         "domain": {
          "x": [
           0,
           1
          ],
          "y": [
           0,
           1
          ]
         },
         "lataxis": {
          "range": [
           0,
           55
          ]
         },
         "lonaxis": {
          "range": [
           0,
           80
          ]
         },
         "projection": {
          "type": "natural earth"
         }
        },
        "height": 600,
        "legend": {
         "tracegroupgap": 0
        },
        "template": {
         "data": {
          "bar": [
           {
            "error_x": {
             "color": "#2a3f5f"
            },
            "error_y": {
             "color": "#2a3f5f"
            },
            "marker": {
             "line": {
              "color": "#E5ECF6",
              "width": 0.5
             },
             "pattern": {
              "fillmode": "overlay",
              "size": 10,
              "solidity": 0.2
             }
            },
            "type": "bar"
           }
          ],
          "barpolar": [
           {
            "marker": {
             "line": {
              "color": "#E5ECF6",
              "width": 0.5
             },
             "pattern": {
              "fillmode": "overlay",
              "size": 10,
              "solidity": 0.2
             }
            },
            "type": "barpolar"
           }
          ],
          "carpet": [
           {
            "aaxis": {
             "endlinecolor": "#2a3f5f",
             "gridcolor": "white",
             "linecolor": "white",
             "minorgridcolor": "white",
             "startlinecolor": "#2a3f5f"
            },
            "baxis": {
             "endlinecolor": "#2a3f5f",
             "gridcolor": "white",
             "linecolor": "white",
             "minorgridcolor": "white",
             "startlinecolor": "#2a3f5f"
            },
            "type": "carpet"
           }
          ],
          "choropleth": [
           {
            "colorbar": {
             "outlinewidth": 0,
             "ticks": ""
            },
            "type": "choropleth"
           }
          ],
          "contour": [
           {
            "colorbar": {
             "outlinewidth": 0,
             "ticks": ""
            },
            "colorscale": [
             [
              0,
              "#0d0887"
             ],
             [
              0.1111111111111111,
              "#46039f"
             ],
             [
              0.2222222222222222,
              "#7201a8"
             ],
             [
              0.3333333333333333,
              "#9c179e"
             ],
             [
              0.4444444444444444,
              "#bd3786"
             ],
             [
              0.5555555555555556,
              "#d8576b"
             ],
             [
              0.6666666666666666,
              "#ed7953"
             ],
             [
              0.7777777777777778,
              "#fb9f3a"
             ],
             [
              0.8888888888888888,
              "#fdca26"
             ],
             [
              1,
              "#f0f921"
             ]
            ],
            "type": "contour"
           }
          ],
          "contourcarpet": [
           {
            "colorbar": {
             "outlinewidth": 0,
             "ticks": ""
            },
            "type": "contourcarpet"
           }
          ],
          "heatmap": [
           {
            "colorbar": {
             "outlinewidth": 0,
             "ticks": ""
            },
            "colorscale": [
             [
              0,
              "#0d0887"
             ],
             [
              0.1111111111111111,
              "#46039f"
             ],
             [
              0.2222222222222222,
              "#7201a8"
             ],
             [
              0.3333333333333333,
              "#9c179e"
             ],
             [
              0.4444444444444444,
              "#bd3786"
             ],
             [
              0.5555555555555556,
              "#d8576b"
             ],
             [
              0.6666666666666666,
              "#ed7953"
             ],
             [
              0.7777777777777778,
              "#fb9f3a"
             ],
             [
              0.8888888888888888,
              "#fdca26"
             ],
             [
              1,
              "#f0f921"
             ]
            ],
            "type": "heatmap"
           }
          ],
          "heatmapgl": [
           {
            "colorbar": {
             "outlinewidth": 0,
             "ticks": ""
            },
            "colorscale": [
             [
              0,
              "#0d0887"
             ],
             [
              0.1111111111111111,
              "#46039f"
             ],
             [
              0.2222222222222222,
              "#7201a8"
             ],
             [
              0.3333333333333333,
              "#9c179e"
             ],
             [
              0.4444444444444444,
              "#bd3786"
             ],
             [
              0.5555555555555556,
              "#d8576b"
             ],
             [
              0.6666666666666666,
              "#ed7953"
             ],
             [
              0.7777777777777778,
              "#fb9f3a"
             ],
             [
              0.8888888888888888,
              "#fdca26"
             ],
             [
              1,
              "#f0f921"
             ]
            ],
            "type": "heatmapgl"
           }
          ],
          "histogram": [
           {
            "marker": {
             "pattern": {
              "fillmode": "overlay",
              "size": 10,
              "solidity": 0.2
             }
            },
            "type": "histogram"
           }
          ],
          "histogram2d": [
           {
            "colorbar": {
             "outlinewidth": 0,
             "ticks": ""
            },
            "colorscale": [
             [
              0,
              "#0d0887"
             ],
             [
              0.1111111111111111,
              "#46039f"
             ],
             [
              0.2222222222222222,
              "#7201a8"
             ],
             [
              0.3333333333333333,
              "#9c179e"
             ],
             [
              0.4444444444444444,
              "#bd3786"
             ],
             [
              0.5555555555555556,
              "#d8576b"
             ],
             [
              0.6666666666666666,
              "#ed7953"
             ],
             [
              0.7777777777777778,
              "#fb9f3a"
             ],
             [
              0.8888888888888888,
              "#fdca26"
             ],
             [
              1,
              "#f0f921"
             ]
            ],
            "type": "histogram2d"
           }
          ],
          "histogram2dcontour": [
           {
            "colorbar": {
             "outlinewidth": 0,
             "ticks": ""
            },
            "colorscale": [
             [
              0,
              "#0d0887"
             ],
             [
              0.1111111111111111,
              "#46039f"
             ],
             [
              0.2222222222222222,
              "#7201a8"
             ],
             [
              0.3333333333333333,
              "#9c179e"
             ],
             [
              0.4444444444444444,
              "#bd3786"
             ],
             [
              0.5555555555555556,
              "#d8576b"
             ],
             [
              0.6666666666666666,
              "#ed7953"
             ],
             [
              0.7777777777777778,
              "#fb9f3a"
             ],
             [
              0.8888888888888888,
              "#fdca26"
             ],
             [
              1,
              "#f0f921"
             ]
            ],
            "type": "histogram2dcontour"
           }
          ],
          "mesh3d": [
           {
            "colorbar": {
             "outlinewidth": 0,
             "ticks": ""
            },
            "type": "mesh3d"
           }
          ],
          "parcoords": [
           {
            "line": {
             "colorbar": {
              "outlinewidth": 0,
              "ticks": ""
             }
            },
            "type": "parcoords"
           }
          ],
          "pie": [
           {
            "automargin": true,
            "type": "pie"
           }
          ],
          "scatter": [
           {
            "marker": {
             "colorbar": {
              "outlinewidth": 0,
              "ticks": ""
             }
            },
            "type": "scatter"
           }
          ],
          "scatter3d": [
           {
            "line": {
             "colorbar": {
              "outlinewidth": 0,
              "ticks": ""
             }
            },
            "marker": {
             "colorbar": {
              "outlinewidth": 0,
              "ticks": ""
             }
            },
            "type": "scatter3d"
           }
          ],
          "scattercarpet": [
           {
            "marker": {
             "colorbar": {
              "outlinewidth": 0,
              "ticks": ""
             }
            },
            "type": "scattercarpet"
           }
          ],
          "scattergeo": [
           {
            "marker": {
             "colorbar": {
              "outlinewidth": 0,
              "ticks": ""
             }
            },
            "type": "scattergeo"
           }
          ],
          "scattergl": [
           {
            "marker": {
             "colorbar": {
              "outlinewidth": 0,
              "ticks": ""
             }
            },
            "type": "scattergl"
           }
          ],
          "scattermapbox": [
           {
            "marker": {
             "colorbar": {
              "outlinewidth": 0,
              "ticks": ""
             }
            },
            "type": "scattermapbox"
           }
          ],
          "scatterpolar": [
           {
            "marker": {
             "colorbar": {
              "outlinewidth": 0,
              "ticks": ""
             }
            },
            "type": "scatterpolar"
           }
          ],
          "scatterpolargl": [
           {
            "marker": {
             "colorbar": {
              "outlinewidth": 0,
              "ticks": ""
             }
            },
            "type": "scatterpolargl"
           }
          ],
          "scatterternary": [
           {
            "marker": {
             "colorbar": {
              "outlinewidth": 0,
              "ticks": ""
             }
            },
            "type": "scatterternary"
           }
          ],
          "surface": [
           {
            "colorbar": {
             "outlinewidth": 0,
             "ticks": ""
            },
            "colorscale": [
             [
              0,
              "#0d0887"
             ],
             [
              0.1111111111111111,
              "#46039f"
             ],
             [
              0.2222222222222222,
              "#7201a8"
             ],
             [
              0.3333333333333333,
              "#9c179e"
             ],
             [
              0.4444444444444444,
              "#bd3786"
             ],
             [
              0.5555555555555556,
              "#d8576b"
             ],
             [
              0.6666666666666666,
              "#ed7953"
             ],
             [
              0.7777777777777778,
              "#fb9f3a"
             ],
             [
              0.8888888888888888,
              "#fdca26"
             ],
             [
              1,
              "#f0f921"
             ]
            ],
            "type": "surface"
           }
          ],
          "table": [
           {
            "cells": {
             "fill": {
              "color": "#EBF0F8"
             },
             "line": {
              "color": "white"
             }
            },
            "header": {
             "fill": {
              "color": "#C8D4E3"
             },
             "line": {
              "color": "white"
             }
            },
            "type": "table"
           }
          ]
         },
         "layout": {
          "annotationdefaults": {
           "arrowcolor": "#2a3f5f",
           "arrowhead": 0,
           "arrowwidth": 1
          },
          "autotypenumbers": "strict",
          "coloraxis": {
           "colorbar": {
            "outlinewidth": 0,
            "ticks": ""
           }
          },
          "colorscale": {
           "diverging": [
            [
             0,
             "#8e0152"
            ],
            [
             0.1,
             "#c51b7d"
            ],
            [
             0.2,
             "#de77ae"
            ],
            [
             0.3,
             "#f1b6da"
            ],
            [
             0.4,
             "#fde0ef"
            ],
            [
             0.5,
             "#f7f7f7"
            ],
            [
             0.6,
             "#e6f5d0"
            ],
            [
             0.7,
             "#b8e186"
            ],
            [
             0.8,
             "#7fbc41"
            ],
            [
             0.9,
             "#4d9221"
            ],
            [
             1,
             "#276419"
            ]
           ],
           "sequential": [
            [
             0,
             "#0d0887"
            ],
            [
             0.1111111111111111,
             "#46039f"
            ],
            [
             0.2222222222222222,
             "#7201a8"
            ],
            [
             0.3333333333333333,
             "#9c179e"
            ],
            [
             0.4444444444444444,
             "#bd3786"
            ],
            [
             0.5555555555555556,
             "#d8576b"
            ],
            [
             0.6666666666666666,
             "#ed7953"
            ],
            [
             0.7777777777777778,
             "#fb9f3a"
            ],
            [
             0.8888888888888888,
             "#fdca26"
            ],
            [
             1,
             "#f0f921"
            ]
           ],
           "sequentialminus": [
            [
             0,
             "#0d0887"
            ],
            [
             0.1111111111111111,
             "#46039f"
            ],
            [
             0.2222222222222222,
             "#7201a8"
            ],
            [
             0.3333333333333333,
             "#9c179e"
            ],
            [
             0.4444444444444444,
             "#bd3786"
            ],
            [
             0.5555555555555556,
             "#d8576b"
            ],
            [
             0.6666666666666666,
             "#ed7953"
            ],
            [
             0.7777777777777778,
             "#fb9f3a"
            ],
            [
             0.8888888888888888,
             "#fdca26"
            ],
            [
             1,
             "#f0f921"
            ]
           ]
          },
          "colorway": [
           "#636efa",
           "#EF553B",
           "#00cc96",
           "#ab63fa",
           "#FFA15A",
           "#19d3f3",
           "#FF6692",
           "#B6E880",
           "#FF97FF",
           "#FECB52"
          ],
          "font": {
           "color": "#2a3f5f"
          },
          "geo": {
           "bgcolor": "white",
           "lakecolor": "white",
           "landcolor": "#E5ECF6",
           "showlakes": true,
           "showland": true,
           "subunitcolor": "white"
          },
          "hoverlabel": {
           "align": "left"
          },
          "hovermode": "closest",
          "mapbox": {
           "style": "light"
          },
          "paper_bgcolor": "white",
          "plot_bgcolor": "#E5ECF6",
          "polar": {
           "angularaxis": {
            "gridcolor": "white",
            "linecolor": "white",
            "ticks": ""
           },
           "bgcolor": "#E5ECF6",
           "radialaxis": {
            "gridcolor": "white",
            "linecolor": "white",
            "ticks": ""
           }
          },
          "scene": {
           "xaxis": {
            "backgroundcolor": "#E5ECF6",
            "gridcolor": "white",
            "gridwidth": 2,
            "linecolor": "white",
            "showbackground": true,
            "ticks": "",
            "zerolinecolor": "white"
           },
           "yaxis": {
            "backgroundcolor": "#E5ECF6",
            "gridcolor": "white",
            "gridwidth": 2,
            "linecolor": "white",
            "showbackground": true,
            "ticks": "",
            "zerolinecolor": "white"
           },
           "zaxis": {
            "backgroundcolor": "#E5ECF6",
            "gridcolor": "white",
            "gridwidth": 2,
            "linecolor": "white",
            "showbackground": true,
            "ticks": "",
            "zerolinecolor": "white"
           }
          },
          "shapedefaults": {
           "line": {
            "color": "#2a3f5f"
           }
          },
          "ternary": {
           "aaxis": {
            "gridcolor": "white",
            "linecolor": "white",
            "ticks": ""
           },
           "baxis": {
            "gridcolor": "white",
            "linecolor": "white",
            "ticks": ""
           },
           "bgcolor": "#E5ECF6",
           "caxis": {
            "gridcolor": "white",
            "linecolor": "white",
            "ticks": ""
           }
          },
          "title": {
           "x": 0.05
          },
          "xaxis": {
           "automargin": true,
           "gridcolor": "white",
           "linecolor": "white",
           "ticks": "",
           "title": {
            "standoff": 15
           },
           "zerolinecolor": "white",
           "zerolinewidth": 2
          },
          "yaxis": {
           "automargin": true,
           "gridcolor": "white",
           "linecolor": "white",
           "ticks": "",
           "title": {
            "standoff": 15
           },
           "zerolinecolor": "white",
           "zerolinewidth": 2
          }
         }
        },
        "title": {
         "text": "Personal responsibility?"
        },
        "width": 900
       }
      }
     },
     "metadata": {},
     "output_type": "display_data"
    }
   ],
   "source": [
    "#plot a map with the proportion of people feeling a personal responsibility to try to reduce climate change in each country as a colorcode\n",
    "fig = px.choropleth(yes_map, locationmode= 'ISO-3',locations='country_alpha_3', color='ccrdprs_yes', projection='natural earth'\n",
    ", color_continuous_scale=colormap_ccrdprs, title=\"Personal responsibility?\", width=900, height=600)\n",
    "fig.update_geos(center=dict(lon=10, lat=55),\n",
    "    lataxis_range=[0,55], lonaxis_range=[0, 80])\n",
    "fig.show()"
   ]
  },
  {
   "cell_type": "markdown",
   "metadata": {},
   "source": [
    "The geographical distribution of the scores regarding the feelings of personal responsibilities is more diverse. With lower scores for the South-East Europe, and higher scores for the North-West Europe."
   ]
  },
  {
   "cell_type": "markdown",
   "metadata": {},
   "source": [
    "So each country has a particular combination of high and low scores. Looking at a country lowest score could serve as a hint to know in which domain could be improved.\n",
    "\n",
    "Anyway, these are single-countries considerations. What if we want to understand if there is a more general relationship between those 3 questions? One way to test for this is looking for correlations."
   ]
  },
  {
   "cell_type": "code",
   "execution_count": 70,
   "metadata": {},
   "outputs": [
    {
     "name": "stdout",
     "output_type": "stream",
     "text": [
      "Change-Human correlation: R=0.46, p_value=0.03\n",
      "Human-Responsibility correlation: R=0.42, p_value=0.05\n"
     ]
    }
   ],
   "source": [
    "#compute pearson correlations\n",
    "corr_ch = pearsonr(yes_map['clmchng_yes'],yes_map['ccnthum_yes'])\n",
    "corr_hr = pearsonr(yes_map['ccnthum_yes'],yes_map['ccrdprs_yes'])\n",
    "\n",
    "#store correlation r\n",
    "ch_r = round(corr_ch[0],2)\n",
    "hr_r = round(corr_hr[0],2)\n",
    "\n",
    "print(f\"Change-Human correlation: R={ch_r}, p_value={round(corr_ch[1],2)}\")\n",
    "print(f\"Human-Responsibility correlation: R={hr_r}, p_value={round(corr_hr[1],2)}\")"
   ]
  },
  {
   "cell_type": "markdown",
   "metadata": {},
   "source": [
    "To better understand what it means, let's plot these results."
   ]
  },
  {
   "cell_type": "code",
   "execution_count": 71,
   "metadata": {},
   "outputs": [
    {
     "data": {
      "image/png": "[encoded data removed]",
      "text/plain": [
       "<Figure size 1440x720 with 2 Axes>"
      ]
     },
     "metadata": {
      "needs_background": "light"
     },
     "output_type": "display_data"
    }
   ],
   "source": [
    "#extract array with a measure of the population size of each country\n",
    "cntry_size = df[['cntry','pweight']].groupby('cntry').mean()\n",
    "\n",
    "#build a scatter plot with regressions lines\n",
    "fig, axs = plt.subplots(1,2,figsize=(20,10))\n",
    "axs[0].scatter(yes_map['clmchng_yes'],yes_map['ccnthum_yes'], s=cntry_size['pweight']*350, alpha=0.5); axs[0].set_xlabel(\"Climate Change?\", fontsize=20); axs[0].set_ylabel(\"Human Cause?\", fontsize=20); m, b = np.polyfit(yes_map['clmchng_yes'],yes_map['ccnthum_yes'], 1); axs[0].plot(yes_map['clmchng_yes'], m*yes_map['clmchng_yes'] + b, color='#FF6962'); axs[0].annotate(\"Pearson r: \" + str(ch_r) + \" *\", (84,42), color='#FF6962', fontsize=15);\n",
    "axs[1].scatter(yes_map['ccnthum_yes'],yes_map['ccrdprs_yes'], s=cntry_size['pweight']*350, alpha=0.5); axs[1].set_xlabel(\"Human Cause?\", fontsize=20); axs[1].set_ylabel(\"Personal Responsibility?\", fontsize=20); m, b = np.polyfit(yes_map['ccnthum_yes'],yes_map['ccrdprs_yes'], 1); axs[1].plot(yes_map['ccnthum_yes'], m*yes_map['ccnthum_yes'] + b, color='#FF6962'); axs[1].annotate(\"Pearson r: \" + str(hr_r) + \" *\", (48,59), color='#FF6962', fontsize=15);\n",
    "for i,txt in enumerate(yes_map['country_alpha_3']):\n",
    "    axs[0].annotate(\"  \" +str(txt), (yes_map['clmchng_yes'][i],yes_map['ccnthum_yes'][i]), size=9, weight='bold')\n",
    "    axs[1].annotate(\"  \" +str(txt), (yes_map['ccnthum_yes'][i],yes_map['ccrdprs_yes'][i]), size=9, weight='bold')"
   ]
  },
  {
   "cell_type": "markdown",
   "metadata": {},
   "source": [
    "There is a significant correlation between the proportion of people living in a country recognizing climate change and the proportion of people in the same country ascribing climate change to human activities.\n",
    "\n",
    "A significant correlation is also found between the proportion of people ascribing climate change to human activities and the proportion of people in the same country feeling a personal responsibility to try to reduce climate change.\n",
    "\n",
    "So, despite the individual differences, this general trend could suggest that increasing any of these scores might benefit also the other scores. \n",
    "\n",
    "*(Note: correlation doens't mean causation. So it is possible that there is a common hidden variable that is modulating our three variables of interest.)*"
   ]
  },
  {
   "cell_type": "markdown",
   "metadata": {},
   "source": [
    "### BONUS: Are there apparently unrelated factors that are instead related to climate change beliefs?"
   ]
  },
  {
   "cell_type": "markdown",
   "metadata": {},
   "source": [
    "To test this, we will use a statistical model."
   ]
  },
  {
   "cell_type": "code",
   "execution_count": 75,
   "metadata": {},
   "outputs": [],
   "source": [
    "from sklearn.model_selection import train_test_split\n",
    "from statsmodels.miscmodels.ordinal_model import OrderedModel"
   ]
  },
  {
   "cell_type": "markdown",
   "metadata": {},
   "source": [
    "Let's build a new dataset with the variables we are now investigating: the previous three variables + # years of age, # education years, # minutes of internet usage per day, # minutes on political news per day, # working hours per week.\n",
    "\n",
    "Just as before we will consider those special values as nulls."
   ]
  },
  {
   "cell_type": "code",
   "execution_count": 72,
   "metadata": {},
   "outputs": [
    {
     "data": {
      "text/html": [
       "<div>\n",
       "<style scoped>\n",
       "    .dataframe tbody tr th:only-of-type {\n",
       "        vertical-align: middle;\n",
       "    }\n",
       "\n",
       "    .dataframe tbody tr th {\n",
       "        vertical-align: top;\n",
       "    }\n",
       "\n",
       "    .dataframe thead th {\n",
       "        text-align: right;\n",
       "    }\n",
       "</style>\n",
       "<table border=\"1\" class=\"dataframe\">\n",
       "  <thead>\n",
       "    <tr style=\"text-align: right;\">\n",
       "      <th></th>\n",
       "      <th>clmchng</th>\n",
       "      <th>ccnthum</th>\n",
       "      <th>ccrdprs</th>\n",
       "      <th>agea</th>\n",
       "      <th>eduyrs</th>\n",
       "      <th>netustm</th>\n",
       "      <th>nwspol</th>\n",
       "      <th>wkhct</th>\n",
       "    </tr>\n",
       "  </thead>\n",
       "  <tbody>\n",
       "    <tr>\n",
       "      <th>0</th>\n",
       "      <td>1.0</td>\n",
       "      <td>4.0</td>\n",
       "      <td>8.0</td>\n",
       "      <td>34.0</td>\n",
       "      <td>21.0</td>\n",
       "      <td>180.0</td>\n",
       "      <td>120.0</td>\n",
       "      <td>25.0</td>\n",
       "    </tr>\n",
       "    <tr>\n",
       "      <th>1</th>\n",
       "      <td>1.0</td>\n",
       "      <td>4.0</td>\n",
       "      <td>7.0</td>\n",
       "      <td>52.0</td>\n",
       "      <td>16.0</td>\n",
       "      <td>120.0</td>\n",
       "      <td>120.0</td>\n",
       "      <td>NaN</td>\n",
       "    </tr>\n",
       "    <tr>\n",
       "      <th>2</th>\n",
       "      <td>1.0</td>\n",
       "      <td>4.0</td>\n",
       "      <td>8.0</td>\n",
       "      <td>68.0</td>\n",
       "      <td>13.0</td>\n",
       "      <td>NaN</td>\n",
       "      <td>30.0</td>\n",
       "      <td>38.0</td>\n",
       "    </tr>\n",
       "    <tr>\n",
       "      <th>3</th>\n",
       "      <td>2.0</td>\n",
       "      <td>3.0</td>\n",
       "      <td>6.0</td>\n",
       "      <td>54.0</td>\n",
       "      <td>12.0</td>\n",
       "      <td>120.0</td>\n",
       "      <td>30.0</td>\n",
       "      <td>40.0</td>\n",
       "    </tr>\n",
       "    <tr>\n",
       "      <th>4</th>\n",
       "      <td>1.0</td>\n",
       "      <td>4.0</td>\n",
       "      <td>6.0</td>\n",
       "      <td>20.0</td>\n",
       "      <td>13.0</td>\n",
       "      <td>180.0</td>\n",
       "      <td>30.0</td>\n",
       "      <td>40.0</td>\n",
       "    </tr>\n",
       "  </tbody>\n",
       "</table>\n",
       "</div>"
      ],
      "text/plain": [
       "   clmchng  ccnthum  ccrdprs  agea  eduyrs  netustm  nwspol  wkhct\n",
       "0      1.0      4.0      8.0  34.0    21.0    180.0   120.0   25.0\n",
       "1      1.0      4.0      7.0  52.0    16.0    120.0   120.0    NaN\n",
       "2      1.0      4.0      8.0  68.0    13.0      NaN    30.0   38.0\n",
       "3      2.0      3.0      6.0  54.0    12.0    120.0    30.0   40.0\n",
       "4      1.0      4.0      6.0  20.0    13.0    180.0    30.0   40.0"
      ]
     },
     "execution_count": 72,
     "metadata": {},
     "output_type": "execute_result"
    }
   ],
   "source": [
    "#Extract a new sub-set of the full dataset\n",
    "df_reg = df_full[['clmchng','ccnthum','ccrdprs','agea','eduyrs','netustm','nwspol','wkhct']]\n",
    "\n",
    "#consider \"Not applicable\", \"Refusal\", \"Don't know\", \"No answer\" and other answers as missing values \n",
    "df_reg['clmchng'].replace(dict.fromkeys([7,8,9],np.NaN),inplace=True) \n",
    "df_reg['ccnthum'].replace(dict.fromkeys([55,66,77,88,99],np.NaN),inplace=True)\n",
    "df_reg['ccrdprs'].replace(dict.fromkeys([66,77,88,99],np.NaN),inplace=True)\n",
    "df_reg['agea'].replace(999,np.NaN,inplace=True)\n",
    "df_reg['eduyrs'].replace(dict.fromkeys([77,88,99],np.NaN),inplace=True)\n",
    "df_reg['netustm'].replace(dict.fromkeys([6666,7777,8888,9999],np.NaN),inplace=True)\n",
    "df_reg['nwspol'].replace(dict.fromkeys([7777,8888,9999],np.NaN),inplace=True)\n",
    "df_reg['wkhct'].replace(dict.fromkeys([666,777,888,999],np.NaN),inplace=True)\n",
    "\n",
    "df_reg.head()"
   ]
  },
  {
   "cell_type": "markdown",
   "metadata": {},
   "source": [
    "We will use our three initial questions on climate change as dependent variables, one at a time. So now we differenciate data in three dataframes, each one having all the values of the respective variable as valid scores (removing nans)."
   ]
  },
  {
   "cell_type": "code",
   "execution_count": 73,
   "metadata": {},
   "outputs": [],
   "source": [
    "#define dataframe where rows containing nans in the 'clmchng' columns are dropped\n",
    "df_reg_cc = df_reg.dropna(subset=['clmchng'],axis=0)\n",
    "#reverse the scores to be coherent with the other two questions: higher score means more recognition to climate change\n",
    "df_reg_cc['clmchng'] = -df_reg_cc['clmchng']\n",
    "\n",
    "#define dataframe where rows containing nans in the 'ccnthum' columns are dropped\n",
    "df_reg_ch = df_reg.dropna(subset=['ccnthum'],axis=0)\n",
    "\n",
    "#define dataframe where rows containing nans in the 'ccrdprs' columns are dropped\n",
    "df_reg_pr = df_reg.dropna(subset=['ccrdprs'],axis=0)"
   ]
  },
  {
   "cell_type": "markdown",
   "metadata": {},
   "source": [
    "We have data ready to fit three different Ordinal Logistic Regression models, one with each climate change question as dependent variable.\n",
    "\n",
    "Note that we do not use a simple Linear Regression model here because our climate change variables are ordinal."
   ]
  },
  {
   "cell_type": "code",
   "execution_count": 80,
   "metadata": {},
   "outputs": [
    {
     "name": "stdout",
     "output_type": "stream",
     "text": [
      "Optimization terminated successfully.\n",
      "         Current function value: 0.911958\n",
      "         Iterations: 26\n",
      "         Function evaluations: 29\n",
      "         Gradient evaluations: 29\n",
      "Optimization terminated successfully.\n",
      "         Current function value: 1.164544\n",
      "         Iterations: 26\n",
      "         Function evaluations: 29\n",
      "         Gradient evaluations: 29\n",
      "Optimization terminated successfully.\n",
      "         Current function value: 2.256977\n",
      "         Iterations: 40\n",
      "         Function evaluations: 46\n",
      "         Gradient evaluations: 46\n"
     ]
    },
    {
     "data": {
      "image/png": "[encoded data removed]",
      "text/plain": [
       "<Figure size 1296x360 with 3 Axes>"
      ]
     },
     "metadata": {
      "needs_background": "light"
     },
     "output_type": "display_data"
    }
   ],
   "source": [
    "#build a subplot structure\n",
    "fig, axs = plt.subplots(1,3,figsize=(18,5))\n",
    "#define lists used in the loop\n",
    "df_list = [df_reg_cc,df_reg_ch,df_reg_pr]\n",
    "y_list = ['clmchng','ccnthum','ccrdprs']\n",
    "title_list = [\"World's climate is changing?\",\"Human or nature cause?\",\"Personal responsibility?\"]\n",
    "\n",
    "for d,df_plotted in enumerate(df_list):\n",
    "\n",
    "    #define the predictor matrix X containing 5 variables: 'age', 'education years', 'internet use', 'politics news', 'working hours'\n",
    "    X = df_plotted.drop(columns=['clmchng','ccnthum','ccrdprs'])\n",
    "    X = X.apply(lambda col: col.fillna(col.mean()))\n",
    "\n",
    "    #define the dependent variable as one of the variable of interest\n",
    "    y = df_plotted[y_list[d]]\n",
    "\n",
    "    #split in train and test data\n",
    "    X_train, X_test, y_train, y_test = train_test_split(X, y, test_size = .30, random_state=42)\n",
    "\n",
    "    #initialize and fit the ordered logistic model\n",
    "    mod_prob = OrderedModel(y_train,X_train, distr='logit')\n",
    "    res_prob_pr = mod_prob.fit(method='bfgs')\n",
    "\n",
    "    #define how many predictors \n",
    "    n_ind_vars = 5\n",
    "\n",
    "    #extract coefficients from summary table\n",
    "    summary_m = res_prob_pr.summary()\n",
    "    tcoeff = summary_m.tables[1]\n",
    "    coeffs = []\n",
    "    for row in tcoeff.data:\n",
    "        coeffs.append(row[1])\n",
    "\n",
    "    #convert coefficients into a numpy array\n",
    "    coeff_array = np.array(coeffs)[1:n_ind_vars+1].astype(float)\n",
    "\n",
    "    #define colors relative to the positive coff (green) or negative coeff (red)\n",
    "    col_bars = []\n",
    "    for col in coeff_array:\n",
    "        if col >0:\n",
    "            col_bars.append(\"#77DD76\")\n",
    "        else:\n",
    "            col_bars.append(\"#FF6962\")\n",
    "\n",
    "    #plot three horizontal bar charts\n",
    "    axs[d].barh(y=list(range(len(coeff_array))), width=coeff_array, color=col_bars)\n",
    "    axs[d].set_yticks(range(n_ind_vars))\n",
    "    if d == 0:\n",
    "        axs[d].set_yticklabels(['age', 'education years', 'internet use', 'politics news', 'working hours'], fontsize=15)\n",
    "    else:\n",
    "        axs[d].set_yticklabels([])\n",
    "    axs[d].set_xlim([-0.2,0.2])\n",
    "    axs[d].set_xlabel(\"Coefficients\", fontsize=13)\n",
    "    axs[d].axvline(0, color=\"black\");\n",
    "    axs[d].set_title(title_list[d], fontsize=15)\n"
   ]
  },
  {
   "cell_type": "markdown",
   "metadata": {},
   "source": [
    "Results show that the number of years of education is the strongest predictor for each dependent variable: individuals with more years of education have an increased probability of recognizing climate change, ascribing it to human activities, and especially feeling a personal responsibility to try to reduce it."
   ]
  }
 ],
 "metadata": {
  "interpreter": {
   "hash": "c89dac2000cd39b6c6afdbb40384525553e908a214fa5e3caa43ad6708c415f4"
  },
  "kernelspec": {
   "display_name": "Python 3.9.6 64-bit",
   "language": "python",
   "name": "python3"
  },
  "language_info": {
   "codemirror_mode": {
    "name": "ipython",
    "version": 3
   },
   "file_extension": ".py",
   "mimetype": "text/x-python",
   "name": "python",
   "nbconvert_exporter": "python",
   "pygments_lexer": "ipython3",
   "version": "3.9.6"
  },
  "orig_nbformat": 4
 },
 "nbformat": 4,
 "nbformat_minor": 2
}
